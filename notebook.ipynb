{
 "cells": [
  {
   "cell_type": "markdown",
   "metadata": {},
   "source": [
    "# Deploy and monitor a machine learning workflow for Image Classification"
   ]
  },
  {
   "cell_type": "markdown",
   "metadata": {},
   "source": [
    "## Setting up this notebook\n",
    "\n",
    "Notes about the instance size and kernel setup: this notebook has been tested on Sagemaker studio with the following resources: \n",
    "\n",
    "1. The `Python 3 (Data Science)` kernel\n",
    "2. The `ml.t3.medium` instance\n",
    "\n",
    "## Data Staging(ETL):\n",
    "\n",
    "We'll use a sample dataset called CIFAR to simulate the challenges Scones Unlimited are facing in Image Classification. In order to start working with CIFAR we'll need to:\n",
    "\n",
    "1. Extract the data from a hosting service\n",
    "2. Transform it into a usable shape and format\n",
    "3. Load it into a production system"
   ]
  },
  {
   "cell_type": "markdown",
   "metadata": {},
   "source": [
    "\n",
    "### 1. Import the required resources:"
   ]
  },
  {
   "cell_type": "code",
   "execution_count": 187,
   "metadata": {},
   "outputs": [],
   "source": [
    "!pip install jsonlines --quiet"
   ]
  },
  {
   "cell_type": "code",
   "execution_count": 262,
   "metadata": {},
   "outputs": [],
   "source": [
    "import requests\n",
    "import tarfile\n",
    "import pickle\n",
    "import numpy as np\n",
    "import pandas as pd\n",
    "import matplotlib.pyplot as plt\n",
    "import os\n",
    "import boto3\n",
    "import sagemaker\n",
    "from sagemaker import get_execution_role\n",
    "from sagemaker import image_uris\n",
    "from sagemaker.debugger import Rule, rule_configs\n",
    "from sagemaker.session import TrainingInput\n",
    "from sagemaker.model_monitor import DataCaptureConfig\n",
    "from sagemaker.serializers import IdentitySerializer\n",
    "import base64\n",
    "import random\n",
    "import json\n",
    "import jsonlines\n",
    "from sagemaker.s3 import S3Downloader\n",
    "import time\n",
    "import glob\n",
    "import plotly.express as px"
   ]
  },
  {
   "cell_type": "code",
   "execution_count": 2,
   "metadata": {},
   "outputs": [
    {
     "name": "stdout",
     "output_type": "stream",
     "text": [
      "Default Bucket: srs-udacity-aws-2022\n",
      "AWS Region: us-east-1\n",
      "RoleArn: arn:aws:iam::628477620632:role/service-role/AmazonSageMaker-ExecutionRole-20220219T175720\n"
     ]
    }
   ],
   "source": [
    "session = sagemaker.session.Session()\n",
    "\n",
    "bucket= 'srs-udacity-aws-2022'\n",
    "print(\"Default Bucket: {}\".format(bucket))\n",
    "\n",
    "region = session.boto_region_name\n",
    "print(\"AWS Region: {}\".format(region))\n",
    "\n",
    "role =  get_execution_role()\n",
    "print(\"RoleArn: {}\".format(role))"
   ]
  },
  {
   "cell_type": "markdown",
   "metadata": {},
   "source": [
    "### 2. Extract the data from the hosting service\n",
    "\n",
    "In the cell below, define a function `extract_cifar_data` that extracts python version of the CIFAR-100 dataset. The CIFAR dataaset is open source and generously hosted by the University of Toronto at: https://www.cs.toronto.edu/~kriz/cifar-100-python.tar.gz "
   ]
  },
  {
   "cell_type": "code",
   "execution_count": 4,
   "metadata": {},
   "outputs": [
    {
     "data": {
      "text/plain": [
       "'cifar.tar.gz'"
      ]
     },
     "execution_count": 4,
     "metadata": {},
     "output_type": "execute_result"
    }
   ],
   "source": [
    "def extract_cifar_data(url, filename=\"cifar.tar.gz\"):\n",
    "    \"\"\"\n",
    "    A function for extracting the CIFAR-100 dataset and storing it as a gzipped file\n",
    "    \n",
    "    Arguments:\n",
    "    url      -- the URL where the dataset is hosted\n",
    "    filename -- the full path where the dataset will be written\n",
    "    \n",
    "    \"\"\"\n",
    "    r = requests.get(url, allow_redirects=True)\n",
    "    \n",
    "    with open(filename, \"wb\") as file_context:\n",
    "        file_context.write(r.content)\n",
    "    return filename\n",
    "extract_cifar_data(\"https://www.cs.toronto.edu/~kriz/cifar-100-python.tar.gz\")     "
   ]
  },
  {
   "cell_type": "markdown",
   "metadata": {},
   "source": [
    "### 3. Transform the data into a usable shape and format\n",
    "\n",
    "Clearly, distributing the data as a gzipped archive makes sense for the hosting service! It saves on bandwidth, storage, and it's a widely-used archive format. In fact, it's so widely used that the Python community ships a utility for working with them, `tarfile`, as part of its Standard Library. Execute the following cell to decompress your extracted dataset:"
   ]
  },
  {
   "cell_type": "code",
   "execution_count": 5,
   "metadata": {},
   "outputs": [],
   "source": [
    "with tarfile.open(\"cifar.tar.gz\", \"r:gz\") as tar:\n",
    "    tar.extractall()"
   ]
  },
  {
   "cell_type": "markdown",
   "metadata": {},
   "source": [
    "A new folder `cifar-100-python` should be created, containing `meta`, `test`, and `train` files. These files are `pickles` and the [CIFAR homepage](https://www.cs.toronto.edu/~kriz/cifar.html) provides a simple script that can be used to load them. We've adapted the script below for you to run:"
   ]
  },
  {
   "cell_type": "code",
   "execution_count": 6,
   "metadata": {},
   "outputs": [],
   "source": [
    "with open(\"./cifar-100-python/meta\", \"rb\") as f:\n",
    "    dataset_meta = pickle.load(f, encoding='bytes')\n",
    "\n",
    "with open(\"./cifar-100-python/test\", \"rb\") as f:\n",
    "    dataset_test = pickle.load(f, encoding='bytes')\n",
    "\n",
    "with open(\"./cifar-100-python/train\", \"rb\") as f:\n",
    "    dataset_train = pickle.load(f, encoding='bytes')"
   ]
  },
  {
   "cell_type": "code",
   "execution_count": 7,
   "metadata": {},
   "outputs": [
    {
     "data": {
      "text/plain": [
       "dict_keys([b'filenames', b'batch_label', b'fine_labels', b'coarse_labels', b'data'])"
      ]
     },
     "execution_count": 7,
     "metadata": {},
     "output_type": "execute_result"
    }
   ],
   "source": [
    "dataset_train.keys()"
   ]
  },
  {
   "cell_type": "markdown",
   "metadata": {},
   "source": [
    "As documented on the homepage, `b'data'` contains rows of 3073 unsigned integers, representing three channels (red, green, and blue) for one 32x32 pixel image per row."
   ]
  },
  {
   "cell_type": "code",
   "execution_count": 8,
   "metadata": {},
   "outputs": [
    {
     "data": {
      "text/plain": [
       "3072"
      ]
     },
     "execution_count": 8,
     "metadata": {},
     "output_type": "execute_result"
    }
   ],
   "source": [
    "len(dataset_train[b'data'][0])"
   ]
  },
  {
   "cell_type": "code",
   "execution_count": 9,
   "metadata": {},
   "outputs": [
    {
     "data": {
      "text/plain": [
       "3072"
      ]
     },
     "execution_count": 9,
     "metadata": {},
     "output_type": "execute_result"
    }
   ],
   "source": [
    "32*32*3"
   ]
  },
  {
   "cell_type": "markdown",
   "metadata": {},
   "source": [
    "For a simple gut-check, let's transform one of our images. Each 1024 items in a row is a channel (red, green, then blue). Each 32 items in the channel are a row in the 32x32 image. Using python, we can stack these channels into a 32x32x3 array, and save it as a PNG file:"
   ]
  },
  {
   "cell_type": "code",
   "execution_count": 10,
   "metadata": {},
   "outputs": [
    {
     "data": {
      "text/plain": [
       "32"
      ]
     },
     "execution_count": 10,
     "metadata": {},
     "output_type": "execute_result"
    }
   ],
   "source": [
    "# Each 1024 in a row is a channel (red, green, then blue)\n",
    "row = dataset_train[b'data'][0]\n",
    "red, green, blue = row[0:1024], row[1024:2048], row[2048:]\n",
    "\n",
    "# Each 32 items in the channel are a row in the 32x32 image\n",
    "red = red.reshape(32,32)\n",
    "green = green.reshape(32,32)\n",
    "blue = blue.reshape(32,32)\n",
    "\n",
    "# Combine the channels into a 32x32x3 image!\n",
    "combined = np.dstack((red,green,blue))\n",
    "len(combined)"
   ]
  },
  {
   "cell_type": "code",
   "execution_count": 11,
   "metadata": {},
   "outputs": [
    {
     "data": {
      "text/plain": [
       "<matplotlib.image.AxesImage at 0x7fba7e9e1550>"
      ]
     },
     "execution_count": 11,
     "metadata": {},
     "output_type": "execute_result"
    },
    {
     "data": {
      "image/png": "[encoded data removed]",
      "text/plain": [
       "<Figure size 432x288 with 1 Axes>"
      ]
     },
     "metadata": {
      "needs_background": "light"
     },
     "output_type": "display_data"
    }
   ],
   "source": [
    "plt.imshow(combined)"
   ]
  },
  {
   "cell_type": "markdown",
   "metadata": {},
   "source": [
    "For a more concise version, consider the following:"
   ]
  },
  {
   "cell_type": "code",
   "execution_count": 12,
   "metadata": {},
   "outputs": [
    {
     "data": {
      "image/png": "[encoded data removed]",
      "text/plain": [
       "<Figure size 432x288 with 1 Axes>"
      ]
     },
     "metadata": {
      "needs_background": "light"
     },
     "output_type": "display_data"
    }
   ],
   "source": [
    "# All in one:\n",
    "test_image = np.dstack((\n",
    "    row[0:1024].reshape(32,32),\n",
    "    row[1024:2048].reshape(32,32),\n",
    "    row[2048:].reshape(32,32)\n",
    "))\n",
    "plt.imshow(test_image);"
   ]
  },
  {
   "cell_type": "markdown",
   "metadata": {},
   "source": [
    "Looks like a cow! Let's check the label. `dataset_meta` contains label names in order, and `dataset_train` has a list of labels for each row."
   ]
  },
  {
   "cell_type": "code",
   "execution_count": 13,
   "metadata": {},
   "outputs": [
    {
     "data": {
      "text/plain": [
       "dict_keys([b'fine_label_names', b'coarse_label_names'])"
      ]
     },
     "execution_count": 13,
     "metadata": {},
     "output_type": "execute_result"
    }
   ],
   "source": [
    "dataset_meta.keys()"
   ]
  },
  {
   "cell_type": "code",
   "execution_count": 14,
   "metadata": {},
   "outputs": [
    {
     "name": "stdout",
     "output_type": "stream",
     "text": [
      "50000\n",
      "100\n"
     ]
    },
    {
     "data": {
      "text/plain": [
       "(None, None)"
      ]
     },
     "execution_count": 14,
     "metadata": {},
     "output_type": "execute_result"
    }
   ],
   "source": [
    "print(len(dataset_train[b'fine_labels'])), print(len(dataset_meta[b'fine_label_names']))"
   ]
  },
  {
   "cell_type": "code",
   "execution_count": 15,
   "metadata": {},
   "outputs": [
    {
     "data": {
      "text/plain": [
       "19"
      ]
     },
     "execution_count": 15,
     "metadata": {},
     "output_type": "execute_result"
    }
   ],
   "source": [
    "dataset_train[b'fine_labels'][0]"
   ]
  },
  {
   "cell_type": "markdown",
   "metadata": {},
   "source": [
    "Our image has a label of `19`, so let's see what the 19th item is in the list of label names."
   ]
  },
  {
   "cell_type": "code",
   "execution_count": 16,
   "metadata": {},
   "outputs": [
    {
     "name": "stdout",
     "output_type": "stream",
     "text": [
      "b'cattle'\n"
     ]
    }
   ],
   "source": [
    "print(dataset_meta[b'fine_label_names'][19])"
   ]
  },
  {
   "cell_type": "code",
   "execution_count": 17,
   "metadata": {},
   "outputs": [],
   "source": [
    "plt.imsave(\"file.png\", test_image)"
   ]
  },
  {
   "cell_type": "markdown",
   "metadata": {},
   "source": [
    "Your new PNG file should now appear in the file explorer -- go ahead and pop it open to see!\n",
    "\n",
    "Now that you know how to reshape the images, save them as files, and capture their filenames and labels, let's just capture all the bicycles and motorcycles and save them. Scones Unlimited can use a model that tells these apart to route delivery drivers automatically.\n",
    "\n",
    "In the following cell, identify the label numbers for Bicycles and Motorcycles:"
   ]
  },
  {
   "cell_type": "code",
   "execution_count": 18,
   "metadata": {},
   "outputs": [
    {
     "data": {
      "text/html": [
       "<div>\n",
       "<style scoped>\n",
       "    .dataframe tbody tr th:only-of-type {\n",
       "        vertical-align: middle;\n",
       "    }\n",
       "\n",
       "    .dataframe tbody tr th {\n",
       "        vertical-align: top;\n",
       "    }\n",
       "\n",
       "    .dataframe thead th {\n",
       "        text-align: right;\n",
       "    }\n",
       "</style>\n",
       "<table border=\"1\" class=\"dataframe\">\n",
       "  <thead>\n",
       "    <tr style=\"text-align: right;\">\n",
       "      <th></th>\n",
       "      <th>label_names</th>\n",
       "    </tr>\n",
       "  </thead>\n",
       "  <tbody>\n",
       "    <tr>\n",
       "      <th>8</th>\n",
       "      <td>b'bicycle'</td>\n",
       "    </tr>\n",
       "    <tr>\n",
       "      <th>48</th>\n",
       "      <td>b'motorcycle'</td>\n",
       "    </tr>\n",
       "  </tbody>\n",
       "</table>\n",
       "</div>"
      ],
      "text/plain": [
       "      label_names\n",
       "8      b'bicycle'\n",
       "48  b'motorcycle'"
      ]
     },
     "execution_count": 18,
     "metadata": {},
     "output_type": "execute_result"
    }
   ],
   "source": [
    "df = pd.DataFrame(dataset_meta[b'fine_label_names'], columns =  ['label_names'])\n",
    "df[df.label_names.isin([b'bicycle',b'motorcycle'])]"
   ]
  },
  {
   "cell_type": "markdown",
   "metadata": {},
   "source": [
    "Good job! We only need objects with label 8 and 48 -- this drastically simplifies our handling of the data! Below we construct a dataframe for you, and you can safely drop the rows that don't contain observations about bicycles and motorcycles. Fill in the missing lines below to drop all other rows:"
   ]
  },
  {
   "cell_type": "code",
   "execution_count": 19,
   "metadata": {},
   "outputs": [
    {
     "data": {
      "text/html": [
       "<div>\n",
       "<style scoped>\n",
       "    .dataframe tbody tr th:only-of-type {\n",
       "        vertical-align: middle;\n",
       "    }\n",
       "\n",
       "    .dataframe tbody tr th {\n",
       "        vertical-align: top;\n",
       "    }\n",
       "\n",
       "    .dataframe thead th {\n",
       "        text-align: right;\n",
       "    }\n",
       "</style>\n",
       "<table border=\"1\" class=\"dataframe\">\n",
       "  <thead>\n",
       "    <tr style=\"text-align: right;\">\n",
       "      <th></th>\n",
       "      <th>filenames</th>\n",
       "      <th>labels</th>\n",
       "      <th>row</th>\n",
       "    </tr>\n",
       "  </thead>\n",
       "  <tbody>\n",
       "    <tr>\n",
       "      <th>0</th>\n",
       "      <td>b'bos_taurus_s_000507.png'</td>\n",
       "      <td>19</td>\n",
       "      <td>0</td>\n",
       "    </tr>\n",
       "    <tr>\n",
       "      <th>1</th>\n",
       "      <td>b'stegosaurus_s_000125.png'</td>\n",
       "      <td>29</td>\n",
       "      <td>1</td>\n",
       "    </tr>\n",
       "  </tbody>\n",
       "</table>\n",
       "</div>"
      ],
      "text/plain": [
       "                     filenames  labels  row\n",
       "0   b'bos_taurus_s_000507.png'      19    0\n",
       "1  b'stegosaurus_s_000125.png'      29    1"
      ]
     },
     "execution_count": 19,
     "metadata": {},
     "output_type": "execute_result"
    }
   ],
   "source": [
    "#Construct the dataframe\n",
    "df_train = pd.DataFrame({\n",
    "    \"filenames\": dataset_train[b'filenames'],\n",
    "    \"labels\": dataset_train[b'fine_labels'],\n",
    "    \"row\": range(len(dataset_train[b'filenames']))\n",
    "})\n",
    "df_train.head(2)"
   ]
  },
  {
   "cell_type": "code",
   "execution_count": 20,
   "metadata": {},
   "outputs": [],
   "source": [
    "#Construct the dataframe\n",
    "df_train = pd.DataFrame({\n",
    "    \"filenames\": dataset_train[b'filenames'],\n",
    "    \"labels\": dataset_train[b'fine_labels'],\n",
    "    \"row\": range(len(dataset_train[b'filenames']))\n",
    "})\n",
    "\n",
    "# Drop all rows from df_train where label is not 8 or 48\n",
    "df_train = df_train[df_train.labels.isin([8,48])].copy()\n",
    "\n",
    "# Decode df_train.filenames so they are regular strings\n",
    "df_train[\"filenames\"] = df_train[\"filenames\"].apply(\n",
    "    lambda x: x.decode(\"utf-8\")\n",
    ")\n",
    "\n",
    "\n",
    "df_test = pd.DataFrame({\n",
    "    \"filenames\": dataset_test[b'filenames'],\n",
    "    \"labels\": dataset_test[b'fine_labels'],\n",
    "    \"row\": range(len(dataset_test[b'filenames']))\n",
    "})\n",
    "\n",
    "# Drop all rows from df_test where label is not 8 or 48\n",
    "df_test = df_test[df_test.labels.isin([8,48])].copy()\n",
    "\n",
    "# Decode df_test.filenames so they are regular strings\n",
    "df_test[\"filenames\"] = df_test[\"filenames\"].apply(\n",
    "    lambda x: x.decode(\"utf-8\")\n",
    ")"
   ]
  },
  {
   "cell_type": "code",
   "execution_count": 21,
   "metadata": {},
   "outputs": [
    {
     "data": {
      "text/plain": [
       "(array([ 8, 48]), (1000, 3))"
      ]
     },
     "execution_count": 21,
     "metadata": {},
     "output_type": "execute_result"
    }
   ],
   "source": [
    "df_train[\"labels\"].unique(),df_train.shape"
   ]
  },
  {
   "cell_type": "code",
   "execution_count": 22,
   "metadata": {},
   "outputs": [
    {
     "data": {
      "text/html": [
       "<div>\n",
       "<style scoped>\n",
       "    .dataframe tbody tr th:only-of-type {\n",
       "        vertical-align: middle;\n",
       "    }\n",
       "\n",
       "    .dataframe tbody tr th {\n",
       "        vertical-align: top;\n",
       "    }\n",
       "\n",
       "    .dataframe thead th {\n",
       "        text-align: right;\n",
       "    }\n",
       "</style>\n",
       "<table border=\"1\" class=\"dataframe\">\n",
       "  <thead>\n",
       "    <tr style=\"text-align: right;\">\n",
       "      <th></th>\n",
       "      <th>filenames</th>\n",
       "      <th>labels</th>\n",
       "      <th>row</th>\n",
       "    </tr>\n",
       "  </thead>\n",
       "  <tbody>\n",
       "    <tr>\n",
       "      <th>16</th>\n",
       "      <td>bike_s_000682.png</td>\n",
       "      <td>8</td>\n",
       "      <td>16</td>\n",
       "    </tr>\n",
       "    <tr>\n",
       "      <th>30</th>\n",
       "      <td>bike_s_000127.png</td>\n",
       "      <td>8</td>\n",
       "      <td>30</td>\n",
       "    </tr>\n",
       "  </tbody>\n",
       "</table>\n",
       "</div>"
      ],
      "text/plain": [
       "            filenames  labels  row\n",
       "16  bike_s_000682.png       8   16\n",
       "30  bike_s_000127.png       8   30"
      ]
     },
     "execution_count": 22,
     "metadata": {},
     "output_type": "execute_result"
    }
   ],
   "source": [
    "df_train.head(2)"
   ]
  },
  {
   "cell_type": "markdown",
   "metadata": {},
   "source": [
    "Now that the data is filtered for just our classes, we can save all our images."
   ]
  },
  {
   "cell_type": "code",
   "execution_count": 23,
   "metadata": {},
   "outputs": [],
   "source": [
    "!mkdir ./train\n",
    "!mkdir ./test"
   ]
  },
  {
   "cell_type": "code",
   "execution_count": 24,
   "metadata": {},
   "outputs": [],
   "source": [
    "def save_images(df, df2, path):\n",
    "    for i in df[\"row\"]:\n",
    "        img = df2[b'data'][i]\n",
    "        target = np.dstack((\n",
    "        img[0:1024].reshape(32,32),\n",
    "        img[1024:2048].reshape(32,32),\n",
    "        img[2048:].reshape(32,32)\n",
    "        ))\n",
    "        plt.imsave(path+df['filenames'][i], target)\n",
    "    return True"
   ]
  },
  {
   "cell_type": "code",
   "execution_count": 25,
   "metadata": {},
   "outputs": [
    {
     "data": {
      "text/plain": [
       "True"
      ]
     },
     "execution_count": 25,
     "metadata": {},
     "output_type": "execute_result"
    }
   ],
   "source": [
    "save_images(df_train, dataset_train, './train/')\n",
    "save_images(df_test, dataset_test, './test/')"
   ]
  },
  {
   "cell_type": "markdown",
   "metadata": {},
   "source": [
    "### 4. Load the data\n",
    "\n",
    "Now we can load the data into S3.\n",
    "\n",
    "Using the sagemaker SDK grab the current region, execution role, and bucket."
   ]
  },
  {
   "cell_type": "markdown",
   "metadata": {},
   "source": [
    "With this data we can easily sync your data up into S3!"
   ]
  },
  {
   "cell_type": "code",
   "execution_count": 26,
   "metadata": {
    "jupyter": {
     "outputs_hidden": true
    }
   },
   "outputs": [
    {
     "name": "stdout",
     "output_type": "stream",
     "text": [
      "upload: train/bicycle_s_000035.png to s3://srs-udacity-aws-2022/train/bicycle_s_000035.png\n",
      "upload: train/bicycle_s_000147.png to s3://srs-udacity-aws-2022/train/bicycle_s_000147.png\n",
      "upload: train/bicycle_s_000021.png to s3://srs-udacity-aws-2022/train/bicycle_s_000021.png\n",
      "upload: train/bicycle_s_000038.png to s3://srs-udacity-aws-2022/train/bicycle_s_000038.png\n",
      "upload: train/bicycle_s_000039.png to s3://srs-udacity-aws-2022/train/bicycle_s_000039.png\n",
      "upload: train/bicycle_s_000017.png to s3://srs-udacity-aws-2022/train/bicycle_s_000017.png\n",
      "upload: train/bicycle_s_000124.png to s3://srs-udacity-aws-2022/train/bicycle_s_000124.png\n",
      "upload: train/bicycle_s_000071.png to s3://srs-udacity-aws-2022/train/bicycle_s_000071.png\n",
      "upload: train/bicycle_s_000051.png to s3://srs-udacity-aws-2022/train/bicycle_s_000051.png\n",
      "upload: train/bicycle_s_000149.png to s3://srs-udacity-aws-2022/train/bicycle_s_000149.png\n",
      "upload: train/bicycle_s_000066.png to s3://srs-udacity-aws-2022/train/bicycle_s_000066.png\n",
      "upload: train/bicycle_s_000156.png to s3://srs-udacity-aws-2022/train/bicycle_s_000156.png\n",
      "upload: train/bicycle_s_000099.png to s3://srs-udacity-aws-2022/train/bicycle_s_000099.png\n",
      "upload: train/bicycle_s_000043.png to s3://srs-udacity-aws-2022/train/bicycle_s_000043.png\n",
      "upload: train/bicycle_s_000180.png to s3://srs-udacity-aws-2022/train/bicycle_s_000180.png\n",
      "upload: train/bicycle_s_000279.png to s3://srs-udacity-aws-2022/train/bicycle_s_000279.png\n",
      "upload: train/bicycle_s_000231.png to s3://srs-udacity-aws-2022/train/bicycle_s_000231.png\n",
      "upload: train/bicycle_s_000314.png to s3://srs-udacity-aws-2022/train/bicycle_s_000314.png\n",
      "upload: train/bicycle_s_000159.png to s3://srs-udacity-aws-2022/train/bicycle_s_000159.png\n",
      "upload: train/bicycle_s_000282.png to s3://srs-udacity-aws-2022/train/bicycle_s_000282.png\n",
      "upload: train/bicycle_s_000369.png to s3://srs-udacity-aws-2022/train/bicycle_s_000369.png\n",
      "upload: train/bicycle_s_000408.png to s3://srs-udacity-aws-2022/train/bicycle_s_000408.png\n",
      "upload: train/bicycle_s_000396.png to s3://srs-udacity-aws-2022/train/bicycle_s_000396.png\n",
      "upload: train/bicycle_s_000137.png to s3://srs-udacity-aws-2022/train/bicycle_s_000137.png\n",
      "upload: train/bicycle_s_000399.png to s3://srs-udacity-aws-2022/train/bicycle_s_000399.png\n",
      "upload: train/bicycle_s_000435.png to s3://srs-udacity-aws-2022/train/bicycle_s_000435.png\n",
      "upload: train/bicycle_s_000467.png to s3://srs-udacity-aws-2022/train/bicycle_s_000467.png\n",
      "upload: train/bicycle_s_000243.png to s3://srs-udacity-aws-2022/train/bicycle_s_000243.png\n",
      "upload: train/bicycle_s_000437.png to s3://srs-udacity-aws-2022/train/bicycle_s_000437.png\n",
      "upload: train/bicycle_s_000491.png to s3://srs-udacity-aws-2022/train/bicycle_s_000491.png\n",
      "upload: train/bicycle_s_000536.png to s3://srs-udacity-aws-2022/train/bicycle_s_000536.png\n",
      "upload: train/bicycle_s_000537.png to s3://srs-udacity-aws-2022/train/bicycle_s_000537.png\n",
      "upload: train/bicycle_s_000546.png to s3://srs-udacity-aws-2022/train/bicycle_s_000546.png\n",
      "upload: train/bicycle_s_000569.png to s3://srs-udacity-aws-2022/train/bicycle_s_000569.png\n",
      "upload: train/bicycle_s_000522.png to s3://srs-udacity-aws-2022/train/bicycle_s_000522.png\n",
      "upload: train/bicycle_s_000235.png to s3://srs-udacity-aws-2022/train/bicycle_s_000235.png\n",
      "upload: train/bicycle_s_000667.png to s3://srs-udacity-aws-2022/train/bicycle_s_000667.png\n",
      "upload: train/bicycle_s_000723.png to s3://srs-udacity-aws-2022/train/bicycle_s_000723.png\n",
      "upload: train/bicycle_s_000781.png to s3://srs-udacity-aws-2022/train/bicycle_s_000781.png\n",
      "upload: train/bicycle_s_000775.png to s3://srs-udacity-aws-2022/train/bicycle_s_000775.png\n",
      "upload: train/bicycle_s_000759.png to s3://srs-udacity-aws-2022/train/bicycle_s_000759.png\n",
      "upload: train/bicycle_s_000668.png to s3://srs-udacity-aws-2022/train/bicycle_s_000668.png\n",
      "upload: train/bicycle_s_000774.png to s3://srs-udacity-aws-2022/train/bicycle_s_000774.png\n",
      "upload: train/bicycle_s_000753.png to s3://srs-udacity-aws-2022/train/bicycle_s_000753.png\n",
      "upload: train/bicycle_s_000778.png to s3://srs-udacity-aws-2022/train/bicycle_s_000778.png\n",
      "upload: train/bicycle_s_000951.png to s3://srs-udacity-aws-2022/train/bicycle_s_000951.png\n",
      "upload: train/bicycle_s_000782.png to s3://srs-udacity-aws-2022/train/bicycle_s_000782.png\n",
      "upload: train/bicycle_s_000861.png to s3://srs-udacity-aws-2022/train/bicycle_s_000861.png\n",
      "upload: train/bicycle_s_000785.png to s3://srs-udacity-aws-2022/train/bicycle_s_000785.png\n",
      "upload: train/bicycle_s_000829.png to s3://srs-udacity-aws-2022/train/bicycle_s_000829.png\n",
      "upload: train/bicycle_s_001002.png to s3://srs-udacity-aws-2022/train/bicycle_s_001002.png\n",
      "upload: train/bicycle_s_000996.png to s3://srs-udacity-aws-2022/train/bicycle_s_000996.png\n",
      "upload: train/bicycle_s_000822.png to s3://srs-udacity-aws-2022/train/bicycle_s_000822.png\n",
      "upload: train/bicycle_s_000463.png to s3://srs-udacity-aws-2022/train/bicycle_s_000463.png\n",
      "upload: train/bicycle_s_001203.png to s3://srs-udacity-aws-2022/train/bicycle_s_001203.png\n",
      "upload: train/bicycle_s_001168.png to s3://srs-udacity-aws-2022/train/bicycle_s_001168.png\n",
      "upload: train/bicycle_s_001205.png to s3://srs-udacity-aws-2022/train/bicycle_s_001205.png\n",
      "upload: train/bicycle_s_001174.png to s3://srs-udacity-aws-2022/train/bicycle_s_001174.png\n",
      "upload: train/bicycle_s_001111.png to s3://srs-udacity-aws-2022/train/bicycle_s_001111.png\n",
      "upload: train/bicycle_s_000986.png to s3://srs-udacity-aws-2022/train/bicycle_s_000986.png\n",
      "upload: train/bicycle_s_001228.png to s3://srs-udacity-aws-2022/train/bicycle_s_001228.png\n",
      "upload: train/bicycle_s_001245.png to s3://srs-udacity-aws-2022/train/bicycle_s_001245.png\n",
      "upload: train/bicycle_s_001247.png to s3://srs-udacity-aws-2022/train/bicycle_s_001247.png\n",
      "upload: train/bicycle_s_001448.png to s3://srs-udacity-aws-2022/train/bicycle_s_001448.png\n",
      "upload: train/bicycle_s_001452.png to s3://srs-udacity-aws-2022/train/bicycle_s_001452.png\n",
      "upload: train/bicycle_s_000392.png to s3://srs-udacity-aws-2022/train/bicycle_s_000392.png\n",
      "upload: train/bicycle_s_001338.png to s3://srs-udacity-aws-2022/train/bicycle_s_001338.png\n",
      "upload: train/bicycle_s_001470.png to s3://srs-udacity-aws-2022/train/bicycle_s_001470.png\n",
      "upload: train/bicycle_s_001348.png to s3://srs-udacity-aws-2022/train/bicycle_s_001348.png\n",
      "upload: train/bicycle_s_001402.png to s3://srs-udacity-aws-2022/train/bicycle_s_001402.png\n",
      "upload: train/bicycle_s_001554.png to s3://srs-udacity-aws-2022/train/bicycle_s_001554.png\n",
      "upload: train/bicycle_s_001388.png to s3://srs-udacity-aws-2022/train/bicycle_s_001388.png\n",
      "upload: train/bicycle_s_001411.png to s3://srs-udacity-aws-2022/train/bicycle_s_001411.png\n",
      "upload: train/bicycle_s_001663.png to s3://srs-udacity-aws-2022/train/bicycle_s_001663.png\n",
      "upload: train/bicycle_s_001569.png to s3://srs-udacity-aws-2022/train/bicycle_s_001569.png\n",
      "upload: train/bicycle_s_001687.png to s3://srs-udacity-aws-2022/train/bicycle_s_001687.png\n",
      "upload: train/bicycle_s_001673.png to s3://srs-udacity-aws-2022/train/bicycle_s_001673.png\n",
      "upload: train/bicycle_s_001583.png to s3://srs-udacity-aws-2022/train/bicycle_s_001583.png\n",
      "upload: train/bicycle_s_001642.png to s3://srs-udacity-aws-2022/train/bicycle_s_001642.png\n",
      "upload: train/bicycle_s_001679.png to s3://srs-udacity-aws-2022/train/bicycle_s_001679.png\n",
      "upload: train/bicycle_s_001693.png to s3://srs-udacity-aws-2022/train/bicycle_s_001693.png\n",
      "upload: train/bicycle_s_001681.png to s3://srs-udacity-aws-2022/train/bicycle_s_001681.png\n",
      "upload: train/bicycle_s_001748.png to s3://srs-udacity-aws-2022/train/bicycle_s_001748.png\n",
      "upload: train/bicycle_s_000561.png to s3://srs-udacity-aws-2022/train/bicycle_s_000561.png\n",
      "upload: train/bicycle_s_001757.png to s3://srs-udacity-aws-2022/train/bicycle_s_001757.png\n",
      "upload: train/bicycle_s_001409.png to s3://srs-udacity-aws-2022/train/bicycle_s_001409.png\n",
      "upload: train/bicycle_s_002005.png to s3://srs-udacity-aws-2022/train/bicycle_s_002005.png\n",
      "upload: train/bicycle_s_001688.png to s3://srs-udacity-aws-2022/train/bicycle_s_001688.png\n",
      "upload: train/bicycle_s_001904.png to s3://srs-udacity-aws-2022/train/bicycle_s_001904.png\n",
      "upload: train/bicycle_s_001928.png to s3://srs-udacity-aws-2022/train/bicycle_s_001928.png\n",
      "upload: train/bicycle_s_002029.png to s3://srs-udacity-aws-2022/train/bicycle_s_002029.png\n",
      "upload: train/bicycle_s_000371.png to s3://srs-udacity-aws-2022/train/bicycle_s_000371.png\n",
      "upload: train/bicycle_s_001814.png to s3://srs-udacity-aws-2022/train/bicycle_s_001814.png\n",
      "upload: train/bicycle_s_002012.png to s3://srs-udacity-aws-2022/train/bicycle_s_002012.png\n",
      "upload: train/bicycle_s_000978.png to s3://srs-udacity-aws-2022/train/bicycle_s_000978.png\n",
      "upload: train/bicycle_s_002247.png to s3://srs-udacity-aws-2022/train/bicycle_s_002247.png\n",
      "upload: train/bicycle_s_002237.png to s3://srs-udacity-aws-2022/train/bicycle_s_002237.png\n",
      "upload: train/bicycle_s_002129.png to s3://srs-udacity-aws-2022/train/bicycle_s_002129.png\n"
     ]
    },
    {
     "name": "stdout",
     "output_type": "stream",
     "text": [
      "upload: train/bicycle_s_002049.png to s3://srs-udacity-aws-2022/train/bicycle_s_002049.png\n",
      "upload: train/bicycle_s_002222.png to s3://srs-udacity-aws-2022/train/bicycle_s_002222.png\n",
      "upload: train/bicycle_s_002258.png to s3://srs-udacity-aws-2022/train/bicycle_s_002258.png\n",
      "upload: train/bicycle_s_002100.png to s3://srs-udacity-aws-2022/train/bicycle_s_002100.png\n",
      "upload: train/bicycle_s_002299.png to s3://srs-udacity-aws-2022/train/bicycle_s_002299.png\n",
      "upload: train/bicycle_s_002338.png to s3://srs-udacity-aws-2022/train/bicycle_s_002338.png\n",
      "upload: train/bicycle_s_002218.png to s3://srs-udacity-aws-2022/train/bicycle_s_002218.png\n",
      "upload: train/bicycle_s_001956.png to s3://srs-udacity-aws-2022/train/bicycle_s_001956.png\n",
      "upload: train/bicycle_s_002373.png to s3://srs-udacity-aws-2022/train/bicycle_s_002373.png\n",
      "upload: train/bicycle_s_002400.png to s3://srs-udacity-aws-2022/train/bicycle_s_002400.png\n",
      "upload: train/bicycle_s_002374.png to s3://srs-udacity-aws-2022/train/bicycle_s_002374.png\n",
      "upload: train/bicycle_s_002132.png to s3://srs-udacity-aws-2022/train/bicycle_s_002132.png\n",
      "upload: train/bicycle_s_002448.png to s3://srs-udacity-aws-2022/train/bicycle_s_002448.png\n",
      "upload: train/bicycle_s_002410.png to s3://srs-udacity-aws-2022/train/bicycle_s_002410.png\n",
      "upload: train/bicycle_s_002661.png to s3://srs-udacity-aws-2022/train/bicycle_s_002661.png\n",
      "upload: train/bicycle_s_002436.png to s3://srs-udacity-aws-2022/train/bicycle_s_002436.png\n",
      "upload: train/bicycle_s_002711.png to s3://srs-udacity-aws-2022/train/bicycle_s_002711.png\n",
      "upload: train/bicycle_s_002475.png to s3://srs-udacity-aws-2022/train/bicycle_s_002475.png\n",
      "upload: train/bicycle_s_002669.png to s3://srs-udacity-aws-2022/train/bicycle_s_002669.png\n",
      "upload: train/bicycle_s_002153.png to s3://srs-udacity-aws-2022/train/bicycle_s_002153.png\n",
      "upload: train/bicycle_s_002725.png to s3://srs-udacity-aws-2022/train/bicycle_s_002725.png\n",
      "upload: train/bicycle_s_002550.png to s3://srs-udacity-aws-2022/train/bicycle_s_002550.png\n",
      "upload: train/bicycle_s_002569.png to s3://srs-udacity-aws-2022/train/bicycle_s_002569.png\n",
      "upload: train/bicycle_s_002624.png to s3://srs-udacity-aws-2022/train/bicycle_s_002624.png\n",
      "upload: train/bicycle_s_002521.png to s3://srs-udacity-aws-2022/train/bicycle_s_002521.png\n",
      "upload: train/bicycle_s_002759.png to s3://srs-udacity-aws-2022/train/bicycle_s_002759.png\n",
      "upload: train/bicycle_s_002729.png to s3://srs-udacity-aws-2022/train/bicycle_s_002729.png\n",
      "upload: train/bicycle_s_002728.png to s3://srs-udacity-aws-2022/train/bicycle_s_002728.png\n",
      "upload: train/bicycle_s_002715.png to s3://srs-udacity-aws-2022/train/bicycle_s_002715.png\n",
      "upload: train/bike_s_000005.png to s3://srs-udacity-aws-2022/train/bike_s_000005.png   \n",
      "upload: train/bicycle_s_002762.png to s3://srs-udacity-aws-2022/train/bicycle_s_002762.png\n",
      "upload: train/bike_s_000018.png to s3://srs-udacity-aws-2022/train/bike_s_000018.png   \n",
      "upload: train/bike_s_000025.png to s3://srs-udacity-aws-2022/train/bike_s_000025.png   \n",
      "upload: train/bike_s_000015.png to s3://srs-udacity-aws-2022/train/bike_s_000015.png   \n",
      "upload: train/bike_s_000023.png to s3://srs-udacity-aws-2022/train/bike_s_000023.png   \n",
      "upload: train/bike_s_000001.png to s3://srs-udacity-aws-2022/train/bike_s_000001.png   \n",
      "upload: train/bike_s_000003.png to s3://srs-udacity-aws-2022/train/bike_s_000003.png   \n",
      "upload: train/bike_s_000024.png to s3://srs-udacity-aws-2022/train/bike_s_000024.png   \n",
      "upload: train/bike_s_000062.png to s3://srs-udacity-aws-2022/train/bike_s_000062.png   \n",
      "upload: train/bike_s_000111.png to s3://srs-udacity-aws-2022/train/bike_s_000111.png   \n",
      "upload: train/bike_s_000040.png to s3://srs-udacity-aws-2022/train/bike_s_000040.png   \n",
      "upload: train/bike_s_000121.png to s3://srs-udacity-aws-2022/train/bike_s_000121.png   \n",
      "upload: train/bike_s_000035.png to s3://srs-udacity-aws-2022/train/bike_s_000035.png   \n",
      "upload: train/bike_s_000034.png to s3://srs-udacity-aws-2022/train/bike_s_000034.png   \n",
      "upload: train/bike_s_000021.png to s3://srs-udacity-aws-2022/train/bike_s_000021.png   \n",
      "upload: train/bike_s_000127.png to s3://srs-udacity-aws-2022/train/bike_s_000127.png   \n",
      "upload: train/bike_s_000026.png to s3://srs-udacity-aws-2022/train/bike_s_000026.png   \n",
      "upload: train/bike_s_000129.png to s3://srs-udacity-aws-2022/train/bike_s_000129.png   \n",
      "upload: train/bike_s_000304.png to s3://srs-udacity-aws-2022/train/bike_s_000304.png   \n",
      "upload: train/bike_s_000051.png to s3://srs-udacity-aws-2022/train/bike_s_000051.png   \n",
      "upload: train/bike_s_000162.png to s3://srs-udacity-aws-2022/train/bike_s_000162.png   \n",
      "upload: train/bike_s_000256.png to s3://srs-udacity-aws-2022/train/bike_s_000256.png   \n",
      "upload: train/bike_s_000164.png to s3://srs-udacity-aws-2022/train/bike_s_000164.png   \n",
      "upload: train/bike_s_000299.png to s3://srs-udacity-aws-2022/train/bike_s_000299.png   \n",
      "upload: train/bike_s_000154.png to s3://srs-udacity-aws-2022/train/bike_s_000154.png   \n",
      "upload: train/bike_s_000204.png to s3://srs-udacity-aws-2022/train/bike_s_000204.png   \n",
      "upload: train/bike_s_000302.png to s3://srs-udacity-aws-2022/train/bike_s_000302.png   \n",
      "upload: train/bike_s_000237.png to s3://srs-udacity-aws-2022/train/bike_s_000237.png   \n",
      "upload: train/bike_s_000516.png to s3://srs-udacity-aws-2022/train/bike_s_000516.png   \n",
      "upload: train/bike_s_000474.png to s3://srs-udacity-aws-2022/train/bike_s_000474.png   \n",
      "upload: train/bike_s_000522.png to s3://srs-udacity-aws-2022/train/bike_s_000522.png   \n",
      "upload: train/bike_s_000390.png to s3://srs-udacity-aws-2022/train/bike_s_000390.png   \n",
      "upload: train/bike_s_000555.png to s3://srs-udacity-aws-2022/train/bike_s_000555.png   \n",
      "upload: train/bike_s_000336.png to s3://srs-udacity-aws-2022/train/bike_s_000336.png   \n",
      "upload: train/bike_s_000657.png to s3://srs-udacity-aws-2022/train/bike_s_000657.png   \n",
      "upload: train/bike_s_000593.png to s3://srs-udacity-aws-2022/train/bike_s_000593.png   \n",
      "upload: train/bike_s_000397.png to s3://srs-udacity-aws-2022/train/bike_s_000397.png   \n",
      "upload: train/bike_s_000392.png to s3://srs-udacity-aws-2022/train/bike_s_000392.png   \n",
      "upload: train/bike_s_000628.png to s3://srs-udacity-aws-2022/train/bike_s_000628.png   \n",
      "upload: train/bike_s_000722.png to s3://srs-udacity-aws-2022/train/bike_s_000722.png   \n",
      "upload: train/bike_s_000545.png to s3://srs-udacity-aws-2022/train/bike_s_000545.png   \n",
      "upload: train/bike_s_000506.png to s3://srs-udacity-aws-2022/train/bike_s_000506.png   \n",
      "upload: train/bike_s_000544.png to s3://srs-udacity-aws-2022/train/bike_s_000544.png   \n",
      "upload: train/bike_s_000855.png to s3://srs-udacity-aws-2022/train/bike_s_000855.png   \n",
      "upload: train/bike_s_000926.png to s3://srs-udacity-aws-2022/train/bike_s_000926.png   \n",
      "upload: train/bike_s_000682.png to s3://srs-udacity-aws-2022/train/bike_s_000682.png   \n",
      "upload: train/bike_s_000679.png to s3://srs-udacity-aws-2022/train/bike_s_000679.png   \n",
      "upload: train/bike_s_000934.png to s3://srs-udacity-aws-2022/train/bike_s_000934.png   \n",
      "upload: train/bike_s_000364.png to s3://srs-udacity-aws-2022/train/bike_s_000364.png   \n",
      "upload: train/bike_s_000990.png to s3://srs-udacity-aws-2022/train/bike_s_000990.png   \n",
      "upload: train/bike_s_001113.png to s3://srs-udacity-aws-2022/train/bike_s_001113.png   \n",
      "upload: train/bike_s_001078.png to s3://srs-udacity-aws-2022/train/bike_s_001078.png   \n",
      "upload: train/bike_s_001200.png to s3://srs-udacity-aws-2022/train/bike_s_001200.png   \n",
      "upload: train/bike_s_001131.png to s3://srs-udacity-aws-2022/train/bike_s_001131.png   \n",
      "upload: train/bike_s_001027.png to s3://srs-udacity-aws-2022/train/bike_s_001027.png   \n",
      "upload: train/bike_s_001116.png to s3://srs-udacity-aws-2022/train/bike_s_001116.png   \n",
      "upload: train/bike_s_001072.png to s3://srs-udacity-aws-2022/train/bike_s_001072.png   \n",
      "upload: train/bike_s_001093.png to s3://srs-udacity-aws-2022/train/bike_s_001093.png   \n",
      "upload: train/bike_s_001320.png to s3://srs-udacity-aws-2022/train/bike_s_001320.png   \n",
      "upload: train/bike_s_001418.png to s3://srs-udacity-aws-2022/train/bike_s_001418.png   \n",
      "upload: train/bike_s_001226.png to s3://srs-udacity-aws-2022/train/bike_s_001226.png   \n",
      "upload: train/bike_s_001260.png to s3://srs-udacity-aws-2022/train/bike_s_001260.png   \n",
      "upload: train/bike_s_001375.png to s3://srs-udacity-aws-2022/train/bike_s_001375.png   \n"
     ]
    },
    {
     "name": "stdout",
     "output_type": "stream",
     "text": [
      "upload: train/bike_s_001415.png to s3://srs-udacity-aws-2022/train/bike_s_001415.png   \n",
      "upload: train/bike_s_001462.png to s3://srs-udacity-aws-2022/train/bike_s_001462.png   \n",
      "upload: train/bike_s_001572.png to s3://srs-udacity-aws-2022/train/bike_s_001572.png   \n",
      "upload: train/bike_s_001517.png to s3://srs-udacity-aws-2022/train/bike_s_001517.png   \n",
      "upload: train/bike_s_001414.png to s3://srs-udacity-aws-2022/train/bike_s_001414.png   \n",
      "upload: train/bike_s_001613.png to s3://srs-udacity-aws-2022/train/bike_s_001613.png   \n",
      "upload: train/bike_s_001380.png to s3://srs-udacity-aws-2022/train/bike_s_001380.png   \n",
      "upload: train/bike_s_001592.png to s3://srs-udacity-aws-2022/train/bike_s_001592.png   \n",
      "upload: train/bike_s_001679.png to s3://srs-udacity-aws-2022/train/bike_s_001679.png   \n",
      "upload: train/bike_s_001739.png to s3://srs-udacity-aws-2022/train/bike_s_001739.png   \n",
      "upload: train/bike_s_001683.png to s3://srs-udacity-aws-2022/train/bike_s_001683.png   \n",
      "upload: train/bike_s_001519.png to s3://srs-udacity-aws-2022/train/bike_s_001519.png   \n",
      "upload: train/bike_s_001876.png to s3://srs-udacity-aws-2022/train/bike_s_001876.png   \n",
      "upload: train/bike_s_001847.png to s3://srs-udacity-aws-2022/train/bike_s_001847.png   \n",
      "upload: train/bike_s_001839.png to s3://srs-udacity-aws-2022/train/bike_s_001839.png   \n",
      "upload: train/bike_s_001761.png to s3://srs-udacity-aws-2022/train/bike_s_001761.png   \n",
      "upload: train/bike_s_001897.png to s3://srs-udacity-aws-2022/train/bike_s_001897.png   \n",
      "upload: train/bike_s_001877.png to s3://srs-udacity-aws-2022/train/bike_s_001877.png   \n",
      "upload: train/bike_s_001882.png to s3://srs-udacity-aws-2022/train/bike_s_001882.png   \n",
      "upload: train/bike_s_001767.png to s3://srs-udacity-aws-2022/train/bike_s_001767.png   \n",
      "upload: train/bike_s_001915.png to s3://srs-udacity-aws-2022/train/bike_s_001915.png   \n",
      "upload: train/bike_s_001945.png to s3://srs-udacity-aws-2022/train/bike_s_001945.png   \n",
      "upload: train/bike_s_001827.png to s3://srs-udacity-aws-2022/train/bike_s_001827.png   \n",
      "upload: train/bike_s_001980.png to s3://srs-udacity-aws-2022/train/bike_s_001980.png   \n",
      "upload: train/bike_s_002033.png to s3://srs-udacity-aws-2022/train/bike_s_002033.png   \n",
      "upload: train/bike_s_002042.png to s3://srs-udacity-aws-2022/train/bike_s_002042.png\n",
      "upload: train/bike_s_002118.png to s3://srs-udacity-aws-2022/train/bike_s_002118.png\n",
      "upload: train/bike_s_002098.png to s3://srs-udacity-aws-2022/train/bike_s_002098.png\n",
      "upload: train/bike_s_001928.png to s3://srs-udacity-aws-2022/train/bike_s_001928.png\n",
      "upload: train/bike_s_002139.png to s3://srs-udacity-aws-2022/train/bike_s_002139.png\n",
      "upload: train/bike_s_002090.png to s3://srs-udacity-aws-2022/train/bike_s_002090.png\n",
      "upload: train/bike_s_002024.png to s3://srs-udacity-aws-2022/train/bike_s_002024.png\n",
      "upload: train/bike_s_002109.png to s3://srs-udacity-aws-2022/train/bike_s_002109.png\n",
      "upload: train/bike_s_002203.png to s3://srs-udacity-aws-2022/train/bike_s_002203.png\n",
      "upload: train/bike_s_002222.png to s3://srs-udacity-aws-2022/train/bike_s_002222.png\n",
      "upload: train/bike_s_002215.png to s3://srs-udacity-aws-2022/train/bike_s_002215.png\n",
      "upload: train/bike_s_002047.png to s3://srs-udacity-aws-2022/train/bike_s_002047.png\n",
      "upload: train/bike_s_002283.png to s3://srs-udacity-aws-2022/train/bike_s_002283.png\n",
      "upload: train/bike_s_002164.png to s3://srs-udacity-aws-2022/train/bike_s_002164.png\n",
      "upload: train/cycle_s_000318.png to s3://srs-udacity-aws-2022/train/cycle_s_000318.png\n",
      "upload: train/cycle_s_000042.png to s3://srs-udacity-aws-2022/train/cycle_s_000042.png\n",
      "upload: train/bike_s_002292.png to s3://srs-udacity-aws-2022/train/bike_s_002292.png\n",
      "upload: train/cycle_s_000463.png to s3://srs-udacity-aws-2022/train/cycle_s_000463.png\n",
      "upload: train/bike_s_002288.png to s3://srs-udacity-aws-2022/train/bike_s_002288.png\n",
      "upload: train/cycle_s_000492.png to s3://srs-udacity-aws-2022/train/cycle_s_000492.png\n",
      "upload: train/bike_s_002277.png to s3://srs-udacity-aws-2022/train/bike_s_002277.png\n",
      "upload: train/cycle_s_000718.png to s3://srs-udacity-aws-2022/train/cycle_s_000718.png\n",
      "upload: train/cycle_s_000871.png to s3://srs-udacity-aws-2022/train/cycle_s_000871.png\n",
      "upload: train/cycle_s_000639.png to s3://srs-udacity-aws-2022/train/cycle_s_000639.png\n",
      "upload: train/cycle_s_000583.png to s3://srs-udacity-aws-2022/train/cycle_s_000583.png\n",
      "upload: train/cycle_s_000666.png to s3://srs-udacity-aws-2022/train/cycle_s_000666.png\n",
      "upload: train/cycle_s_001286.png to s3://srs-udacity-aws-2022/train/cycle_s_001286.png\n",
      "upload: train/cycle_s_001309.png to s3://srs-udacity-aws-2022/train/cycle_s_001309.png\n",
      "upload: train/cycle_s_000222.png to s3://srs-udacity-aws-2022/train/cycle_s_000222.png\n",
      "upload: train/cycle_s_000899.png to s3://srs-udacity-aws-2022/train/cycle_s_000899.png\n",
      "upload: train/cycle_s_001412.png to s3://srs-udacity-aws-2022/train/cycle_s_001412.png\n",
      "upload: train/cycle_s_001439.png to s3://srs-udacity-aws-2022/train/cycle_s_001439.png\n",
      "upload: train/cycle_s_001472.png to s3://srs-udacity-aws-2022/train/cycle_s_001472.png\n",
      "upload: train/cycle_s_001477.png to s3://srs-udacity-aws-2022/train/cycle_s_001477.png\n",
      "upload: train/cycle_s_001413.png to s3://srs-udacity-aws-2022/train/cycle_s_001413.png\n",
      "upload: train/cycle_s_001745.png to s3://srs-udacity-aws-2022/train/cycle_s_001745.png\n",
      "upload: train/cycle_s_001735.png to s3://srs-udacity-aws-2022/train/cycle_s_001735.png\n",
      "upload: train/cycle_s_001640.png to s3://srs-udacity-aws-2022/train/cycle_s_001640.png\n",
      "upload: train/cycle_s_002092.png to s3://srs-udacity-aws-2022/train/cycle_s_002092.png\n",
      "upload: train/cycle_s_002053.png to s3://srs-udacity-aws-2022/train/cycle_s_002053.png\n",
      "upload: train/cycle_s_002090.png to s3://srs-udacity-aws-2022/train/cycle_s_002090.png\n",
      "upload: train/cycle_s_001374.png to s3://srs-udacity-aws-2022/train/cycle_s_001374.png\n",
      "upload: train/cycle_s_002015.png to s3://srs-udacity-aws-2022/train/cycle_s_002015.png\n",
      "upload: train/cycle_s_002399.png to s3://srs-udacity-aws-2022/train/cycle_s_002399.png\n",
      "upload: train/cycle_s_001875.png to s3://srs-udacity-aws-2022/train/cycle_s_001875.png\n",
      "upload: train/cycle_s_001474.png to s3://srs-udacity-aws-2022/train/cycle_s_001474.png\n",
      "upload: train/cycle_s_002178.png to s3://srs-udacity-aws-2022/train/cycle_s_002178.png\n",
      "upload: train/cycle_s_002093.png to s3://srs-udacity-aws-2022/train/cycle_s_002093.png\n",
      "upload: train/cycle_s_001976.png to s3://srs-udacity-aws-2022/train/cycle_s_001976.png\n",
      "upload: train/cycle_s_002168.png to s3://srs-udacity-aws-2022/train/cycle_s_002168.png\n",
      "upload: train/cycle_s_002666.png to s3://srs-udacity-aws-2022/train/cycle_s_002666.png\n",
      "upload: train/cycle_s_002703.png to s3://srs-udacity-aws-2022/train/cycle_s_002703.png\n",
      "upload: train/cycle_s_002598.png to s3://srs-udacity-aws-2022/train/cycle_s_002598.png\n",
      "upload: train/cycle_s_002651.png to s3://srs-udacity-aws-2022/train/cycle_s_002651.png\n",
      "upload: train/cycle_s_002746.png to s3://srs-udacity-aws-2022/train/cycle_s_002746.png\n",
      "upload: train/cycle_s_002638.png to s3://srs-udacity-aws-2022/train/cycle_s_002638.png\n",
      "upload: train/cycle_s_002659.png to s3://srs-udacity-aws-2022/train/cycle_s_002659.png\n",
      "upload: train/cycle_s_002503.png to s3://srs-udacity-aws-2022/train/cycle_s_002503.png\n",
      "upload: train/cycle_s_002904.png to s3://srs-udacity-aws-2022/train/cycle_s_002904.png\n",
      "upload: train/cycle_s_002844.png to s3://srs-udacity-aws-2022/train/cycle_s_002844.png\n",
      "upload: train/cycle_s_002779.png to s3://srs-udacity-aws-2022/train/cycle_s_002779.png\n",
      "upload: train/cycle_s_003006.png to s3://srs-udacity-aws-2022/train/cycle_s_003006.png\n",
      "upload: train/cycle_s_003147.png to s3://srs-udacity-aws-2022/train/cycle_s_003147.png\n",
      "upload: train/cycle_s_003043.png to s3://srs-udacity-aws-2022/train/cycle_s_003043.png\n",
      "upload: train/cycle_s_003026.png to s3://srs-udacity-aws-2022/train/cycle_s_003026.png\n",
      "upload: train/cycle_s_002978.png to s3://srs-udacity-aws-2022/train/cycle_s_002978.png\n",
      "upload: train/cycle_s_003122.png to s3://srs-udacity-aws-2022/train/cycle_s_003122.png\n",
      "upload: train/cycle_s_003008.png to s3://srs-udacity-aws-2022/train/cycle_s_003008.png\n",
      "upload: train/cycle_s_002882.png to s3://srs-udacity-aws-2022/train/cycle_s_002882.png\n",
      "upload: train/dirt_bike_s_000005.png to s3://srs-udacity-aws-2022/train/dirt_bike_s_000005.png\n",
      "upload: train/dirt_bike_s_000003.png to s3://srs-udacity-aws-2022/train/dirt_bike_s_000003.png\n",
      "upload: train/dirt_bike_s_000124.png to s3://srs-udacity-aws-2022/train/dirt_bike_s_000124.png\n",
      "upload: train/dirt_bike_s_000030.png to s3://srs-udacity-aws-2022/train/dirt_bike_s_000030.png\n",
      "upload: train/cycle_s_003162.png to s3://srs-udacity-aws-2022/train/cycle_s_003162.png\n",
      "upload: train/cycle_s_003148.png to s3://srs-udacity-aws-2022/train/cycle_s_003148.png\n",
      "upload: train/dirt_bike_s_000059.png to s3://srs-udacity-aws-2022/train/dirt_bike_s_000059.png\n"
     ]
    },
    {
     "name": "stdout",
     "output_type": "stream",
     "text": [
      "upload: train/dirt_bike_s_000134.png to s3://srs-udacity-aws-2022/train/dirt_bike_s_000134.png\n",
      "upload: train/minibike_s_000020.png to s3://srs-udacity-aws-2022/train/minibike_s_000020.png\n",
      "upload: train/minibike_s_000010.png to s3://srs-udacity-aws-2022/train/minibike_s_000010.png\n",
      "upload: train/dirt_bike_s_000017.png to s3://srs-udacity-aws-2022/train/dirt_bike_s_000017.png\n",
      "upload: train/minibike_s_000022.png to s3://srs-udacity-aws-2022/train/minibike_s_000022.png\n",
      "upload: train/dirt_bike_s_000119.png to s3://srs-udacity-aws-2022/train/dirt_bike_s_000119.png\n",
      "upload: train/minibike_s_000011.png to s3://srs-udacity-aws-2022/train/minibike_s_000011.png\n",
      "upload: train/minibike_s_000035.png to s3://srs-udacity-aws-2022/train/minibike_s_000035.png\n",
      "upload: train/minibike_s_000036.png to s3://srs-udacity-aws-2022/train/minibike_s_000036.png\n",
      "upload: train/minibike_s_000099.png to s3://srs-udacity-aws-2022/train/minibike_s_000099.png\n",
      "upload: train/minibike_s_000064.png to s3://srs-udacity-aws-2022/train/minibike_s_000064.png\n",
      "upload: train/minibike_s_000102.png to s3://srs-udacity-aws-2022/train/minibike_s_000102.png\n",
      "upload: train/minibike_s_000116.png to s3://srs-udacity-aws-2022/train/minibike_s_000116.png\n",
      "upload: train/minibike_s_000121.png to s3://srs-udacity-aws-2022/train/minibike_s_000121.png\n",
      "upload: train/minibike_s_000117.png to s3://srs-udacity-aws-2022/train/minibike_s_000117.png\n",
      "upload: train/minibike_s_000127.png to s3://srs-udacity-aws-2022/train/minibike_s_000127.png\n",
      "upload: train/minibike_s_000130.png to s3://srs-udacity-aws-2022/train/minibike_s_000130.png\n",
      "upload: train/minibike_s_000146.png to s3://srs-udacity-aws-2022/train/minibike_s_000146.png\n",
      "upload: train/minibike_s_000108.png to s3://srs-udacity-aws-2022/train/minibike_s_000108.png\n",
      "upload: train/minibike_s_000149.png to s3://srs-udacity-aws-2022/train/minibike_s_000149.png\n",
      "upload: train/minibike_s_000110.png to s3://srs-udacity-aws-2022/train/minibike_s_000110.png\n",
      "upload: train/minibike_s_000218.png to s3://srs-udacity-aws-2022/train/minibike_s_000218.png\n",
      "upload: train/minibike_s_000203.png to s3://srs-udacity-aws-2022/train/minibike_s_000203.png\n",
      "upload: train/minibike_s_000293.png to s3://srs-udacity-aws-2022/train/minibike_s_000293.png\n",
      "upload: train/minibike_s_000350.png to s3://srs-udacity-aws-2022/train/minibike_s_000350.png\n",
      "upload: train/minibike_s_000324.png to s3://srs-udacity-aws-2022/train/minibike_s_000324.png\n",
      "upload: train/minibike_s_000340.png to s3://srs-udacity-aws-2022/train/minibike_s_000340.png\n",
      "upload: train/minibike_s_000362.png to s3://srs-udacity-aws-2022/train/minibike_s_000362.png\n",
      "upload: train/minibike_s_000335.png to s3://srs-udacity-aws-2022/train/minibike_s_000335.png\n",
      "upload: train/minibike_s_000314.png to s3://srs-udacity-aws-2022/train/minibike_s_000314.png\n",
      "upload: train/minibike_s_000402.png to s3://srs-udacity-aws-2022/train/minibike_s_000402.png\n",
      "upload: train/minibike_s_000392.png to s3://srs-udacity-aws-2022/train/minibike_s_000392.png\n",
      "upload: train/minibike_s_000408.png to s3://srs-udacity-aws-2022/train/minibike_s_000408.png\n",
      "upload: train/minibike_s_000401.png to s3://srs-udacity-aws-2022/train/minibike_s_000401.png\n",
      "upload: train/minibike_s_000485.png to s3://srs-udacity-aws-2022/train/minibike_s_000485.png\n",
      "upload: train/minibike_s_000409.png to s3://srs-udacity-aws-2022/train/minibike_s_000409.png\n",
      "upload: train/minibike_s_000491.png to s3://srs-udacity-aws-2022/train/minibike_s_000491.png\n",
      "upload: train/minibike_s_000165.png to s3://srs-udacity-aws-2022/train/minibike_s_000165.png\n",
      "upload: train/minibike_s_000507.png to s3://srs-udacity-aws-2022/train/minibike_s_000507.png\n",
      "upload: train/minibike_s_000427.png to s3://srs-udacity-aws-2022/train/minibike_s_000427.png\n",
      "upload: train/minibike_s_000459.png to s3://srs-udacity-aws-2022/train/minibike_s_000459.png\n",
      "upload: train/minibike_s_000498.png to s3://srs-udacity-aws-2022/train/minibike_s_000498.png\n",
      "upload: train/minibike_s_000520.png to s3://srs-udacity-aws-2022/train/minibike_s_000520.png\n",
      "upload: train/minibike_s_000522.png to s3://srs-udacity-aws-2022/train/minibike_s_000522.png\n",
      "upload: train/minibike_s_000519.png to s3://srs-udacity-aws-2022/train/minibike_s_000519.png\n",
      "upload: train/minibike_s_000511.png to s3://srs-udacity-aws-2022/train/minibike_s_000511.png\n",
      "upload: train/minibike_s_000565.png to s3://srs-udacity-aws-2022/train/minibike_s_000565.png\n",
      "upload: train/minibike_s_000451.png to s3://srs-udacity-aws-2022/train/minibike_s_000451.png\n",
      "upload: train/minibike_s_000527.png to s3://srs-udacity-aws-2022/train/minibike_s_000527.png\n",
      "upload: train/minibike_s_000435.png to s3://srs-udacity-aws-2022/train/minibike_s_000435.png\n",
      "upload: train/minibike_s_000244.png to s3://srs-udacity-aws-2022/train/minibike_s_000244.png\n",
      "upload: train/minibike_s_000518.png to s3://srs-udacity-aws-2022/train/minibike_s_000518.png\n",
      "upload: train/minibike_s_000434.png to s3://srs-udacity-aws-2022/train/minibike_s_000434.png\n",
      "upload: train/minibike_s_000569.png to s3://srs-udacity-aws-2022/train/minibike_s_000569.png\n",
      "upload: train/minibike_s_000568.png to s3://srs-udacity-aws-2022/train/minibike_s_000568.png\n",
      "upload: train/minibike_s_000526.png to s3://srs-udacity-aws-2022/train/minibike_s_000526.png\n",
      "upload: train/minibike_s_000567.png to s3://srs-udacity-aws-2022/train/minibike_s_000567.png\n",
      "upload: train/minibike_s_000429.png to s3://srs-udacity-aws-2022/train/minibike_s_000429.png\n",
      "upload: train/minibike_s_000571.png to s3://srs-udacity-aws-2022/train/minibike_s_000571.png\n",
      "upload: train/minibike_s_000566.png to s3://srs-udacity-aws-2022/train/minibike_s_000566.png\n",
      "upload: train/minibike_s_000613.png to s3://srs-udacity-aws-2022/train/minibike_s_000613.png\n",
      "upload: train/minibike_s_000570.png to s3://srs-udacity-aws-2022/train/minibike_s_000570.png\n",
      "upload: train/minibike_s_000652.png to s3://srs-udacity-aws-2022/train/minibike_s_000652.png\n",
      "upload: train/minibike_s_000800.png to s3://srs-udacity-aws-2022/train/minibike_s_000800.png\n",
      "upload: train/minibike_s_000698.png to s3://srs-udacity-aws-2022/train/minibike_s_000698.png\n",
      "upload: train/minibike_s_000701.png to s3://srs-udacity-aws-2022/train/minibike_s_000701.png\n",
      "upload: train/minibike_s_000690.png to s3://srs-udacity-aws-2022/train/minibike_s_000690.png\n",
      "upload: train/minibike_s_000743.png to s3://srs-udacity-aws-2022/train/minibike_s_000743.png\n",
      "upload: train/minibike_s_000654.png to s3://srs-udacity-aws-2022/train/minibike_s_000654.png\n",
      "upload: train/minibike_s_000738.png to s3://srs-udacity-aws-2022/train/minibike_s_000738.png\n",
      "upload: train/minibike_s_000802.png to s3://srs-udacity-aws-2022/train/minibike_s_000802.png\n",
      "upload: train/minibike_s_000885.png to s3://srs-udacity-aws-2022/train/minibike_s_000885.png\n",
      "upload: train/minibike_s_000709.png to s3://srs-udacity-aws-2022/train/minibike_s_000709.png\n",
      "upload: train/minibike_s_000830.png to s3://srs-udacity-aws-2022/train/minibike_s_000830.png\n",
      "upload: train/minibike_s_000813.png to s3://srs-udacity-aws-2022/train/minibike_s_000813.png\n",
      "upload: train/minibike_s_000886.png to s3://srs-udacity-aws-2022/train/minibike_s_000886.png\n",
      "upload: train/minibike_s_000831.png to s3://srs-udacity-aws-2022/train/minibike_s_000831.png\n",
      "upload: train/minibike_s_000855.png to s3://srs-udacity-aws-2022/train/minibike_s_000855.png\n",
      "upload: train/minibike_s_000820.png to s3://srs-udacity-aws-2022/train/minibike_s_000820.png\n",
      "upload: train/minibike_s_000824.png to s3://srs-udacity-aws-2022/train/minibike_s_000824.png\n",
      "upload: train/minibike_s_000906.png to s3://srs-udacity-aws-2022/train/minibike_s_000906.png\n",
      "upload: train/minibike_s_000968.png to s3://srs-udacity-aws-2022/train/minibike_s_000968.png\n",
      "upload: train/minibike_s_001072.png to s3://srs-udacity-aws-2022/train/minibike_s_001072.png\n",
      "upload: train/minibike_s_001017.png to s3://srs-udacity-aws-2022/train/minibike_s_001017.png\n",
      "upload: train/minibike_s_000741.png to s3://srs-udacity-aws-2022/train/minibike_s_000741.png\n",
      "upload: train/minibike_s_000914.png to s3://srs-udacity-aws-2022/train/minibike_s_000914.png\n",
      "upload: train/minibike_s_001094.png to s3://srs-udacity-aws-2022/train/minibike_s_001094.png\n",
      "upload: train/minibike_s_001168.png to s3://srs-udacity-aws-2022/train/minibike_s_001168.png\n",
      "upload: train/minibike_s_001079.png to s3://srs-udacity-aws-2022/train/minibike_s_001079.png\n",
      "upload: train/minibike_s_001179.png to s3://srs-udacity-aws-2022/train/minibike_s_001179.png\n",
      "upload: train/minibike_s_001169.png to s3://srs-udacity-aws-2022/train/minibike_s_001169.png\n",
      "upload: train/minibike_s_001177.png to s3://srs-udacity-aws-2022/train/minibike_s_001177.png\n",
      "upload: train/minibike_s_001191.png to s3://srs-udacity-aws-2022/train/minibike_s_001191.png\n",
      "upload: train/minibike_s_001185.png to s3://srs-udacity-aws-2022/train/minibike_s_001185.png\n",
      "upload: train/minibike_s_001193.png to s3://srs-udacity-aws-2022/train/minibike_s_001193.png\n"
     ]
    },
    {
     "name": "stdout",
     "output_type": "stream",
     "text": [
      "upload: train/minibike_s_001157.png to s3://srs-udacity-aws-2022/train/minibike_s_001157.png\n",
      "upload: train/minibike_s_001250.png to s3://srs-udacity-aws-2022/train/minibike_s_001250.png\n",
      "upload: train/minibike_s_001270.png to s3://srs-udacity-aws-2022/train/minibike_s_001270.png\n",
      "upload: train/minibike_s_001279.png to s3://srs-udacity-aws-2022/train/minibike_s_001279.png\n",
      "upload: train/minibike_s_001016.png to s3://srs-udacity-aws-2022/train/minibike_s_001016.png\n",
      "upload: train/minibike_s_001294.png to s3://srs-udacity-aws-2022/train/minibike_s_001294.png\n",
      "upload: train/minibike_s_001345.png to s3://srs-udacity-aws-2022/train/minibike_s_001345.png\n",
      "upload: train/minibike_s_001261.png to s3://srs-udacity-aws-2022/train/minibike_s_001261.png\n",
      "upload: train/minibike_s_001249.png to s3://srs-udacity-aws-2022/train/minibike_s_001249.png\n",
      "upload: train/minibike_s_001417.png to s3://srs-udacity-aws-2022/train/minibike_s_001417.png\n",
      "upload: train/minibike_s_001344.png to s3://srs-udacity-aws-2022/train/minibike_s_001344.png\n",
      "upload: train/minibike_s_001348.png to s3://srs-udacity-aws-2022/train/minibike_s_001348.png\n",
      "upload: train/minibike_s_001450.png to s3://srs-udacity-aws-2022/train/minibike_s_001450.png\n",
      "upload: train/minibike_s_001496.png to s3://srs-udacity-aws-2022/train/minibike_s_001496.png\n",
      "upload: train/minibike_s_001275.png to s3://srs-udacity-aws-2022/train/minibike_s_001275.png\n",
      "upload: train/minibike_s_001479.png to s3://srs-udacity-aws-2022/train/minibike_s_001479.png\n",
      "upload: train/minibike_s_001366.png to s3://srs-udacity-aws-2022/train/minibike_s_001366.png\n",
      "upload: train/minibike_s_001498.png to s3://srs-udacity-aws-2022/train/minibike_s_001498.png\n",
      "upload: train/minibike_s_001506.png to s3://srs-udacity-aws-2022/train/minibike_s_001506.png\n",
      "upload: train/minibike_s_001491.png to s3://srs-udacity-aws-2022/train/minibike_s_001491.png\n",
      "upload: train/minibike_s_001511.png to s3://srs-udacity-aws-2022/train/minibike_s_001511.png\n",
      "upload: train/minibike_s_001512.png to s3://srs-udacity-aws-2022/train/minibike_s_001512.png\n",
      "upload: train/minibike_s_001540.png to s3://srs-udacity-aws-2022/train/minibike_s_001540.png\n",
      "upload: train/minibike_s_001539.png to s3://srs-udacity-aws-2022/train/minibike_s_001539.png\n",
      "upload: train/minibike_s_001546.png to s3://srs-udacity-aws-2022/train/minibike_s_001546.png\n",
      "upload: train/minibike_s_001458.png to s3://srs-udacity-aws-2022/train/minibike_s_001458.png\n",
      "upload: train/minibike_s_001558.png to s3://srs-udacity-aws-2022/train/minibike_s_001558.png\n",
      "upload: train/minibike_s_001565.png to s3://srs-udacity-aws-2022/train/minibike_s_001565.png\n",
      "upload: train/minibike_s_001631.png to s3://srs-udacity-aws-2022/train/minibike_s_001631.png\n",
      "upload: train/minibike_s_000967.png to s3://srs-udacity-aws-2022/train/minibike_s_000967.png\n",
      "upload: train/minibike_s_001638.png to s3://srs-udacity-aws-2022/train/minibike_s_001638.png\n",
      "upload: train/minibike_s_001573.png to s3://srs-udacity-aws-2022/train/minibike_s_001573.png\n",
      "upload: train/minibike_s_001653.png to s3://srs-udacity-aws-2022/train/minibike_s_001653.png\n",
      "upload: train/minibike_s_001597.png to s3://srs-udacity-aws-2022/train/minibike_s_001597.png\n",
      "upload: train/minibike_s_001575.png to s3://srs-udacity-aws-2022/train/minibike_s_001575.png\n",
      "upload: train/minibike_s_001689.png to s3://srs-udacity-aws-2022/train/minibike_s_001689.png\n",
      "upload: train/minibike_s_001691.png to s3://srs-udacity-aws-2022/train/minibike_s_001691.png\n",
      "upload: train/minibike_s_001639.png to s3://srs-udacity-aws-2022/train/minibike_s_001639.png\n",
      "upload: train/minibike_s_001731.png to s3://srs-udacity-aws-2022/train/minibike_s_001731.png\n",
      "upload: train/minibike_s_001827.png to s3://srs-udacity-aws-2022/train/minibike_s_001827.png\n",
      "upload: train/minibike_s_001767.png to s3://srs-udacity-aws-2022/train/minibike_s_001767.png\n",
      "upload: train/minibike_s_001789.png to s3://srs-udacity-aws-2022/train/minibike_s_001789.png\n",
      "upload: train/minibike_s_001701.png to s3://srs-udacity-aws-2022/train/minibike_s_001701.png\n",
      "upload: train/minibike_s_001829.png to s3://srs-udacity-aws-2022/train/minibike_s_001829.png\n",
      "upload: train/minibike_s_001836.png to s3://srs-udacity-aws-2022/train/minibike_s_001836.png\n",
      "upload: train/minibike_s_001734.png to s3://srs-udacity-aws-2022/train/minibike_s_001734.png\n",
      "upload: train/minibike_s_001838.png to s3://srs-udacity-aws-2022/train/minibike_s_001838.png\n",
      "upload: train/minibike_s_001865.png to s3://srs-udacity-aws-2022/train/minibike_s_001865.png\n",
      "upload: train/minibike_s_001747.png to s3://srs-udacity-aws-2022/train/minibike_s_001747.png\n",
      "upload: train/minibike_s_001870.png to s3://srs-udacity-aws-2022/train/minibike_s_001870.png\n",
      "upload: train/minibike_s_001873.png to s3://srs-udacity-aws-2022/train/minibike_s_001873.png\n",
      "upload: train/minibike_s_001880.png to s3://srs-udacity-aws-2022/train/minibike_s_001880.png\n",
      "upload: train/minibike_s_001771.png to s3://srs-udacity-aws-2022/train/minibike_s_001771.png\n",
      "upload: train/minibike_s_001885.png to s3://srs-udacity-aws-2022/train/minibike_s_001885.png\n",
      "upload: train/minibike_s_001917.png to s3://srs-udacity-aws-2022/train/minibike_s_001917.png\n",
      "upload: train/minibike_s_001881.png to s3://srs-udacity-aws-2022/train/minibike_s_001881.png\n",
      "upload: train/minibike_s_001863.png to s3://srs-udacity-aws-2022/train/minibike_s_001863.png\n",
      "upload: train/minibike_s_001996.png to s3://srs-udacity-aws-2022/train/minibike_s_001996.png\n",
      "upload: train/minibike_s_001944.png to s3://srs-udacity-aws-2022/train/minibike_s_001944.png\n",
      "upload: train/minibike_s_001969.png to s3://srs-udacity-aws-2022/train/minibike_s_001969.png\n",
      "upload: train/minibike_s_001972.png to s3://srs-udacity-aws-2022/train/minibike_s_001972.png\n",
      "upload: train/minibike_s_002030.png to s3://srs-udacity-aws-2022/train/minibike_s_002030.png\n",
      "upload: train/minibike_s_002009.png to s3://srs-udacity-aws-2022/train/minibike_s_002009.png\n",
      "upload: train/minibike_s_002038.png to s3://srs-udacity-aws-2022/train/minibike_s_002038.png\n",
      "upload: train/minibike_s_002046.png to s3://srs-udacity-aws-2022/train/minibike_s_002046.png\n",
      "upload: train/minibike_s_002084.png to s3://srs-udacity-aws-2022/train/minibike_s_002084.png\n",
      "upload: train/minibike_s_002048.png to s3://srs-udacity-aws-2022/train/minibike_s_002048.png\n",
      "upload: train/minibike_s_002130.png to s3://srs-udacity-aws-2022/train/minibike_s_002130.png\n",
      "upload: train/minibike_s_002115.png to s3://srs-udacity-aws-2022/train/minibike_s_002115.png\n",
      "upload: train/minibike_s_001921.png to s3://srs-udacity-aws-2022/train/minibike_s_001921.png\n",
      "upload: train/minibike_s_002137.png to s3://srs-udacity-aws-2022/train/minibike_s_002137.png\n",
      "upload: train/minibike_s_002146.png to s3://srs-udacity-aws-2022/train/minibike_s_002146.png\n",
      "upload: train/minibike_s_002124.png to s3://srs-udacity-aws-2022/train/minibike_s_002124.png\n",
      "upload: train/minibike_s_002176.png to s3://srs-udacity-aws-2022/train/minibike_s_002176.png\n",
      "upload: train/minibike_s_002186.png to s3://srs-udacity-aws-2022/train/minibike_s_002186.png\n",
      "upload: train/minibike_s_002182.png to s3://srs-udacity-aws-2022/train/minibike_s_002182.png\n",
      "upload: train/moped_s_000009.png to s3://srs-udacity-aws-2022/train/moped_s_000009.png\n",
      "upload: train/minibike_s_002198.png to s3://srs-udacity-aws-2022/train/minibike_s_002198.png\n",
      "upload: train/minibike_s_002163.png to s3://srs-udacity-aws-2022/train/minibike_s_002163.png\n",
      "upload: train/moped_s_000021.png to s3://srs-udacity-aws-2022/train/moped_s_000021.png\n",
      "upload: train/minibike_s_002196.png to s3://srs-udacity-aws-2022/train/minibike_s_002196.png\n",
      "upload: train/minibike_s_002194.png to s3://srs-udacity-aws-2022/train/minibike_s_002194.png\n",
      "upload: train/moped_s_000035.png to s3://srs-udacity-aws-2022/train/moped_s_000035.png\n",
      "upload: train/moped_s_000034.png to s3://srs-udacity-aws-2022/train/moped_s_000034.png\n",
      "upload: train/moped_s_000044.png to s3://srs-udacity-aws-2022/train/moped_s_000044.png\n",
      "upload: train/moped_s_000065.png to s3://srs-udacity-aws-2022/train/moped_s_000065.png\n",
      "upload: train/minibike_s_002218.png to s3://srs-udacity-aws-2022/train/minibike_s_002218.png\n",
      "upload: train/moped_s_000030.png to s3://srs-udacity-aws-2022/train/moped_s_000030.png\n",
      "upload: train/moped_s_000124.png to s3://srs-udacity-aws-2022/train/moped_s_000124.png\n",
      "upload: train/moped_s_000071.png to s3://srs-udacity-aws-2022/train/moped_s_000071.png\n",
      "upload: train/moped_s_000119.png to s3://srs-udacity-aws-2022/train/moped_s_000119.png\n",
      "upload: train/moped_s_000169.png to s3://srs-udacity-aws-2022/train/moped_s_000169.png\n",
      "upload: train/moped_s_000236.png to s3://srs-udacity-aws-2022/train/moped_s_000236.png\n",
      "upload: train/moped_s_000237.png to s3://srs-udacity-aws-2022/train/moped_s_000237.png\n",
      "upload: train/moped_s_000168.png to s3://srs-udacity-aws-2022/train/moped_s_000168.png\n",
      "upload: train/moped_s_000135.png to s3://srs-udacity-aws-2022/train/moped_s_000135.png\n"
     ]
    },
    {
     "name": "stdout",
     "output_type": "stream",
     "text": [
      "upload: train/motorbike_s_000009.png to s3://srs-udacity-aws-2022/train/motorbike_s_000009.png\n",
      "upload: train/motorbike_s_000022.png to s3://srs-udacity-aws-2022/train/motorbike_s_000022.png\n",
      "upload: train/motorbike_s_000035.png to s3://srs-udacity-aws-2022/train/motorbike_s_000035.png\n",
      "upload: train/motorbike_s_000058.png to s3://srs-udacity-aws-2022/train/motorbike_s_000058.png\n",
      "upload: train/motorbike_s_000041.png to s3://srs-udacity-aws-2022/train/motorbike_s_000041.png\n",
      "upload: train/motorbike_s_000068.png to s3://srs-udacity-aws-2022/train/motorbike_s_000068.png\n",
      "upload: train/motorbike_s_000021.png to s3://srs-udacity-aws-2022/train/motorbike_s_000021.png\n",
      "upload: train/motorbike_s_000106.png to s3://srs-udacity-aws-2022/train/motorbike_s_000106.png\n",
      "upload: train/motorbike_s_000115.png to s3://srs-udacity-aws-2022/train/motorbike_s_000115.png\n",
      "upload: train/motorbike_s_000124.png to s3://srs-udacity-aws-2022/train/motorbike_s_000124.png\n",
      "upload: train/motorbike_s_000119.png to s3://srs-udacity-aws-2022/train/motorbike_s_000119.png\n",
      "upload: train/motorbike_s_000117.png to s3://srs-udacity-aws-2022/train/motorbike_s_000117.png\n",
      "upload: train/motorbike_s_000134.png to s3://srs-udacity-aws-2022/train/motorbike_s_000134.png\n",
      "upload: train/motorbike_s_000062.png to s3://srs-udacity-aws-2022/train/motorbike_s_000062.png\n",
      "upload: train/motorbike_s_000221.png to s3://srs-udacity-aws-2022/train/motorbike_s_000221.png\n",
      "upload: train/motorbike_s_000141.png to s3://srs-udacity-aws-2022/train/motorbike_s_000141.png\n",
      "upload: train/motorbike_s_000172.png to s3://srs-udacity-aws-2022/train/motorbike_s_000172.png\n",
      "upload: train/motorbike_s_000308.png to s3://srs-udacity-aws-2022/train/motorbike_s_000308.png\n",
      "upload: train/motorbike_s_000331.png to s3://srs-udacity-aws-2022/train/motorbike_s_000331.png\n",
      "upload: train/motorbike_s_000254.png to s3://srs-udacity-aws-2022/train/motorbike_s_000254.png\n",
      "upload: train/motorbike_s_000361.png to s3://srs-udacity-aws-2022/train/motorbike_s_000361.png\n",
      "upload: train/motorbike_s_000060.png to s3://srs-udacity-aws-2022/train/motorbike_s_000060.png\n",
      "upload: train/motorbike_s_000223.png to s3://srs-udacity-aws-2022/train/motorbike_s_000223.png\n",
      "upload: train/motorbike_s_000362.png to s3://srs-udacity-aws-2022/train/motorbike_s_000362.png\n",
      "upload: train/motorbike_s_000225.png to s3://srs-udacity-aws-2022/train/motorbike_s_000225.png\n",
      "upload: train/motorbike_s_000427.png to s3://srs-udacity-aws-2022/train/motorbike_s_000427.png\n",
      "upload: train/motorbike_s_000346.png to s3://srs-udacity-aws-2022/train/motorbike_s_000346.png\n",
      "upload: train/motorbike_s_000463.png to s3://srs-udacity-aws-2022/train/motorbike_s_000463.png\n",
      "upload: train/motorbike_s_000449.png to s3://srs-udacity-aws-2022/train/motorbike_s_000449.png\n",
      "upload: train/moped_s_000004.png to s3://srs-udacity-aws-2022/train/moped_s_000004.png\n",
      "upload: train/motorbike_s_000541.png to s3://srs-udacity-aws-2022/train/motorbike_s_000541.png\n",
      "upload: train/motorbike_s_000578.png to s3://srs-udacity-aws-2022/train/motorbike_s_000578.png\n",
      "upload: train/motorcycle_s_000002.png to s3://srs-udacity-aws-2022/train/motorcycle_s_000002.png\n",
      "upload: train/motorcycle_s_000001.png to s3://srs-udacity-aws-2022/train/motorcycle_s_000001.png\n",
      "upload: train/motorbike_s_000501.png to s3://srs-udacity-aws-2022/train/motorbike_s_000501.png\n",
      "upload: train/motorcycle_s_000003.png to s3://srs-udacity-aws-2022/train/motorcycle_s_000003.png\n",
      "upload: train/motorcycle_s_000004.png to s3://srs-udacity-aws-2022/train/motorcycle_s_000004.png\n",
      "upload: train/motorcycle_s_000022.png to s3://srs-udacity-aws-2022/train/motorcycle_s_000022.png\n",
      "upload: train/motorcycle_s_000009.png to s3://srs-udacity-aws-2022/train/motorcycle_s_000009.png\n",
      "upload: train/motorcycle_s_000070.png to s3://srs-udacity-aws-2022/train/motorcycle_s_000070.png\n",
      "upload: train/motorcycle_s_000029.png to s3://srs-udacity-aws-2022/train/motorcycle_s_000029.png\n",
      "upload: train/motorcycle_s_000026.png to s3://srs-udacity-aws-2022/train/motorcycle_s_000026.png\n",
      "upload: train/motorcycle_s_000032.png to s3://srs-udacity-aws-2022/train/motorcycle_s_000032.png\n",
      "upload: train/motorcycle_s_000050.png to s3://srs-udacity-aws-2022/train/motorcycle_s_000050.png\n",
      "upload: train/motorcycle_s_000025.png to s3://srs-udacity-aws-2022/train/motorcycle_s_000025.png\n",
      "upload: train/motorcycle_s_000072.png to s3://srs-udacity-aws-2022/train/motorcycle_s_000072.png\n",
      "upload: train/motorcycle_s_000027.png to s3://srs-udacity-aws-2022/train/motorcycle_s_000027.png\n",
      "upload: train/motorcycle_s_000127.png to s3://srs-udacity-aws-2022/train/motorcycle_s_000127.png\n",
      "upload: train/motorcycle_s_000126.png to s3://srs-udacity-aws-2022/train/motorcycle_s_000126.png\n",
      "upload: train/motorcycle_s_000144.png to s3://srs-udacity-aws-2022/train/motorcycle_s_000144.png\n",
      "upload: train/motorcycle_s_000076.png to s3://srs-udacity-aws-2022/train/motorcycle_s_000076.png\n",
      "upload: train/motorbike_s_000534.png to s3://srs-udacity-aws-2022/train/motorbike_s_000534.png\n",
      "upload: train/motorcycle_s_000120.png to s3://srs-udacity-aws-2022/train/motorcycle_s_000120.png\n",
      "upload: train/motorcycle_s_000136.png to s3://srs-udacity-aws-2022/train/motorcycle_s_000136.png\n",
      "upload: train/motorcycle_s_000146.png to s3://srs-udacity-aws-2022/train/motorcycle_s_000146.png\n",
      "upload: train/motorcycle_s_000151.png to s3://srs-udacity-aws-2022/train/motorcycle_s_000151.png\n",
      "upload: train/motorcycle_s_000207.png to s3://srs-udacity-aws-2022/train/motorcycle_s_000207.png\n",
      "upload: train/motorcycle_s_000219.png to s3://srs-udacity-aws-2022/train/motorcycle_s_000219.png\n",
      "upload: train/motorcycle_s_000167.png to s3://srs-udacity-aws-2022/train/motorcycle_s_000167.png\n",
      "upload: train/motorcycle_s_000217.png to s3://srs-udacity-aws-2022/train/motorcycle_s_000217.png\n",
      "upload: train/motorcycle_s_000216.png to s3://srs-udacity-aws-2022/train/motorcycle_s_000216.png\n",
      "upload: train/motorcycle_s_000154.png to s3://srs-udacity-aws-2022/train/motorcycle_s_000154.png\n",
      "upload: train/motorcycle_s_000170.png to s3://srs-udacity-aws-2022/train/motorcycle_s_000170.png\n",
      "upload: train/motorcycle_s_000074.png to s3://srs-udacity-aws-2022/train/motorcycle_s_000074.png\n",
      "upload: train/motorcycle_s_000169.png to s3://srs-udacity-aws-2022/train/motorcycle_s_000169.png\n",
      "upload: train/motorcycle_s_000223.png to s3://srs-udacity-aws-2022/train/motorcycle_s_000223.png\n",
      "upload: train/motorcycle_s_000220.png to s3://srs-udacity-aws-2022/train/motorcycle_s_000220.png\n",
      "upload: train/motorcycle_s_000133.png to s3://srs-udacity-aws-2022/train/motorcycle_s_000133.png\n",
      "upload: train/motorcycle_s_000242.png to s3://srs-udacity-aws-2022/train/motorcycle_s_000242.png\n",
      "upload: train/motorcycle_s_000245.png to s3://srs-udacity-aws-2022/train/motorcycle_s_000245.png\n",
      "upload: train/motorcycle_s_000246.png to s3://srs-udacity-aws-2022/train/motorcycle_s_000246.png\n",
      "upload: train/motorcycle_s_000221.png to s3://srs-udacity-aws-2022/train/motorcycle_s_000221.png\n",
      "upload: train/motorcycle_s_000256.png to s3://srs-udacity-aws-2022/train/motorcycle_s_000256.png\n",
      "upload: train/motorcycle_s_000249.png to s3://srs-udacity-aws-2022/train/motorcycle_s_000249.png\n",
      "upload: train/motorcycle_s_000277.png to s3://srs-udacity-aws-2022/train/motorcycle_s_000277.png\n",
      "upload: train/motorcycle_s_000291.png to s3://srs-udacity-aws-2022/train/motorcycle_s_000291.png\n",
      "upload: train/motorcycle_s_000290.png to s3://srs-udacity-aws-2022/train/motorcycle_s_000290.png\n",
      "upload: train/motorcycle_s_000252.png to s3://srs-udacity-aws-2022/train/motorcycle_s_000252.png\n",
      "upload: train/motorcycle_s_000262.png to s3://srs-udacity-aws-2022/train/motorcycle_s_000262.png\n",
      "upload: train/motorcycle_s_000253.png to s3://srs-udacity-aws-2022/train/motorcycle_s_000253.png\n",
      "upload: train/motorcycle_s_000309.png to s3://srs-udacity-aws-2022/train/motorcycle_s_000309.png\n",
      "upload: train/motorcycle_s_000300.png to s3://srs-udacity-aws-2022/train/motorcycle_s_000300.png\n",
      "upload: train/motorcycle_s_000304.png to s3://srs-udacity-aws-2022/train/motorcycle_s_000304.png\n",
      "upload: train/motorcycle_s_000312.png to s3://srs-udacity-aws-2022/train/motorcycle_s_000312.png\n",
      "upload: train/motorcycle_s_000320.png to s3://srs-udacity-aws-2022/train/motorcycle_s_000320.png\n",
      "upload: train/motorcycle_s_000319.png to s3://srs-udacity-aws-2022/train/motorcycle_s_000319.png\n",
      "upload: train/motorcycle_s_000325.png to s3://srs-udacity-aws-2022/train/motorcycle_s_000325.png\n",
      "upload: train/motorcycle_s_000332.png to s3://srs-udacity-aws-2022/train/motorcycle_s_000332.png\n",
      "upload: train/motorcycle_s_000346.png to s3://srs-udacity-aws-2022/train/motorcycle_s_000346.png\n",
      "upload: train/motorcycle_s_000353.png to s3://srs-udacity-aws-2022/train/motorcycle_s_000353.png\n"
     ]
    },
    {
     "name": "stdout",
     "output_type": "stream",
     "text": [
      "upload: train/motorcycle_s_000340.png to s3://srs-udacity-aws-2022/train/motorcycle_s_000340.png\n",
      "upload: train/motorcycle_s_000347.png to s3://srs-udacity-aws-2022/train/motorcycle_s_000347.png\n",
      "upload: train/motorcycle_s_000284.png to s3://srs-udacity-aws-2022/train/motorcycle_s_000284.png\n",
      "upload: train/motorcycle_s_000407.png to s3://srs-udacity-aws-2022/train/motorcycle_s_000407.png\n",
      "upload: train/motorcycle_s_000418.png to s3://srs-udacity-aws-2022/train/motorcycle_s_000418.png\n",
      "upload: train/motorcycle_s_000339.png to s3://srs-udacity-aws-2022/train/motorcycle_s_000339.png\n",
      "upload: train/motorcycle_s_000417.png to s3://srs-udacity-aws-2022/train/motorcycle_s_000417.png\n",
      "upload: train/motorcycle_s_000422.png to s3://srs-udacity-aws-2022/train/motorcycle_s_000422.png\n",
      "upload: train/motorcycle_s_000430.png to s3://srs-udacity-aws-2022/train/motorcycle_s_000430.png\n",
      "upload: train/motorcycle_s_000423.png to s3://srs-udacity-aws-2022/train/motorcycle_s_000423.png\n",
      "upload: train/motorcycle_s_000431.png to s3://srs-udacity-aws-2022/train/motorcycle_s_000431.png\n",
      "upload: train/motorcycle_s_000447.png to s3://srs-udacity-aws-2022/train/motorcycle_s_000447.png\n",
      "upload: train/motorcycle_s_000451.png to s3://srs-udacity-aws-2022/train/motorcycle_s_000451.png\n",
      "upload: train/motorcycle_s_000454.png to s3://srs-udacity-aws-2022/train/motorcycle_s_000454.png\n",
      "upload: train/motorcycle_s_000432.png to s3://srs-udacity-aws-2022/train/motorcycle_s_000432.png\n",
      "upload: train/motorcycle_s_000440.png to s3://srs-udacity-aws-2022/train/motorcycle_s_000440.png\n",
      "upload: train/motorcycle_s_000456.png to s3://srs-udacity-aws-2022/train/motorcycle_s_000456.png\n",
      "upload: train/motorcycle_s_000496.png to s3://srs-udacity-aws-2022/train/motorcycle_s_000496.png\n",
      "upload: train/motorcycle_s_000508.png to s3://srs-udacity-aws-2022/train/motorcycle_s_000508.png\n",
      "upload: train/motorcycle_s_000517.png to s3://srs-udacity-aws-2022/train/motorcycle_s_000517.png\n",
      "upload: train/motorcycle_s_000543.png to s3://srs-udacity-aws-2022/train/motorcycle_s_000543.png\n",
      "upload: train/motorcycle_s_000459.png to s3://srs-udacity-aws-2022/train/motorcycle_s_000459.png\n",
      "upload: train/motorcycle_s_000580.png to s3://srs-udacity-aws-2022/train/motorcycle_s_000580.png\n",
      "upload: train/motorcycle_s_000486.png to s3://srs-udacity-aws-2022/train/motorcycle_s_000486.png\n",
      "upload: train/motorcycle_s_000545.png to s3://srs-udacity-aws-2022/train/motorcycle_s_000545.png\n",
      "upload: train/motorcycle_s_000617.png to s3://srs-udacity-aws-2022/train/motorcycle_s_000617.png\n",
      "upload: train/motorcycle_s_000542.png to s3://srs-udacity-aws-2022/train/motorcycle_s_000542.png\n",
      "upload: train/motorcycle_s_000622.png to s3://srs-udacity-aws-2022/train/motorcycle_s_000622.png\n",
      "upload: train/motorcycle_s_000585.png to s3://srs-udacity-aws-2022/train/motorcycle_s_000585.png\n",
      "upload: train/motorcycle_s_000594.png to s3://srs-udacity-aws-2022/train/motorcycle_s_000594.png\n",
      "upload: train/motorcycle_s_000669.png to s3://srs-udacity-aws-2022/train/motorcycle_s_000669.png\n",
      "upload: train/motorcycle_s_000654.png to s3://srs-udacity-aws-2022/train/motorcycle_s_000654.png\n",
      "upload: train/motorcycle_s_000593.png to s3://srs-udacity-aws-2022/train/motorcycle_s_000593.png\n",
      "upload: train/motorcycle_s_000605.png to s3://srs-udacity-aws-2022/train/motorcycle_s_000605.png\n",
      "upload: train/motorcycle_s_000629.png to s3://srs-udacity-aws-2022/train/motorcycle_s_000629.png\n",
      "upload: train/motorcycle_s_000686.png to s3://srs-udacity-aws-2022/train/motorcycle_s_000686.png\n",
      "upload: train/motorcycle_s_000696.png to s3://srs-udacity-aws-2022/train/motorcycle_s_000696.png\n",
      "upload: train/motorcycle_s_000698.png to s3://srs-udacity-aws-2022/train/motorcycle_s_000698.png\n",
      "upload: train/motorcycle_s_000724.png to s3://srs-udacity-aws-2022/train/motorcycle_s_000724.png\n",
      "upload: train/motorcycle_s_000687.png to s3://srs-udacity-aws-2022/train/motorcycle_s_000687.png\n",
      "upload: train/motorcycle_s_000699.png to s3://srs-udacity-aws-2022/train/motorcycle_s_000699.png\n",
      "upload: train/motorcycle_s_000521.png to s3://srs-udacity-aws-2022/train/motorcycle_s_000521.png\n",
      "upload: train/motorcycle_s_000695.png to s3://srs-udacity-aws-2022/train/motorcycle_s_000695.png\n",
      "upload: train/motorcycle_s_000732.png to s3://srs-udacity-aws-2022/train/motorcycle_s_000732.png\n",
      "upload: train/motorcycle_s_000700.png to s3://srs-udacity-aws-2022/train/motorcycle_s_000700.png\n",
      "upload: train/motorcycle_s_000772.png to s3://srs-udacity-aws-2022/train/motorcycle_s_000772.png\n",
      "upload: train/motorcycle_s_000713.png to s3://srs-udacity-aws-2022/train/motorcycle_s_000713.png\n",
      "upload: train/motorcycle_s_000741.png to s3://srs-udacity-aws-2022/train/motorcycle_s_000741.png\n",
      "upload: train/motorcycle_s_000734.png to s3://srs-udacity-aws-2022/train/motorcycle_s_000734.png\n",
      "upload: train/motorcycle_s_000785.png to s3://srs-udacity-aws-2022/train/motorcycle_s_000785.png\n",
      "upload: train/motorcycle_s_000714.png to s3://srs-udacity-aws-2022/train/motorcycle_s_000714.png\n",
      "upload: train/motorcycle_s_000787.png to s3://srs-udacity-aws-2022/train/motorcycle_s_000787.png\n",
      "upload: train/motorcycle_s_000790.png to s3://srs-udacity-aws-2022/train/motorcycle_s_000790.png\n",
      "upload: train/motorcycle_s_000791.png to s3://srs-udacity-aws-2022/train/motorcycle_s_000791.png\n",
      "upload: train/motorcycle_s_000917.png to s3://srs-udacity-aws-2022/train/motorcycle_s_000917.png\n",
      "upload: train/motorcycle_s_000796.png to s3://srs-udacity-aws-2022/train/motorcycle_s_000796.png\n",
      "upload: train/motorcycle_s_000776.png to s3://srs-udacity-aws-2022/train/motorcycle_s_000776.png\n",
      "upload: train/motorcycle_s_000887.png to s3://srs-udacity-aws-2022/train/motorcycle_s_000887.png\n",
      "upload: train/motorcycle_s_000922.png to s3://srs-udacity-aws-2022/train/motorcycle_s_000922.png\n",
      "upload: train/motorcycle_s_000807.png to s3://srs-udacity-aws-2022/train/motorcycle_s_000807.png\n",
      "upload: train/motorcycle_s_000834.png to s3://srs-udacity-aws-2022/train/motorcycle_s_000834.png\n",
      "upload: train/motorcycle_s_000919.png to s3://srs-udacity-aws-2022/train/motorcycle_s_000919.png\n",
      "upload: train/motorcycle_s_000894.png to s3://srs-udacity-aws-2022/train/motorcycle_s_000894.png\n",
      "upload: train/motorcycle_s_000792.png to s3://srs-udacity-aws-2022/train/motorcycle_s_000792.png\n",
      "upload: train/motorcycle_s_000924.png to s3://srs-udacity-aws-2022/train/motorcycle_s_000924.png\n",
      "upload: train/motorcycle_s_000928.png to s3://srs-udacity-aws-2022/train/motorcycle_s_000928.png\n",
      "upload: train/motorcycle_s_000938.png to s3://srs-udacity-aws-2022/train/motorcycle_s_000938.png\n",
      "upload: train/motorcycle_s_000941.png to s3://srs-udacity-aws-2022/train/motorcycle_s_000941.png\n",
      "upload: train/motorcycle_s_000933.png to s3://srs-udacity-aws-2022/train/motorcycle_s_000933.png\n",
      "upload: train/motorcycle_s_000978.png to s3://srs-udacity-aws-2022/train/motorcycle_s_000978.png\n",
      "upload: train/motorcycle_s_000989.png to s3://srs-udacity-aws-2022/train/motorcycle_s_000989.png\n",
      "upload: train/motorcycle_s_000979.png to s3://srs-udacity-aws-2022/train/motorcycle_s_000979.png\n",
      "upload: train/motorcycle_s_000923.png to s3://srs-udacity-aws-2022/train/motorcycle_s_000923.png\n",
      "upload: train/motorcycle_s_001016.png to s3://srs-udacity-aws-2022/train/motorcycle_s_001016.png\n",
      "upload: train/motorcycle_s_000925.png to s3://srs-udacity-aws-2022/train/motorcycle_s_000925.png\n",
      "upload: train/motorcycle_s_000991.png to s3://srs-udacity-aws-2022/train/motorcycle_s_000991.png\n",
      "upload: train/motorcycle_s_001027.png to s3://srs-udacity-aws-2022/train/motorcycle_s_001027.png\n",
      "upload: train/motorcycle_s_001012.png to s3://srs-udacity-aws-2022/train/motorcycle_s_001012.png\n",
      "upload: train/motorcycle_s_001033.png to s3://srs-udacity-aws-2022/train/motorcycle_s_001033.png\n",
      "upload: train/motorcycle_s_001064.png to s3://srs-udacity-aws-2022/train/motorcycle_s_001064.png\n",
      "upload: train/motorcycle_s_001017.png to s3://srs-udacity-aws-2022/train/motorcycle_s_001017.png\n",
      "upload: train/motorcycle_s_001119.png to s3://srs-udacity-aws-2022/train/motorcycle_s_001119.png\n",
      "upload: train/motorcycle_s_001106.png to s3://srs-udacity-aws-2022/train/motorcycle_s_001106.png\n",
      "upload: train/motorcycle_s_001167.png to s3://srs-udacity-aws-2022/train/motorcycle_s_001167.png\n",
      "upload: train/motorcycle_s_001118.png to s3://srs-udacity-aws-2022/train/motorcycle_s_001118.png\n",
      "upload: train/motorcycle_s_001126.png to s3://srs-udacity-aws-2022/train/motorcycle_s_001126.png\n"
     ]
    },
    {
     "name": "stdout",
     "output_type": "stream",
     "text": [
      "upload: train/motorcycle_s_001180.png to s3://srs-udacity-aws-2022/train/motorcycle_s_001180.png\n",
      "upload: train/motorcycle_s_001176.png to s3://srs-udacity-aws-2022/train/motorcycle_s_001176.png\n",
      "upload: train/motorcycle_s_001181.png to s3://srs-udacity-aws-2022/train/motorcycle_s_001181.png\n",
      "upload: train/motorcycle_s_001182.png to s3://srs-udacity-aws-2022/train/motorcycle_s_001182.png\n",
      "upload: train/motorcycle_s_001209.png to s3://srs-udacity-aws-2022/train/motorcycle_s_001209.png\n",
      "upload: train/motorcycle_s_001205.png to s3://srs-udacity-aws-2022/train/motorcycle_s_001205.png\n",
      "upload: train/motorcycle_s_001183.png to s3://srs-udacity-aws-2022/train/motorcycle_s_001183.png\n",
      "upload: train/motorcycle_s_001063.png to s3://srs-udacity-aws-2022/train/motorcycle_s_001063.png\n",
      "upload: train/motorcycle_s_001213.png to s3://srs-udacity-aws-2022/train/motorcycle_s_001213.png\n",
      "upload: train/motorcycle_s_001236.png to s3://srs-udacity-aws-2022/train/motorcycle_s_001236.png\n",
      "upload: train/motorcycle_s_001220.png to s3://srs-udacity-aws-2022/train/motorcycle_s_001220.png\n",
      "upload: train/motorcycle_s_001197.png to s3://srs-udacity-aws-2022/train/motorcycle_s_001197.png\n",
      "upload: train/motorcycle_s_001237.png to s3://srs-udacity-aws-2022/train/motorcycle_s_001237.png\n",
      "upload: train/motorcycle_s_001196.png to s3://srs-udacity-aws-2022/train/motorcycle_s_001196.png\n",
      "upload: train/motorcycle_s_001238.png to s3://srs-udacity-aws-2022/train/motorcycle_s_001238.png\n",
      "upload: train/motorcycle_s_001244.png to s3://srs-udacity-aws-2022/train/motorcycle_s_001244.png\n",
      "upload: train/motorcycle_s_001215.png to s3://srs-udacity-aws-2022/train/motorcycle_s_001215.png\n",
      "upload: train/motorcycle_s_001246.png to s3://srs-udacity-aws-2022/train/motorcycle_s_001246.png\n",
      "upload: train/motorcycle_s_001242.png to s3://srs-udacity-aws-2022/train/motorcycle_s_001242.png\n",
      "upload: train/motorcycle_s_001247.png to s3://srs-udacity-aws-2022/train/motorcycle_s_001247.png\n",
      "upload: train/motorcycle_s_001287.png to s3://srs-udacity-aws-2022/train/motorcycle_s_001287.png\n",
      "upload: train/motorcycle_s_001273.png to s3://srs-udacity-aws-2022/train/motorcycle_s_001273.png\n",
      "upload: train/motorcycle_s_001303.png to s3://srs-udacity-aws-2022/train/motorcycle_s_001303.png\n",
      "upload: train/motorcycle_s_001319.png to s3://srs-udacity-aws-2022/train/motorcycle_s_001319.png\n",
      "upload: train/motorcycle_s_001360.png to s3://srs-udacity-aws-2022/train/motorcycle_s_001360.png\n",
      "upload: train/motorcycle_s_001326.png to s3://srs-udacity-aws-2022/train/motorcycle_s_001326.png\n",
      "upload: train/motorcycle_s_001263.png to s3://srs-udacity-aws-2022/train/motorcycle_s_001263.png\n",
      "upload: train/motorcycle_s_001315.png to s3://srs-udacity-aws-2022/train/motorcycle_s_001315.png\n",
      "upload: train/motorcycle_s_001368.png to s3://srs-udacity-aws-2022/train/motorcycle_s_001368.png\n",
      "upload: train/motorcycle_s_001337.png to s3://srs-udacity-aws-2022/train/motorcycle_s_001337.png\n",
      "upload: train/motorcycle_s_001370.png to s3://srs-udacity-aws-2022/train/motorcycle_s_001370.png\n",
      "upload: train/motorcycle_s_001363.png to s3://srs-udacity-aws-2022/train/motorcycle_s_001363.png\n",
      "upload: train/motorcycle_s_001402.png to s3://srs-udacity-aws-2022/train/motorcycle_s_001402.png\n",
      "upload: train/motorcycle_s_001397.png to s3://srs-udacity-aws-2022/train/motorcycle_s_001397.png\n",
      "upload: train/motorcycle_s_001297.png to s3://srs-udacity-aws-2022/train/motorcycle_s_001297.png\n",
      "upload: train/motorcycle_s_001400.png to s3://srs-udacity-aws-2022/train/motorcycle_s_001400.png\n",
      "upload: train/motorcycle_s_001384.png to s3://srs-udacity-aws-2022/train/motorcycle_s_001384.png\n",
      "upload: train/motorcycle_s_001407.png to s3://srs-udacity-aws-2022/train/motorcycle_s_001407.png\n",
      "upload: train/motorcycle_s_001392.png to s3://srs-udacity-aws-2022/train/motorcycle_s_001392.png\n",
      "upload: train/motorcycle_s_001492.png to s3://srs-udacity-aws-2022/train/motorcycle_s_001492.png\n",
      "upload: train/motorcycle_s_001520.png to s3://srs-udacity-aws-2022/train/motorcycle_s_001520.png\n",
      "upload: train/motorcycle_s_001438.png to s3://srs-udacity-aws-2022/train/motorcycle_s_001438.png\n",
      "upload: train/motorcycle_s_001409.png to s3://srs-udacity-aws-2022/train/motorcycle_s_001409.png\n",
      "upload: train/motorcycle_s_001453.png to s3://srs-udacity-aws-2022/train/motorcycle_s_001453.png\n",
      "upload: train/motorcycle_s_001413.png to s3://srs-udacity-aws-2022/train/motorcycle_s_001413.png\n",
      "upload: train/motorcycle_s_001507.png to s3://srs-udacity-aws-2022/train/motorcycle_s_001507.png\n",
      "upload: train/motorcycle_s_001584.png to s3://srs-udacity-aws-2022/train/motorcycle_s_001584.png\n",
      "upload: train/motorcycle_s_001585.png to s3://srs-udacity-aws-2022/train/motorcycle_s_001585.png\n",
      "upload: train/motorcycle_s_001565.png to s3://srs-udacity-aws-2022/train/motorcycle_s_001565.png\n",
      "upload: train/motorcycle_s_001587.png to s3://srs-udacity-aws-2022/train/motorcycle_s_001587.png\n",
      "upload: train/motorcycle_s_001536.png to s3://srs-udacity-aws-2022/train/motorcycle_s_001536.png\n",
      "upload: train/motorcycle_s_001580.png to s3://srs-udacity-aws-2022/train/motorcycle_s_001580.png\n",
      "upload: train/motorcycle_s_001435.png to s3://srs-udacity-aws-2022/train/motorcycle_s_001435.png\n",
      "upload: train/motorcycle_s_001563.png to s3://srs-udacity-aws-2022/train/motorcycle_s_001563.png\n",
      "upload: train/motorcycle_s_001439.png to s3://srs-udacity-aws-2022/train/motorcycle_s_001439.png\n",
      "upload: train/motorcycle_s_001610.png to s3://srs-udacity-aws-2022/train/motorcycle_s_001610.png\n",
      "upload: train/motorcycle_s_001622.png to s3://srs-udacity-aws-2022/train/motorcycle_s_001622.png\n",
      "upload: train/motorcycle_s_001527.png to s3://srs-udacity-aws-2022/train/motorcycle_s_001527.png\n",
      "upload: train/motorcycle_s_001611.png to s3://srs-udacity-aws-2022/train/motorcycle_s_001611.png\n",
      "upload: train/motorcycle_s_001641.png to s3://srs-udacity-aws-2022/train/motorcycle_s_001641.png\n",
      "upload: train/motorcycle_s_001696.png to s3://srs-udacity-aws-2022/train/motorcycle_s_001696.png\n",
      "upload: train/motorcycle_s_001549.png to s3://srs-udacity-aws-2022/train/motorcycle_s_001549.png\n",
      "upload: train/motorcycle_s_001693.png to s3://srs-udacity-aws-2022/train/motorcycle_s_001693.png\n",
      "upload: train/motorcycle_s_001686.png to s3://srs-udacity-aws-2022/train/motorcycle_s_001686.png\n",
      "upload: train/motorcycle_s_001695.png to s3://srs-udacity-aws-2022/train/motorcycle_s_001695.png\n",
      "upload: train/motorcycle_s_001711.png to s3://srs-udacity-aws-2022/train/motorcycle_s_001711.png\n",
      "upload: train/motorcycle_s_001714.png to s3://srs-udacity-aws-2022/train/motorcycle_s_001714.png\n",
      "upload: train/motorcycle_s_001753.png to s3://srs-udacity-aws-2022/train/motorcycle_s_001753.png\n",
      "upload: train/motorcycle_s_001765.png to s3://srs-udacity-aws-2022/train/motorcycle_s_001765.png\n",
      "upload: train/motorcycle_s_001715.png to s3://srs-udacity-aws-2022/train/motorcycle_s_001715.png\n",
      "upload: train/motorcycle_s_001690.png to s3://srs-udacity-aws-2022/train/motorcycle_s_001690.png\n",
      "upload: train/motorcycle_s_001767.png to s3://srs-udacity-aws-2022/train/motorcycle_s_001767.png\n",
      "upload: train/motorcycle_s_001623.png to s3://srs-udacity-aws-2022/train/motorcycle_s_001623.png\n",
      "upload: train/motorcycle_s_001709.png to s3://srs-udacity-aws-2022/train/motorcycle_s_001709.png\n",
      "upload: train/motorcycle_s_001710.png to s3://srs-udacity-aws-2022/train/motorcycle_s_001710.png\n",
      "upload: train/motorcycle_s_001790.png to s3://srs-udacity-aws-2022/train/motorcycle_s_001790.png\n",
      "upload: train/motorcycle_s_001699.png to s3://srs-udacity-aws-2022/train/motorcycle_s_001699.png\n",
      "upload: train/motorcycle_s_001848.png to s3://srs-udacity-aws-2022/train/motorcycle_s_001848.png\n",
      "upload: train/motorcycle_s_001856.png to s3://srs-udacity-aws-2022/train/motorcycle_s_001856.png\n",
      "upload: train/motorcycle_s_001706.png to s3://srs-udacity-aws-2022/train/motorcycle_s_001706.png\n",
      "upload: train/motorcycle_s_001778.png to s3://srs-udacity-aws-2022/train/motorcycle_s_001778.png\n",
      "upload: train/motorcycle_s_001792.png to s3://srs-udacity-aws-2022/train/motorcycle_s_001792.png\n",
      "upload: train/motorcycle_s_001853.png to s3://srs-udacity-aws-2022/train/motorcycle_s_001853.png\n",
      "upload: train/motorcycle_s_001784.png to s3://srs-udacity-aws-2022/train/motorcycle_s_001784.png\n",
      "upload: train/motorcycle_s_001707.png to s3://srs-udacity-aws-2022/train/motorcycle_s_001707.png\n",
      "upload: train/motorcycle_s_001973.png to s3://srs-udacity-aws-2022/train/motorcycle_s_001973.png\n",
      "upload: train/motorcycle_s_001905.png to s3://srs-udacity-aws-2022/train/motorcycle_s_001905.png\n",
      "upload: train/motorcycle_s_001862.png to s3://srs-udacity-aws-2022/train/motorcycle_s_001862.png\n",
      "upload: train/motorcycle_s_001920.png to s3://srs-udacity-aws-2022/train/motorcycle_s_001920.png\n",
      "upload: train/motorcycle_s_001878.png to s3://srs-udacity-aws-2022/train/motorcycle_s_001878.png\n",
      "upload: train/motorcycle_s_002065.png to s3://srs-udacity-aws-2022/train/motorcycle_s_002065.png\n",
      "upload: train/motorcycle_s_002030.png to s3://srs-udacity-aws-2022/train/motorcycle_s_002030.png\n",
      "upload: train/motorcycle_s_002067.png to s3://srs-udacity-aws-2022/train/motorcycle_s_002067.png\n",
      "upload: train/motorcycle_s_002121.png to s3://srs-udacity-aws-2022/train/motorcycle_s_002121.png\n",
      "upload: train/motorcycle_s_002105.png to s3://srs-udacity-aws-2022/train/motorcycle_s_002105.png\n",
      "upload: train/motorcycle_s_002066.png to s3://srs-udacity-aws-2022/train/motorcycle_s_002066.png\n",
      "upload: train/motorcycle_s_002031.png to s3://srs-udacity-aws-2022/train/motorcycle_s_002031.png\n",
      "upload: train/motorcycle_s_002140.png to s3://srs-udacity-aws-2022/train/motorcycle_s_002140.png\n"
     ]
    },
    {
     "name": "stdout",
     "output_type": "stream",
     "text": [
      "upload: train/motorcycle_s_002143.png to s3://srs-udacity-aws-2022/train/motorcycle_s_002143.png\n",
      "upload: train/motorcycle_s_001896.png to s3://srs-udacity-aws-2022/train/motorcycle_s_001896.png\n",
      "upload: train/motorcycle_s_002192.png to s3://srs-udacity-aws-2022/train/motorcycle_s_002192.png\n",
      "upload: train/motorcycle_s_002214.png to s3://srs-udacity-aws-2022/train/motorcycle_s_002214.png\n",
      "upload: train/motorcycle_s_002197.png to s3://srs-udacity-aws-2022/train/motorcycle_s_002197.png\n",
      "upload: train/motorcycle_s_002193.png to s3://srs-udacity-aws-2022/train/motorcycle_s_002193.png\n",
      "upload: train/motorcycle_s_002153.png to s3://srs-udacity-aws-2022/train/motorcycle_s_002153.png\n",
      "upload: train/motorcycle_s_002221.png to s3://srs-udacity-aws-2022/train/motorcycle_s_002221.png\n",
      "upload: train/motorcycle_s_002183.png to s3://srs-udacity-aws-2022/train/motorcycle_s_002183.png\n",
      "upload: train/motorcycle_s_002222.png to s3://srs-udacity-aws-2022/train/motorcycle_s_002222.png\n",
      "upload: train/motorcycle_s_002162.png to s3://srs-udacity-aws-2022/train/motorcycle_s_002162.png\n",
      "upload: train/motorcycle_s_002234.png to s3://srs-udacity-aws-2022/train/motorcycle_s_002234.png\n",
      "upload: train/motorcycle_s_002225.png to s3://srs-udacity-aws-2022/train/motorcycle_s_002225.png\n",
      "upload: train/motorcycle_s_002254.png to s3://srs-udacity-aws-2022/train/motorcycle_s_002254.png\n",
      "upload: train/motorcycle_s_002271.png to s3://srs-udacity-aws-2022/train/motorcycle_s_002271.png\n",
      "upload: train/motorcycle_s_002291.png to s3://srs-udacity-aws-2022/train/motorcycle_s_002291.png\n",
      "upload: train/motorcycle_s_002275.png to s3://srs-udacity-aws-2022/train/motorcycle_s_002275.png\n",
      "upload: train/motorcycle_s_002236.png to s3://srs-udacity-aws-2022/train/motorcycle_s_002236.png\n",
      "upload: train/motorcycle_s_002237.png to s3://srs-udacity-aws-2022/train/motorcycle_s_002237.png\n",
      "upload: train/motorcycle_s_002298.png to s3://srs-udacity-aws-2022/train/motorcycle_s_002298.png\n",
      "upload: train/motorcycle_s_002215.png to s3://srs-udacity-aws-2022/train/motorcycle_s_002215.png\n",
      "upload: train/ordinary_bicycle_s_000008.png to s3://srs-udacity-aws-2022/train/ordinary_bicycle_s_000008.png\n",
      "upload: train/motorcycle_s_002316.png to s3://srs-udacity-aws-2022/train/motorcycle_s_002316.png\n",
      "upload: train/ordinary_bicycle_s_000011.png to s3://srs-udacity-aws-2022/train/ordinary_bicycle_s_000011.png\n",
      "upload: train/ordinary_bicycle_s_000022.png to s3://srs-udacity-aws-2022/train/ordinary_bicycle_s_000022.png\n",
      "upload: train/ordinary_bicycle_s_000031.png to s3://srs-udacity-aws-2022/train/ordinary_bicycle_s_000031.png\n",
      "upload: train/ordinary_bicycle_s_000023.png to s3://srs-udacity-aws-2022/train/ordinary_bicycle_s_000023.png\n",
      "upload: train/ordinary_bicycle_s_000049.png to s3://srs-udacity-aws-2022/train/ordinary_bicycle_s_000049.png\n",
      "upload: train/ordinary_bicycle_s_000035.png to s3://srs-udacity-aws-2022/train/ordinary_bicycle_s_000035.png\n",
      "upload: train/ordinary_bicycle_s_000060.png to s3://srs-udacity-aws-2022/train/ordinary_bicycle_s_000060.png\n",
      "upload: train/ordinary_bicycle_s_000036.png to s3://srs-udacity-aws-2022/train/ordinary_bicycle_s_000036.png\n",
      "upload: train/ordinary_bicycle_s_000066.png to s3://srs-udacity-aws-2022/train/ordinary_bicycle_s_000066.png\n",
      "upload: train/ordinary_bicycle_s_000029.png to s3://srs-udacity-aws-2022/train/ordinary_bicycle_s_000029.png\n",
      "upload: train/motorcycle_s_002317.png to s3://srs-udacity-aws-2022/train/motorcycle_s_002317.png\n",
      "upload: train/ordinary_bicycle_s_000098.png to s3://srs-udacity-aws-2022/train/ordinary_bicycle_s_000098.png\n",
      "upload: train/ordinary_bicycle_s_000095.png to s3://srs-udacity-aws-2022/train/ordinary_bicycle_s_000095.png\n",
      "upload: train/ordinary_bicycle_s_000096.png to s3://srs-udacity-aws-2022/train/ordinary_bicycle_s_000096.png\n",
      "upload: train/ordinary_bicycle_s_000099.png to s3://srs-udacity-aws-2022/train/ordinary_bicycle_s_000099.png\n",
      "upload: train/ordinary_bicycle_s_000100.png to s3://srs-udacity-aws-2022/train/ordinary_bicycle_s_000100.png\n",
      "upload: train/ordinary_bicycle_s_000104.png to s3://srs-udacity-aws-2022/train/ordinary_bicycle_s_000104.png\n",
      "upload: train/ordinary_bicycle_s_000102.png to s3://srs-udacity-aws-2022/train/ordinary_bicycle_s_000102.png\n",
      "upload: train/ordinary_bicycle_s_000097.png to s3://srs-udacity-aws-2022/train/ordinary_bicycle_s_000097.png\n",
      "upload: train/ordinary_bicycle_s_000056.png to s3://srs-udacity-aws-2022/train/ordinary_bicycle_s_000056.png\n",
      "upload: train/ordinary_bicycle_s_000101.png to s3://srs-udacity-aws-2022/train/ordinary_bicycle_s_000101.png\n",
      "upload: train/ordinary_bicycle_s_000107.png to s3://srs-udacity-aws-2022/train/ordinary_bicycle_s_000107.png\n",
      "upload: train/ordinary_bicycle_s_000110.png to s3://srs-udacity-aws-2022/train/ordinary_bicycle_s_000110.png\n",
      "upload: train/ordinary_bicycle_s_000154.png to s3://srs-udacity-aws-2022/train/ordinary_bicycle_s_000154.png\n",
      "upload: train/ordinary_bicycle_s_000161.png to s3://srs-udacity-aws-2022/train/ordinary_bicycle_s_000161.png\n",
      "upload: train/ordinary_bicycle_s_000157.png to s3://srs-udacity-aws-2022/train/ordinary_bicycle_s_000157.png\n",
      "upload: train/ordinary_bicycle_s_000112.png to s3://srs-udacity-aws-2022/train/ordinary_bicycle_s_000112.png\n",
      "upload: train/ordinary_bicycle_s_000125.png to s3://srs-udacity-aws-2022/train/ordinary_bicycle_s_000125.png\n",
      "upload: train/ordinary_bicycle_s_000205.png to s3://srs-udacity-aws-2022/train/ordinary_bicycle_s_000205.png\n",
      "upload: train/ordinary_bicycle_s_000201.png to s3://srs-udacity-aws-2022/train/ordinary_bicycle_s_000201.png\n",
      "upload: train/ordinary_bicycle_s_000016.png to s3://srs-udacity-aws-2022/train/ordinary_bicycle_s_000016.png\n",
      "upload: train/ordinary_bicycle_s_000265.png to s3://srs-udacity-aws-2022/train/ordinary_bicycle_s_000265.png\n",
      "upload: train/ordinary_bicycle_s_000167.png to s3://srs-udacity-aws-2022/train/ordinary_bicycle_s_000167.png\n",
      "upload: train/ordinary_bicycle_s_000218.png to s3://srs-udacity-aws-2022/train/ordinary_bicycle_s_000218.png\n",
      "upload: train/ordinary_bicycle_s_000277.png to s3://srs-udacity-aws-2022/train/ordinary_bicycle_s_000277.png\n",
      "upload: train/ordinary_bicycle_s_000155.png to s3://srs-udacity-aws-2022/train/ordinary_bicycle_s_000155.png\n",
      "upload: train/ordinary_bicycle_s_000280.png to s3://srs-udacity-aws-2022/train/ordinary_bicycle_s_000280.png\n",
      "upload: train/ordinary_bicycle_s_000216.png to s3://srs-udacity-aws-2022/train/ordinary_bicycle_s_000216.png\n",
      "upload: train/ordinary_bicycle_s_000298.png to s3://srs-udacity-aws-2022/train/ordinary_bicycle_s_000298.png\n",
      "upload: train/ordinary_bicycle_s_000297.png to s3://srs-udacity-aws-2022/train/ordinary_bicycle_s_000297.png\n",
      "upload: train/ordinary_bicycle_s_000355.png to s3://srs-udacity-aws-2022/train/ordinary_bicycle_s_000355.png\n",
      "upload: train/ordinary_bicycle_s_000274.png to s3://srs-udacity-aws-2022/train/ordinary_bicycle_s_000274.png\n",
      "upload: train/ordinary_bicycle_s_000347.png to s3://srs-udacity-aws-2022/train/ordinary_bicycle_s_000347.png\n",
      "upload: train/ordinary_bicycle_s_000324.png to s3://srs-udacity-aws-2022/train/ordinary_bicycle_s_000324.png\n",
      "upload: train/ordinary_bicycle_s_000269.png to s3://srs-udacity-aws-2022/train/ordinary_bicycle_s_000269.png\n",
      "upload: train/ordinary_bicycle_s_000387.png to s3://srs-udacity-aws-2022/train/ordinary_bicycle_s_000387.png\n",
      "upload: train/ordinary_bicycle_s_000286.png to s3://srs-udacity-aws-2022/train/ordinary_bicycle_s_000286.png\n",
      "upload: train/ordinary_bicycle_s_000419.png to s3://srs-udacity-aws-2022/train/ordinary_bicycle_s_000419.png\n",
      "upload: train/ordinary_bicycle_s_000426.png to s3://srs-udacity-aws-2022/train/ordinary_bicycle_s_000426.png\n",
      "upload: train/ordinary_bicycle_s_000308.png to s3://srs-udacity-aws-2022/train/ordinary_bicycle_s_000308.png\n",
      "upload: train/ordinary_bicycle_s_000433.png to s3://srs-udacity-aws-2022/train/ordinary_bicycle_s_000433.png\n",
      "upload: train/ordinary_bicycle_s_000451.png to s3://srs-udacity-aws-2022/train/ordinary_bicycle_s_000451.png\n",
      "upload: train/safety_bicycle_s_000019.png to s3://srs-udacity-aws-2022/train/safety_bicycle_s_000019.png\n",
      "upload: train/safety_bicycle_s_000125.png to s3://srs-udacity-aws-2022/train/safety_bicycle_s_000125.png\n",
      "upload: train/safety_bicycle_s_000079.png to s3://srs-udacity-aws-2022/train/safety_bicycle_s_000079.png\n",
      "upload: train/safety_bicycle_s_000140.png to s3://srs-udacity-aws-2022/train/safety_bicycle_s_000140.png\n",
      "upload: train/safety_bicycle_s_000167.png to s3://srs-udacity-aws-2022/train/safety_bicycle_s_000167.png\n",
      "upload: train/safety_bicycle_s_000233.png to s3://srs-udacity-aws-2022/train/safety_bicycle_s_000233.png\n",
      "upload: train/safety_bicycle_s_000092.png to s3://srs-udacity-aws-2022/train/safety_bicycle_s_000092.png\n",
      "upload: train/safety_bicycle_s_000162.png to s3://srs-udacity-aws-2022/train/safety_bicycle_s_000162.png\n",
      "upload: train/safety_bicycle_s_000255.png to s3://srs-udacity-aws-2022/train/safety_bicycle_s_000255.png\n",
      "upload: train/safety_bicycle_s_000232.png to s3://srs-udacity-aws-2022/train/safety_bicycle_s_000232.png\n",
      "upload: train/safety_bicycle_s_000239.png to s3://srs-udacity-aws-2022/train/safety_bicycle_s_000239.png\n"
     ]
    },
    {
     "name": "stdout",
     "output_type": "stream",
     "text": [
      "upload: train/ordinary_bicycle_s_000432.png to s3://srs-udacity-aws-2022/train/ordinary_bicycle_s_000432.png\n",
      "upload: train/safety_bicycle_s_000303.png to s3://srs-udacity-aws-2022/train/safety_bicycle_s_000303.png\n",
      "upload: train/safety_bicycle_s_000193.png to s3://srs-udacity-aws-2022/train/safety_bicycle_s_000193.png\n",
      "upload: train/safety_bicycle_s_000196.png to s3://srs-udacity-aws-2022/train/safety_bicycle_s_000196.png\n",
      "upload: train/safety_bicycle_s_000322.png to s3://srs-udacity-aws-2022/train/safety_bicycle_s_000322.png\n",
      "upload: train/safety_bicycle_s_000324.png to s3://srs-udacity-aws-2022/train/safety_bicycle_s_000324.png\n",
      "upload: train/safety_bicycle_s_000261.png to s3://srs-udacity-aws-2022/train/safety_bicycle_s_000261.png\n",
      "upload: train/safety_bicycle_s_000207.png to s3://srs-udacity-aws-2022/train/safety_bicycle_s_000207.png\n",
      "upload: train/safety_bicycle_s_000348.png to s3://srs-udacity-aws-2022/train/safety_bicycle_s_000348.png\n",
      "upload: train/safety_bicycle_s_000359.png to s3://srs-udacity-aws-2022/train/safety_bicycle_s_000359.png\n",
      "upload: train/safety_bicycle_s_000373.png to s3://srs-udacity-aws-2022/train/safety_bicycle_s_000373.png\n",
      "upload: train/safety_bicycle_s_000425.png to s3://srs-udacity-aws-2022/train/safety_bicycle_s_000425.png\n",
      "upload: train/safety_bicycle_s_000427.png to s3://srs-udacity-aws-2022/train/safety_bicycle_s_000427.png\n",
      "upload: train/safety_bicycle_s_000533.png to s3://srs-udacity-aws-2022/train/safety_bicycle_s_000533.png\n",
      "upload: train/safety_bicycle_s_000500.png to s3://srs-udacity-aws-2022/train/safety_bicycle_s_000500.png\n",
      "upload: train/safety_bicycle_s_000296.png to s3://srs-udacity-aws-2022/train/safety_bicycle_s_000296.png\n",
      "upload: train/safety_bicycle_s_000532.png to s3://srs-udacity-aws-2022/train/safety_bicycle_s_000532.png\n",
      "upload: train/safety_bicycle_s_000655.png to s3://srs-udacity-aws-2022/train/safety_bicycle_s_000655.png\n",
      "upload: train/safety_bicycle_s_000660.png to s3://srs-udacity-aws-2022/train/safety_bicycle_s_000660.png\n",
      "upload: train/safety_bicycle_s_000568.png to s3://srs-udacity-aws-2022/train/safety_bicycle_s_000568.png\n",
      "upload: train/safety_bicycle_s_000760.png to s3://srs-udacity-aws-2022/train/safety_bicycle_s_000760.png\n",
      "upload: train/safety_bicycle_s_001028.png to s3://srs-udacity-aws-2022/train/safety_bicycle_s_001028.png\n",
      "upload: train/safety_bicycle_s_001029.png to s3://srs-udacity-aws-2022/train/safety_bicycle_s_001029.png\n",
      "upload: train/safety_bicycle_s_000789.png to s3://srs-udacity-aws-2022/train/safety_bicycle_s_000789.png\n",
      "upload: train/safety_bicycle_s_000728.png to s3://srs-udacity-aws-2022/train/safety_bicycle_s_000728.png\n",
      "upload: train/safety_bicycle_s_000860.png to s3://srs-udacity-aws-2022/train/safety_bicycle_s_000860.png\n",
      "upload: train/safety_bicycle_s_001063.png to s3://srs-udacity-aws-2022/train/safety_bicycle_s_001063.png\n",
      "upload: train/safety_bicycle_s_001026.png to s3://srs-udacity-aws-2022/train/safety_bicycle_s_001026.png\n",
      "upload: train/safety_bicycle_s_001113.png to s3://srs-udacity-aws-2022/train/safety_bicycle_s_001113.png\n",
      "upload: train/safety_bicycle_s_001085.png to s3://srs-udacity-aws-2022/train/safety_bicycle_s_001085.png\n",
      "upload: train/safety_bicycle_s_001049.png to s3://srs-udacity-aws-2022/train/safety_bicycle_s_001049.png\n",
      "upload: train/safety_bicycle_s_001240.png to s3://srs-udacity-aws-2022/train/safety_bicycle_s_001240.png\n",
      "upload: train/safety_bicycle_s_001243.png to s3://srs-udacity-aws-2022/train/safety_bicycle_s_001243.png\n",
      "upload: train/safety_bicycle_s_001202.png to s3://srs-udacity-aws-2022/train/safety_bicycle_s_001202.png\n",
      "upload: train/safety_bicycle_s_001109.png to s3://srs-udacity-aws-2022/train/safety_bicycle_s_001109.png\n",
      "upload: train/safety_bicycle_s_001253.png to s3://srs-udacity-aws-2022/train/safety_bicycle_s_001253.png\n",
      "upload: train/safety_bicycle_s_001254.png to s3://srs-udacity-aws-2022/train/safety_bicycle_s_001254.png\n",
      "upload: train/safety_bicycle_s_001320.png to s3://srs-udacity-aws-2022/train/safety_bicycle_s_001320.png\n",
      "upload: train/safety_bicycle_s_001381.png to s3://srs-udacity-aws-2022/train/safety_bicycle_s_001381.png\n",
      "upload: train/safety_bicycle_s_001570.png to s3://srs-udacity-aws-2022/train/safety_bicycle_s_001570.png\n",
      "upload: train/safety_bicycle_s_001608.png to s3://srs-udacity-aws-2022/train/safety_bicycle_s_001608.png\n",
      "upload: train/safety_bicycle_s_001327.png to s3://srs-udacity-aws-2022/train/safety_bicycle_s_001327.png\n",
      "upload: train/safety_bicycle_s_001651.png to s3://srs-udacity-aws-2022/train/safety_bicycle_s_001651.png\n",
      "upload: train/safety_bicycle_s_001639.png to s3://srs-udacity-aws-2022/train/safety_bicycle_s_001639.png\n",
      "upload: train/safety_bicycle_s_001303.png to s3://srs-udacity-aws-2022/train/safety_bicycle_s_001303.png\n",
      "upload: train/safety_bicycle_s_001659.png to s3://srs-udacity-aws-2022/train/safety_bicycle_s_001659.png\n",
      "upload: train/safety_bike_s_000058.png to s3://srs-udacity-aws-2022/train/safety_bike_s_000058.png\n",
      "upload: train/safety_bike_s_000015.png to s3://srs-udacity-aws-2022/train/safety_bike_s_000015.png\n",
      "upload: train/safety_bicycle_s_001705.png to s3://srs-udacity-aws-2022/train/safety_bicycle_s_001705.png\n",
      "upload: train/safety_bicycle_s_001699.png to s3://srs-udacity-aws-2022/train/safety_bicycle_s_001699.png\n",
      "upload: train/safety_bicycle_s_001706.png to s3://srs-udacity-aws-2022/train/safety_bicycle_s_001706.png\n",
      "upload: train/safety_bike_s_000100.png to s3://srs-udacity-aws-2022/train/safety_bike_s_000100.png\n",
      "upload: train/safety_bike_s_000054.png to s3://srs-udacity-aws-2022/train/safety_bike_s_000054.png\n",
      "upload: train/safety_bike_s_000079.png to s3://srs-udacity-aws-2022/train/safety_bike_s_000079.png\n",
      "upload: train/safety_bike_s_000009.png to s3://srs-udacity-aws-2022/train/safety_bike_s_000009.png\n",
      "upload: train/safety_bike_s_000104.png to s3://srs-udacity-aws-2022/train/safety_bike_s_000104.png\n",
      "upload: train/safety_bike_s_000158.png to s3://srs-udacity-aws-2022/train/safety_bike_s_000158.png\n",
      "upload: train/safety_bike_s_000155.png to s3://srs-udacity-aws-2022/train/safety_bike_s_000155.png\n",
      "upload: train/safety_bike_s_000263.png to s3://srs-udacity-aws-2022/train/safety_bike_s_000263.png\n",
      "upload: train/safety_bike_s_000173.png to s3://srs-udacity-aws-2022/train/safety_bike_s_000173.png\n",
      "upload: train/safety_bike_s_000198.png to s3://srs-udacity-aws-2022/train/safety_bike_s_000198.png\n",
      "upload: train/safety_bike_s_000165.png to s3://srs-udacity-aws-2022/train/safety_bike_s_000165.png\n",
      "upload: train/safety_bike_s_000244.png to s3://srs-udacity-aws-2022/train/safety_bike_s_000244.png\n",
      "upload: train/safety_bike_s_000277.png to s3://srs-udacity-aws-2022/train/safety_bike_s_000277.png\n",
      "upload: train/safety_bike_s_000160.png to s3://srs-udacity-aws-2022/train/safety_bike_s_000160.png\n",
      "upload: train/safety_bike_s_000482.png to s3://srs-udacity-aws-2022/train/safety_bike_s_000482.png\n",
      "upload: train/safety_bike_s_000178.png to s3://srs-udacity-aws-2022/train/safety_bike_s_000178.png\n",
      "upload: train/safety_bike_s_000245.png to s3://srs-udacity-aws-2022/train/safety_bike_s_000245.png\n",
      "upload: train/safety_bike_s_000328.png to s3://srs-udacity-aws-2022/train/safety_bike_s_000328.png\n",
      "upload: train/safety_bike_s_000461.png to s3://srs-udacity-aws-2022/train/safety_bike_s_000461.png\n",
      "upload: train/safety_bike_s_000311.png to s3://srs-udacity-aws-2022/train/safety_bike_s_000311.png\n",
      "upload: train/safety_bike_s_000567.png to s3://srs-udacity-aws-2022/train/safety_bike_s_000567.png\n",
      "upload: train/safety_bike_s_000830.png to s3://srs-udacity-aws-2022/train/safety_bike_s_000830.png\n",
      "upload: train/safety_bike_s_000381.png to s3://srs-udacity-aws-2022/train/safety_bike_s_000381.png\n",
      "upload: train/safety_bike_s_000848.png to s3://srs-udacity-aws-2022/train/safety_bike_s_000848.png\n",
      "upload: train/safety_bike_s_000921.png to s3://srs-udacity-aws-2022/train/safety_bike_s_000921.png\n",
      "upload: train/safety_bike_s_000643.png to s3://srs-udacity-aws-2022/train/safety_bike_s_000643.png\n",
      "upload: train/safety_bike_s_000867.png to s3://srs-udacity-aws-2022/train/safety_bike_s_000867.png\n",
      "upload: train/safety_bike_s_000934.png to s3://srs-udacity-aws-2022/train/safety_bike_s_000934.png\n",
      "upload: train/safety_bike_s_000989.png to s3://srs-udacity-aws-2022/train/safety_bike_s_000989.png\n",
      "upload: train/safety_bike_s_000984.png to s3://srs-udacity-aws-2022/train/safety_bike_s_000984.png\n",
      "upload: train/safety_bike_s_001010.png to s3://srs-udacity-aws-2022/train/safety_bike_s_001010.png\n",
      "upload: train/safety_bike_s_001355.png to s3://srs-udacity-aws-2022/train/safety_bike_s_001355.png\n",
      "upload: train/safety_bike_s_000963.png to s3://srs-udacity-aws-2022/train/safety_bike_s_000963.png\n",
      "upload: train/safety_bike_s_001012.png to s3://srs-udacity-aws-2022/train/safety_bike_s_001012.png\n",
      "upload: train/safety_bike_s_001289.png to s3://srs-udacity-aws-2022/train/safety_bike_s_001289.png\n"
     ]
    },
    {
     "name": "stdout",
     "output_type": "stream",
     "text": [
      "upload: train/safety_bike_s_000914.png to s3://srs-udacity-aws-2022/train/safety_bike_s_000914.png\n",
      "upload: train/safety_bike_s_001371.png to s3://srs-udacity-aws-2022/train/safety_bike_s_001371.png\n",
      "upload: train/safety_bike_s_000950.png to s3://srs-udacity-aws-2022/train/safety_bike_s_000950.png\n",
      "upload: train/safety_bike_s_001257.png to s3://srs-udacity-aws-2022/train/safety_bike_s_001257.png\n",
      "upload: train/safety_bike_s_001148.png to s3://srs-udacity-aws-2022/train/safety_bike_s_001148.png\n",
      "upload: train/safety_bike_s_001338.png to s3://srs-udacity-aws-2022/train/safety_bike_s_001338.png\n",
      "upload: train/safety_bike_s_001474.png to s3://srs-udacity-aws-2022/train/safety_bike_s_001474.png\n",
      "upload: train/safety_bike_s_001472.png to s3://srs-udacity-aws-2022/train/safety_bike_s_001472.png\n",
      "upload: train/safety_bike_s_001560.png to s3://srs-udacity-aws-2022/train/safety_bike_s_001560.png\n",
      "upload: train/safety_bike_s_001590.png to s3://srs-udacity-aws-2022/train/safety_bike_s_001590.png\n",
      "upload: train/safety_bike_s_001552.png to s3://srs-udacity-aws-2022/train/safety_bike_s_001552.png\n",
      "upload: train/safety_bike_s_001608.png to s3://srs-udacity-aws-2022/train/safety_bike_s_001608.png\n",
      "upload: train/safety_bike_s_001465.png to s3://srs-udacity-aws-2022/train/safety_bike_s_001465.png\n",
      "upload: train/safety_bike_s_001659.png to s3://srs-udacity-aws-2022/train/safety_bike_s_001659.png\n",
      "upload: train/safety_bike_s_001784.png to s3://srs-udacity-aws-2022/train/safety_bike_s_001784.png\n",
      "upload: train/velocipede_s_000010.png to s3://srs-udacity-aws-2022/train/velocipede_s_000010.png\n",
      "upload: train/safety_bike_s_001640.png to s3://srs-udacity-aws-2022/train/safety_bike_s_001640.png\n",
      "upload: train/velocipede_s_000021.png to s3://srs-udacity-aws-2022/train/velocipede_s_000021.png\n",
      "upload: train/velocipede_s_000012.png to s3://srs-udacity-aws-2022/train/velocipede_s_000012.png\n",
      "upload: train/velocipede_s_000023.png to s3://srs-udacity-aws-2022/train/velocipede_s_000023.png\n",
      "upload: train/safety_bike_s_001715.png to s3://srs-udacity-aws-2022/train/safety_bike_s_001715.png\n",
      "upload: train/trail_bike_s_000016.png to s3://srs-udacity-aws-2022/train/trail_bike_s_000016.png\n",
      "upload: train/velocipede_s_000265.png to s3://srs-udacity-aws-2022/train/velocipede_s_000265.png\n",
      "upload: train/velocipede_s_000049.png to s3://srs-udacity-aws-2022/train/velocipede_s_000049.png\n",
      "upload: train/velocipede_s_000330.png to s3://srs-udacity-aws-2022/train/velocipede_s_000330.png\n",
      "upload: train/velocipede_s_000430.png to s3://srs-udacity-aws-2022/train/velocipede_s_000430.png\n",
      "upload: train/velocipede_s_000282.png to s3://srs-udacity-aws-2022/train/velocipede_s_000282.png\n",
      "upload: train/velocipede_s_000358.png to s3://srs-udacity-aws-2022/train/velocipede_s_000358.png\n",
      "upload: train/velocipede_s_000670.png to s3://srs-udacity-aws-2022/train/velocipede_s_000670.png\n",
      "upload: train/velocipede_s_000485.png to s3://srs-udacity-aws-2022/train/velocipede_s_000485.png\n",
      "upload: train/velocipede_s_000586.png to s3://srs-udacity-aws-2022/train/velocipede_s_000586.png\n",
      "upload: train/velocipede_s_000931.png to s3://srs-udacity-aws-2022/train/velocipede_s_000931.png\n",
      "upload: train/velocipede_s_000659.png to s3://srs-udacity-aws-2022/train/velocipede_s_000659.png\n",
      "upload: train/velocipede_s_000807.png to s3://srs-udacity-aws-2022/train/velocipede_s_000807.png\n",
      "upload: train/velocipede_s_000702.png to s3://srs-udacity-aws-2022/train/velocipede_s_000702.png\n",
      "upload: train/velocipede_s_000139.png to s3://srs-udacity-aws-2022/train/velocipede_s_000139.png\n",
      "upload: train/velocipede_s_001056.png to s3://srs-udacity-aws-2022/train/velocipede_s_001056.png\n",
      "upload: train/velocipede_s_000989.png to s3://srs-udacity-aws-2022/train/velocipede_s_000989.png\n",
      "upload: train/velocipede_s_001141.png to s3://srs-udacity-aws-2022/train/velocipede_s_001141.png\n",
      "upload: train/velocipede_s_001158.png to s3://srs-udacity-aws-2022/train/velocipede_s_001158.png\n",
      "upload: train/velocipede_s_000825.png to s3://srs-udacity-aws-2022/train/velocipede_s_000825.png\n",
      "upload: train/velocipede_s_001166.png to s3://srs-udacity-aws-2022/train/velocipede_s_001166.png\n",
      "upload: train/velocipede_s_000949.png to s3://srs-udacity-aws-2022/train/velocipede_s_000949.png\n",
      "upload: train/velocipede_s_001200.png to s3://srs-udacity-aws-2022/train/velocipede_s_001200.png\n",
      "upload: train/velocipede_s_001244.png to s3://srs-udacity-aws-2022/train/velocipede_s_001244.png\n",
      "upload: train/velocipede_s_001278.png to s3://srs-udacity-aws-2022/train/velocipede_s_001278.png\n",
      "upload: train/velocipede_s_001422.png to s3://srs-udacity-aws-2022/train/velocipede_s_001422.png\n",
      "upload: train/velocipede_s_001298.png to s3://srs-udacity-aws-2022/train/velocipede_s_001298.png\n",
      "upload: train/velocipede_s_001210.png to s3://srs-udacity-aws-2022/train/velocipede_s_001210.png\n",
      "upload: train/velocipede_s_001142.png to s3://srs-udacity-aws-2022/train/velocipede_s_001142.png\n",
      "upload: train/velocipede_s_001222.png to s3://srs-udacity-aws-2022/train/velocipede_s_001222.png\n",
      "upload: train/velocipede_s_001338.png to s3://srs-udacity-aws-2022/train/velocipede_s_001338.png\n",
      "upload: train/velocipede_s_001225.png to s3://srs-udacity-aws-2022/train/velocipede_s_001225.png\n",
      "upload: train/velocipede_s_001358.png to s3://srs-udacity-aws-2022/train/velocipede_s_001358.png\n",
      "upload: train/velocipede_s_001361.png to s3://srs-udacity-aws-2022/train/velocipede_s_001361.png\n",
      "upload: train/velocipede_s_001514.png to s3://srs-udacity-aws-2022/train/velocipede_s_001514.png\n",
      "upload: train/velocipede_s_001279.png to s3://srs-udacity-aws-2022/train/velocipede_s_001279.png\n",
      "upload: train/velocipede_s_001299.png to s3://srs-udacity-aws-2022/train/velocipede_s_001299.png\n",
      "upload: train/velocipede_s_001585.png to s3://srs-udacity-aws-2022/train/velocipede_s_001585.png\n",
      "upload: train/velocipede_s_001637.png to s3://srs-udacity-aws-2022/train/velocipede_s_001637.png\n",
      "upload: train/velocipede_s_001870.png to s3://srs-udacity-aws-2022/train/velocipede_s_001870.png\n",
      "upload: train/velocipede_s_001880.png to s3://srs-udacity-aws-2022/train/velocipede_s_001880.png\n",
      "upload: train/velocipede_s_001872.png to s3://srs-udacity-aws-2022/train/velocipede_s_001872.png\n",
      "upload: train/velocipede_s_001883.png to s3://srs-udacity-aws-2022/train/velocipede_s_001883.png\n",
      "upload: train/velocipede_s_001489.png to s3://srs-udacity-aws-2022/train/velocipede_s_001489.png\n",
      "upload: train/velocipede_s_001874.png to s3://srs-udacity-aws-2022/train/velocipede_s_001874.png\n",
      "upload: train/velocipede_s_001907.png to s3://srs-udacity-aws-2022/train/velocipede_s_001907.png\n",
      "upload: train/velocipede_s_001935.png to s3://srs-udacity-aws-2022/train/velocipede_s_001935.png\n",
      "upload: train/velocipede_s_001920.png to s3://srs-udacity-aws-2022/train/velocipede_s_001920.png\n",
      "upload: train/velocipede_s_001958.png to s3://srs-udacity-aws-2022/train/velocipede_s_001958.png\n",
      "upload: train/velocipede_s_001882.png to s3://srs-udacity-aws-2022/train/velocipede_s_001882.png\n",
      "upload: test/bicycle_s_000030.png to s3://srs-udacity-aws-2022/test/bicycle_s_000030.png\n",
      "upload: test/bicycle_s_000031.png to s3://srs-udacity-aws-2022/test/bicycle_s_000031.png\n",
      "upload: test/bicycle_s_000777.png to s3://srs-udacity-aws-2022/test/bicycle_s_000777.png\n",
      "upload: test/bicycle_s_000479.png to s3://srs-udacity-aws-2022/test/bicycle_s_000479.png\n",
      "upload: test/bicycle_s_000776.png to s3://srs-udacity-aws-2022/test/bicycle_s_000776.png\n",
      "upload: test/bicycle_s_002458.png to s3://srs-udacity-aws-2022/test/bicycle_s_002458.png\n",
      "upload: test/bicycle_s_001102.png to s3://srs-udacity-aws-2022/test/bicycle_s_001102.png\n",
      "upload: test/bicycle_s_000513.png to s3://srs-udacity-aws-2022/test/bicycle_s_000513.png\n",
      "upload: test/bicycle_s_000059.png to s3://srs-udacity-aws-2022/test/bicycle_s_000059.png\n",
      "upload: test/bicycle_s_001804.png to s3://srs-udacity-aws-2022/test/bicycle_s_001804.png\n",
      "upload: test/bicycle_s_000779.png to s3://srs-udacity-aws-2022/test/bicycle_s_000779.png\n",
      "upload: test/bicycle_s_001218.png to s3://srs-udacity-aws-2022/test/bicycle_s_001218.png\n",
      "upload: test/bicycle_s_001789.png to s3://srs-udacity-aws-2022/test/bicycle_s_001789.png\n",
      "upload: test/bicycle_s_001047.png to s3://srs-udacity-aws-2022/test/bicycle_s_001047.png\n",
      "upload: test/bike_s_000131.png to s3://srs-udacity-aws-2022/test/bike_s_000131.png      \n",
      "upload: test/bike_s_000457.png to s3://srs-udacity-aws-2022/test/bike_s_000457.png\n",
      "upload: test/bike_s_000163.png to s3://srs-udacity-aws-2022/test/bike_s_000163.png\n",
      "upload: test/bicycle_s_000977.png to s3://srs-udacity-aws-2022/test/bicycle_s_000977.png\n",
      "upload: test/bike_s_000643.png to s3://srs-udacity-aws-2022/test/bike_s_000643.png\n",
      "upload: test/bike_s_000694.png to s3://srs-udacity-aws-2022/test/bike_s_000694.png\n",
      "upload: test/bike_s_000658.png to s3://srs-udacity-aws-2022/test/bike_s_000658.png\n",
      "upload: test/bike_s_000330.png to s3://srs-udacity-aws-2022/test/bike_s_000330.png\n",
      "upload: test/bike_s_000941.png to s3://srs-udacity-aws-2022/test/bike_s_000941.png\n",
      "upload: test/bike_s_000487.png to s3://srs-udacity-aws-2022/test/bike_s_000487.png\n",
      "upload: test/bike_s_001073.png to s3://srs-udacity-aws-2022/test/bike_s_001073.png\n",
      "upload: test/bike_s_001068.png to s3://srs-udacity-aws-2022/test/bike_s_001068.png\n",
      "upload: test/bike_s_000801.png to s3://srs-udacity-aws-2022/test/bike_s_000801.png\n",
      "upload: test/bike_s_001342.png to s3://srs-udacity-aws-2022/test/bike_s_001342.png\n",
      "upload: test/bike_s_001852.png to s3://srs-udacity-aws-2022/test/bike_s_001852.png\n",
      "upload: test/bike_s_001738.png to s3://srs-udacity-aws-2022/test/bike_s_001738.png\n",
      "upload: test/bike_s_002116.png to s3://srs-udacity-aws-2022/test/bike_s_002116.png\n",
      "upload: test/bike_s_002009.png to s3://srs-udacity-aws-2022/test/bike_s_002009.png\n",
      "upload: test/bike_s_002208.png to s3://srs-udacity-aws-2022/test/bike_s_002208.png\n",
      "upload: test/cycle_s_000010.png to s3://srs-udacity-aws-2022/test/cycle_s_000010.png\n",
      "upload: test/cycle_s_001214.png to s3://srs-udacity-aws-2022/test/cycle_s_001214.png\n",
      "upload: test/cycle_s_001044.png to s3://srs-udacity-aws-2022/test/cycle_s_001044.png\n",
      "upload: test/cycle_s_001648.png to s3://srs-udacity-aws-2022/test/cycle_s_001648.png\n",
      "upload: test/cycle_s_000068.png to s3://srs-udacity-aws-2022/test/cycle_s_000068.png\n",
      "upload: test/bicycle_s_002735.png to s3://srs-udacity-aws-2022/test/bicycle_s_002735.png\n",
      "upload: test/cycle_s_000970.png to s3://srs-udacity-aws-2022/test/cycle_s_000970.png\n",
      "upload: test/bike_s_001216.png to s3://srs-udacity-aws-2022/test/bike_s_001216.png\n",
      "upload: test/cycle_s_001297.png to s3://srs-udacity-aws-2022/test/cycle_s_001297.png\n",
      "upload: test/cycle_s_001953.png to s3://srs-udacity-aws-2022/test/cycle_s_001953.png\n",
      "upload: test/cycle_s_001915.png to s3://srs-udacity-aws-2022/test/cycle_s_001915.png\n",
      "upload: test/cycle_s_002661.png to s3://srs-udacity-aws-2022/test/cycle_s_002661.png\n",
      "upload: test/cycle_s_002305.png to s3://srs-udacity-aws-2022/test/cycle_s_002305.png\n",
      "upload: test/bike_s_000071.png to s3://srs-udacity-aws-2022/test/bike_s_000071.png\n",
      "upload: test/cycle_s_001306.png to s3://srs-udacity-aws-2022/test/cycle_s_001306.png\n",
      "upload: test/cycle_s_002964.png to s3://srs-udacity-aws-2022/test/cycle_s_002964.png\n",
      "upload: test/minibike_s_000254.png to s3://srs-udacity-aws-2022/test/minibike_s_000254.png\n",
      "upload: test/dirt_bike_s_000001.png to s3://srs-udacity-aws-2022/test/dirt_bike_s_000001.png\n",
      "upload: test/minibike_s_000055.png to s3://srs-udacity-aws-2022/test/minibike_s_000055.png\n",
      "upload: test/minibike_s_000052.png to s3://srs-udacity-aws-2022/test/minibike_s_000052.png\n",
      "upload: test/minibike_s_000075.png to s3://srs-udacity-aws-2022/test/minibike_s_000075.png\n",
      "upload: test/minibike_s_000309.png to s3://srs-udacity-aws-2022/test/minibike_s_000309.png\n",
      "upload: test/minibike_s_000290.png to s3://srs-udacity-aws-2022/test/minibike_s_000290.png\n",
      "upload: test/minibike_s_000288.png to s3://srs-udacity-aws-2022/test/minibike_s_000288.png\n",
      "upload: test/minibike_s_000573.png to s3://srs-udacity-aws-2022/test/minibike_s_000573.png\n",
      "upload: test/minibike_s_000505.png to s3://srs-udacity-aws-2022/test/minibike_s_000505.png\n",
      "upload: test/minibike_s_000792.png to s3://srs-udacity-aws-2022/test/minibike_s_000792.png\n",
      "upload: test/minibike_s_000497.png to s3://srs-udacity-aws-2022/test/minibike_s_000497.png\n",
      "upload: test/minibike_s_000801.png to s3://srs-udacity-aws-2022/test/minibike_s_000801.png\n",
      "upload: test/bicycle_s_001107.png to s3://srs-udacity-aws-2022/test/bicycle_s_001107.png\n",
      "upload: test/minibike_s_000828.png to s3://srs-udacity-aws-2022/test/minibike_s_000828.png\n",
      "upload: test/minibike_s_000913.png to s3://srs-udacity-aws-2022/test/minibike_s_000913.png\n",
      "upload: test/minibike_s_000398.png to s3://srs-udacity-aws-2022/test/minibike_s_000398.png\n",
      "upload: test/minibike_s_000947.png to s3://srs-udacity-aws-2022/test/minibike_s_000947.png\n",
      "upload: test/bike_s_000041.png to s3://srs-udacity-aws-2022/test/bike_s_000041.png\n",
      "upload: test/bike_s_001784.png to s3://srs-udacity-aws-2022/test/bike_s_001784.png\n",
      "upload: test/minibike_s_000880.png to s3://srs-udacity-aws-2022/test/minibike_s_000880.png\n",
      "upload: test/cycle_s_002613.png to s3://srs-udacity-aws-2022/test/cycle_s_002613.png\n",
      "upload: test/bike_s_001159.png to s3://srs-udacity-aws-2022/test/bike_s_001159.png\n",
      "upload: test/minibike_s_001089.png to s3://srs-udacity-aws-2022/test/minibike_s_001089.png\n",
      "upload: test/minibike_s_001473.png to s3://srs-udacity-aws-2022/test/minibike_s_001473.png\n",
      "upload: test/minibike_s_001651.png to s3://srs-udacity-aws-2022/test/minibike_s_001651.png\n",
      "upload: test/minibike_s_001441.png to s3://srs-udacity-aws-2022/test/minibike_s_001441.png\n",
      "upload: test/minibike_s_000960.png to s3://srs-udacity-aws-2022/test/minibike_s_000960.png\n",
      "upload: test/minibike_s_001605.png to s3://srs-udacity-aws-2022/test/minibike_s_001605.png\n",
      "upload: test/minibike_s_001732.png to s3://srs-udacity-aws-2022/test/minibike_s_001732.png\n",
      "upload: test/minibike_s_001547.png to s3://srs-udacity-aws-2022/test/minibike_s_001547.png\n",
      "upload: test/minibike_s_002051.png to s3://srs-udacity-aws-2022/test/minibike_s_002051.png\n",
      "upload: test/minibike_s_002227.png to s3://srs-udacity-aws-2022/test/minibike_s_002227.png\n",
      "upload: test/minibike_s_001893.png to s3://srs-udacity-aws-2022/test/minibike_s_001893.png\n",
      "upload: test/minibike_s_002230.png to s3://srs-udacity-aws-2022/test/minibike_s_002230.png\n",
      "upload: test/minibike_s_002173.png to s3://srs-udacity-aws-2022/test/minibike_s_002173.png\n",
      "upload: test/moped_s_000064.png to s3://srs-udacity-aws-2022/test/moped_s_000064.png\n",
      "upload: test/moped_s_000033.png to s3://srs-udacity-aws-2022/test/moped_s_000033.png\n",
      "upload: test/motorbike_s_000005.png to s3://srs-udacity-aws-2022/test/motorbike_s_000005.png\n",
      "upload: test/motorbike_s_000121.png to s3://srs-udacity-aws-2022/test/motorbike_s_000121.png\n",
      "upload: test/motorbike_s_000333.png to s3://srs-udacity-aws-2022/test/motorbike_s_000333.png\n",
      "upload: test/moped_s_000306.png to s3://srs-udacity-aws-2022/test/moped_s_000306.png\n",
      "upload: test/moped_s_000007.png to s3://srs-udacity-aws-2022/test/moped_s_000007.png\n",
      "upload: test/motorbike_s_000433.png to s3://srs-udacity-aws-2022/test/motorbike_s_000433.png\n",
      "upload: test/motorbike_s_000324.png to s3://srs-udacity-aws-2022/test/motorbike_s_000324.png\n",
      "upload: test/motorbike_s_000135.png to s3://srs-udacity-aws-2022/test/motorbike_s_000135.png\n",
      "upload: test/motorbike_s_000629.png to s3://srs-udacity-aws-2022/test/motorbike_s_000629.png\n",
      "upload: test/motorcycle_s_000007.png to s3://srs-udacity-aws-2022/test/motorcycle_s_000007.png\n",
      "upload: test/motorcycle_s_000042.png to s3://srs-udacity-aws-2022/test/motorcycle_s_000042.png\n",
      "upload: test/motorcycle_s_000063.png to s3://srs-udacity-aws-2022/test/motorcycle_s_000063.png\n",
      "upload: test/motorcycle_s_000139.png to s3://srs-udacity-aws-2022/test/motorcycle_s_000139.png\n",
      "upload: test/motorbike_s_000465.png to s3://srs-udacity-aws-2022/test/motorbike_s_000465.png\n",
      "upload: test/motorcycle_s_000040.png to s3://srs-udacity-aws-2022/test/motorcycle_s_000040.png\n",
      "upload: test/minibike_s_001867.png to s3://srs-udacity-aws-2022/test/minibike_s_001867.png\n",
      "upload: test/motorcycle_s_000141.png to s3://srs-udacity-aws-2022/test/motorcycle_s_000141.png\n",
      "upload: test/motorcycle_s_000211.png to s3://srs-udacity-aws-2022/test/motorcycle_s_000211.png\n",
      "upload: test/motorcycle_s_000171.png to s3://srs-udacity-aws-2022/test/motorcycle_s_000171.png\n",
      "upload: test/motorcycle_s_000222.png to s3://srs-udacity-aws-2022/test/motorcycle_s_000222.png\n",
      "upload: test/motorcycle_s_000446.png to s3://srs-udacity-aws-2022/test/motorcycle_s_000446.png\n",
      "upload: test/motorcycle_s_000323.png to s3://srs-udacity-aws-2022/test/motorcycle_s_000323.png\n",
      "upload: test/motorcycle_s_000427.png to s3://srs-udacity-aws-2022/test/motorcycle_s_000427.png\n",
      "upload: test/motorcycle_s_000060.png to s3://srs-udacity-aws-2022/test/motorcycle_s_000060.png\n",
      "upload: test/motorcycle_s_000494.png to s3://srs-udacity-aws-2022/test/motorcycle_s_000494.png\n",
      "upload: test/motorcycle_s_000485.png to s3://srs-udacity-aws-2022/test/motorcycle_s_000485.png\n"
     ]
    },
    {
     "name": "stdout",
     "output_type": "stream",
     "text": [
      "upload: test/motorcycle_s_000530.png to s3://srs-udacity-aws-2022/test/motorcycle_s_000530.png\n",
      "upload: test/motorcycle_s_000049.png to s3://srs-udacity-aws-2022/test/motorcycle_s_000049.png\n",
      "upload: test/motorcycle_s_000450.png to s3://srs-udacity-aws-2022/test/motorcycle_s_000450.png\n",
      "upload: test/motorcycle_s_000602.png to s3://srs-udacity-aws-2022/test/motorcycle_s_000602.png\n",
      "upload: test/motorcycle_s_000512.png to s3://srs-udacity-aws-2022/test/motorcycle_s_000512.png\n",
      "upload: test/motorcycle_s_000352.png to s3://srs-udacity-aws-2022/test/motorcycle_s_000352.png\n",
      "upload: test/motorcycle_s_000679.png to s3://srs-udacity-aws-2022/test/motorcycle_s_000679.png\n",
      "upload: test/motorcycle_s_000739.png to s3://srs-udacity-aws-2022/test/motorcycle_s_000739.png\n",
      "upload: test/motorcycle_s_000615.png to s3://srs-udacity-aws-2022/test/motorcycle_s_000615.png\n",
      "upload: test/motorcycle_s_000825.png to s3://srs-udacity-aws-2022/test/motorcycle_s_000825.png\n",
      "upload: test/motorcycle_s_000876.png to s3://srs-udacity-aws-2022/test/motorcycle_s_000876.png\n",
      "upload: test/motorcycle_s_000866.png to s3://srs-udacity-aws-2022/test/motorcycle_s_000866.png\n",
      "upload: test/motorcycle_s_000797.png to s3://srs-udacity-aws-2022/test/motorcycle_s_000797.png\n",
      "upload: test/motorcycle_s_000606.png to s3://srs-udacity-aws-2022/test/motorcycle_s_000606.png\n",
      "upload: test/motorcycle_s_001164.png to s3://srs-udacity-aws-2022/test/motorcycle_s_001164.png\n",
      "upload: test/motorcycle_s_001249.png to s3://srs-udacity-aws-2022/test/motorcycle_s_001249.png\n",
      "upload: test/motorcycle_s_000963.png to s3://srs-udacity-aws-2022/test/motorcycle_s_000963.png\n",
      "upload: test/motorcycle_s_001269.png to s3://srs-udacity-aws-2022/test/motorcycle_s_001269.png\n",
      "upload: test/motorbike_s_000126.png to s3://srs-udacity-aws-2022/test/motorbike_s_000126.png\n",
      "upload: test/motorcycle_s_001348.png to s3://srs-udacity-aws-2022/test/motorcycle_s_001348.png\n",
      "upload: test/motorcycle_s_001261.png to s3://srs-udacity-aws-2022/test/motorcycle_s_001261.png\n",
      "upload: test/motorcycle_s_001508.png to s3://srs-udacity-aws-2022/test/motorcycle_s_001508.png\n",
      "upload: test/motorcycle_s_001519.png to s3://srs-udacity-aws-2022/test/motorcycle_s_001519.png\n",
      "upload: test/motorcycle_s_001679.png to s3://srs-udacity-aws-2022/test/motorcycle_s_001679.png\n",
      "upload: test/motorcycle_s_001687.png to s3://srs-udacity-aws-2022/test/motorcycle_s_001687.png\n",
      "upload: test/motorcycle_s_001892.png to s3://srs-udacity-aws-2022/test/motorcycle_s_001892.png\n",
      "upload: test/motorcycle_s_001385.png to s3://srs-udacity-aws-2022/test/motorcycle_s_001385.png\n",
      "upload: test/motorcycle_s_001906.png to s3://srs-udacity-aws-2022/test/motorcycle_s_001906.png\n",
      "upload: test/motorcycle_s_001936.png to s3://srs-udacity-aws-2022/test/motorcycle_s_001936.png\n",
      "upload: test/motorcycle_s_001955.png to s3://srs-udacity-aws-2022/test/motorcycle_s_001955.png\n",
      "upload: test/motorcycle_s_001782.png to s3://srs-udacity-aws-2022/test/motorcycle_s_001782.png\n",
      "upload: test/motorcycle_s_001971.png to s3://srs-udacity-aws-2022/test/motorcycle_s_001971.png\n",
      "upload: test/motorcycle_s_002126.png to s3://srs-udacity-aws-2022/test/motorcycle_s_002126.png\n",
      "upload: test/motorcycle_s_002112.png to s3://srs-udacity-aws-2022/test/motorcycle_s_002112.png\n",
      "upload: test/motorcycle_s_001960.png to s3://srs-udacity-aws-2022/test/motorcycle_s_001960.png\n",
      "upload: test/motorcycle_s_002026.png to s3://srs-udacity-aws-2022/test/motorcycle_s_002026.png\n",
      "upload: test/ordinary_bicycle_s_000105.png to s3://srs-udacity-aws-2022/test/ordinary_bicycle_s_000105.png\n",
      "upload: test/ordinary_bicycle_s_000158.png to s3://srs-udacity-aws-2022/test/ordinary_bicycle_s_000158.png\n",
      "upload: test/ordinary_bicycle_s_000113.png to s3://srs-udacity-aws-2022/test/ordinary_bicycle_s_000113.png\n",
      "upload: test/ordinary_bicycle_s_000169.png to s3://srs-udacity-aws-2022/test/ordinary_bicycle_s_000169.png\n",
      "upload: test/motorcycle_s_002177.png to s3://srs-udacity-aws-2022/test/motorcycle_s_002177.png\n",
      "upload: test/ordinary_bicycle_s_000350.png to s3://srs-udacity-aws-2022/test/ordinary_bicycle_s_000350.png\n",
      "upload: test/ordinary_bicycle_s_000431.png to s3://srs-udacity-aws-2022/test/ordinary_bicycle_s_000431.png\n",
      "upload: test/ordinary_bicycle_s_000284.png to s3://srs-udacity-aws-2022/test/ordinary_bicycle_s_000284.png\n",
      "upload: test/motorcycle_s_000878.png to s3://srs-udacity-aws-2022/test/motorcycle_s_000878.png\n",
      "upload: test/ordinary_bicycle_s_000437.png to s3://srs-udacity-aws-2022/test/ordinary_bicycle_s_000437.png\n",
      "upload: test/safety_bicycle_s_000235.png to s3://srs-udacity-aws-2022/test/safety_bicycle_s_000235.png\n",
      "upload: test/safety_bicycle_s_000315.png to s3://srs-udacity-aws-2022/test/safety_bicycle_s_000315.png\n",
      "upload: test/safety_bicycle_s_001153.png to s3://srs-udacity-aws-2022/test/safety_bicycle_s_001153.png\n",
      "upload: test/safety_bicycle_s_001322.png to s3://srs-udacity-aws-2022/test/safety_bicycle_s_001322.png\n",
      "upload: test/safety_bicycle_s_001286.png to s3://srs-udacity-aws-2022/test/safety_bicycle_s_001286.png\n",
      "upload: test/safety_bike_s_000488.png to s3://srs-udacity-aws-2022/test/safety_bike_s_000488.png\n",
      "upload: test/safety_bike_s_000390.png to s3://srs-udacity-aws-2022/test/safety_bike_s_000390.png\n",
      "upload: test/safety_bicycle_s_001575.png to s3://srs-udacity-aws-2022/test/safety_bicycle_s_001575.png\n",
      "upload: test/safety_bike_s_000438.png to s3://srs-udacity-aws-2022/test/safety_bike_s_000438.png\n",
      "upload: test/safety_bicycle_s_000280.png to s3://srs-udacity-aws-2022/test/safety_bicycle_s_000280.png\n",
      "upload: test/safety_bike_s_000540.png to s3://srs-udacity-aws-2022/test/safety_bike_s_000540.png\n",
      "upload: test/safety_bike_s_000541.png to s3://srs-udacity-aws-2022/test/safety_bike_s_000541.png\n",
      "upload: test/safety_bike_s_000791.png to s3://srs-udacity-aws-2022/test/safety_bike_s_000791.png\n",
      "upload: test/safety_bike_s_001087.png to s3://srs-udacity-aws-2022/test/safety_bike_s_001087.png\n",
      "upload: test/safety_bike_s_001065.png to s3://srs-udacity-aws-2022/test/safety_bike_s_001065.png\n",
      "upload: test/safety_bike_s_001088.png to s3://srs-udacity-aws-2022/test/safety_bike_s_001088.png\n",
      "upload: test/safety_bike_s_000699.png to s3://srs-udacity-aws-2022/test/safety_bike_s_000699.png\n",
      "upload: test/safety_bike_s_000192.png to s3://srs-udacity-aws-2022/test/safety_bike_s_000192.png\n",
      "upload: test/safety_bike_s_001481.png to s3://srs-udacity-aws-2022/test/safety_bike_s_001481.png\n",
      "upload: test/safety_bike_s_001690.png to s3://srs-udacity-aws-2022/test/safety_bike_s_001690.png\n",
      "upload: test/safety_bike_s_001132.png to s3://srs-udacity-aws-2022/test/safety_bike_s_001132.png\n",
      "upload: test/velocipede_s_000001.png to s3://srs-udacity-aws-2022/test/velocipede_s_000001.png\n",
      "upload: test/velocipede_s_000292.png to s3://srs-udacity-aws-2022/test/velocipede_s_000292.png\n",
      "upload: test/velocipede_s_000106.png to s3://srs-udacity-aws-2022/test/velocipede_s_000106.png\n",
      "upload: test/velocipede_s_000863.png to s3://srs-udacity-aws-2022/test/velocipede_s_000863.png\n",
      "upload: test/safety_bike_s_001253.png to s3://srs-udacity-aws-2022/test/safety_bike_s_001253.png\n",
      "upload: test/trail_bike_s_000073.png to s3://srs-udacity-aws-2022/test/trail_bike_s_000073.png\n",
      "upload: test/velocipede_s_001201.png to s3://srs-udacity-aws-2022/test/velocipede_s_001201.png\n",
      "upload: test/velocipede_s_000369.png to s3://srs-udacity-aws-2022/test/velocipede_s_000369.png\n",
      "upload: test/velocipede_s_001232.png to s3://srs-udacity-aws-2022/test/velocipede_s_001232.png\n",
      "upload: test/velocipede_s_000041.png to s3://srs-udacity-aws-2022/test/velocipede_s_000041.png\n",
      "upload: test/velocipede_s_001277.png to s3://srs-udacity-aws-2022/test/velocipede_s_001277.png\n",
      "upload: test/velocipede_s_001379.png to s3://srs-udacity-aws-2022/test/velocipede_s_001379.png\n",
      "upload: test/velocipede_s_001355.png to s3://srs-udacity-aws-2022/test/velocipede_s_001355.png\n",
      "upload: test/velocipede_s_001699.png to s3://srs-udacity-aws-2022/test/velocipede_s_001699.png\n",
      "upload: test/velocipede_s_001633.png to s3://srs-udacity-aws-2022/test/velocipede_s_001633.png\n",
      "upload: test/velocipede_s_001744.png to s3://srs-udacity-aws-2022/test/velocipede_s_001744.png\n",
      "upload: test/velocipede_s_001335.png to s3://srs-udacity-aws-2022/test/velocipede_s_001335.png\n",
      "upload: test/motorcycle_s_000685.png to s3://srs-udacity-aws-2022/test/motorcycle_s_000685.png\n",
      "upload: test/velocipede_s_001466.png to s3://srs-udacity-aws-2022/test/velocipede_s_001466.png\n",
      "upload: test/velocipede_s_001790.png to s3://srs-udacity-aws-2022/test/velocipede_s_001790.png\n"
     ]
    }
   ],
   "source": [
    "os.environ[\"DEFAULT_S3_BUCKET\"] = bucket\n",
    "!aws s3 sync ./train s3://${DEFAULT_S3_BUCKET}/train/\n",
    "!aws s3 sync ./test s3://${DEFAULT_S3_BUCKET}/test/"
   ]
  },
  {
   "cell_type": "markdown",
   "metadata": {},
   "source": [
    "## Model Training\n",
    "\n",
    "For Image Classification, Sagemaker [also expects metadata](https://docs.aws.amazon.com/sagemaker/latest/dg/image-classification.html) e.g. in the form of TSV files with labels and filepaths. We can generate these using our Pandas DataFrames from earlier:"
   ]
  },
  {
   "cell_type": "code",
   "execution_count": 27,
   "metadata": {},
   "outputs": [],
   "source": [
    "def to_metadata_file(df, prefix):\n",
    "    df[\"s3_path\"] = df[\"filenames\"]\n",
    "    df[\"labels\"] = df[\"labels\"].apply(lambda x: 0 if x==8 else 1)\n",
    "    return df[[\"row\", \"labels\", \"s3_path\"]].to_csv(\n",
    "        f\"{prefix}.lst\", sep=\"\\t\", index=False, header=False\n",
    "    )\n",
    "    \n",
    "to_metadata_file(df_train.copy(), \"train\")\n",
    "to_metadata_file(df_test.copy(), \"test\")"
   ]
  },
  {
   "cell_type": "markdown",
   "metadata": {},
   "source": [
    "We can also upload our manifest files:"
   ]
  },
  {
   "cell_type": "code",
   "execution_count": 28,
   "metadata": {},
   "outputs": [],
   "source": [
    "# Upload files\n",
    "boto3.Session().resource('s3').Bucket(\n",
    "    bucket).Object('train.lst').upload_file('./train.lst')\n",
    "boto3.Session().resource('s3').Bucket(\n",
    "    bucket).Object('test.lst').upload_file('./test.lst')"
   ]
  },
  {
   "cell_type": "markdown",
   "metadata": {},
   "source": [
    "Using the `bucket` and `region` info we can get the latest prebuilt container to run our training job, and define an output location on our s3 bucket for the model. Use the `image_uris` function from the SageMaker SDK to retrieve the latest `image-classification` image below:"
   ]
  },
  {
   "cell_type": "code",
   "execution_count": 29,
   "metadata": {},
   "outputs": [],
   "source": [
    "# Use the image_uris function to retrieve the latest 'image-classification' image \n",
    "algo_image = image_uris.retrieve('image-classification', session.boto_region_name)\n",
    "s3_output_location = f\"s3://{bucket}/models/image_model\""
   ]
  },
  {
   "cell_type": "markdown",
   "metadata": {},
   "source": [
    "We're ready to create an estimator! Create an estimator `img_classifier_model` that uses one instance of `ml.p2.xlarge`. Ensure that y ou use the output location we defined above - we'll be referring to that later!"
   ]
  },
  {
   "cell_type": "code",
   "execution_count": 35,
   "metadata": {},
   "outputs": [],
   "source": [
    "img_classifier_model=sagemaker.estimator.Estimator(algo_image,\n",
    "                                                   role,\n",
    "                                                   instance_count=1,\n",
    "                                                   instance_type='ml.p2.xlarge',     \n",
    "                                                   output_path=s3_output_location,\n",
    "                                                   sagemaker_session=session\n",
    "                                                  )"
   ]
  },
  {
   "cell_type": "markdown",
   "metadata": {},
   "source": [
    "We can also set a few key hyperparameters and define the inputs for our model:"
   ]
  },
  {
   "cell_type": "code",
   "execution_count": 36,
   "metadata": {},
   "outputs": [],
   "source": [
    "img_classifier_model.set_hyperparameters(image_shape='3,32,32',\n",
    "                                         num_classes=2, \n",
    "                                         num_training_samples= 1000\n",
    "                                        )"
   ]
  },
  {
   "cell_type": "markdown",
   "metadata": {},
   "source": [
    "The `image-classification` image uses four input channels with very specific input parameters. For convenience, we've provided them below:"
   ]
  },
  {
   "cell_type": "code",
   "execution_count": 37,
   "metadata": {},
   "outputs": [],
   "source": [
    "model_inputs = {\n",
    "        \"train\": sagemaker.inputs.TrainingInput(\n",
    "            s3_data=f\"s3://{bucket}/train/\",\n",
    "            content_type=\"application/x-image\"\n",
    "        ),\n",
    "        \"validation\": sagemaker.inputs.TrainingInput(\n",
    "            s3_data=f\"s3://{bucket}/test/\",\n",
    "            content_type=\"application/x-image\"\n",
    "        ),\n",
    "        \"train_lst\": sagemaker.inputs.TrainingInput(\n",
    "            s3_data=f\"s3://{bucket}/train.lst\",\n",
    "            content_type=\"application/x-image\"\n",
    "        ),\n",
    "        \"validation_lst\": sagemaker.inputs.TrainingInput(\n",
    "            s3_data=f\"s3://{bucket}/test.lst\",\n",
    "            content_type=\"application/x-image\"\n",
    "        )\n",
    "}"
   ]
  },
  {
   "cell_type": "markdown",
   "metadata": {},
   "source": [
    "Great, now we can train the model using the model_inputs. In the cell below, call the `fit` method on our model,:"
   ]
  },
  {
   "cell_type": "code",
   "execution_count": 39,
   "metadata": {
    "scrolled": true
   },
   "outputs": [
    {
     "name": "stdout",
     "output_type": "stream",
     "text": [
      "2022-04-20 08:49:11 Starting - Starting the training job...ProfilerReport-1650444551: InProgress\n",
      "...\n",
      "2022-04-20 08:50:00 Starting - Preparing the instances for training.........\n",
      "2022-04-20 08:51:41 Downloading - Downloading input data...\n",
      "2022-04-20 08:52:02 Training - Downloading the training image.........\n",
      "2022-04-20 08:53:41 Training - Training image download completed. Training in progress..\u001b[34mDocker entrypoint called with argument(s): train\u001b[0m\n",
      "\u001b[34m[04/20/2022 08:53:47 INFO 140246797633344] Reading default configuration from /opt/amazon/lib/python3.7/site-packages/image_classification/default-input.json: {'use_pretrained_model': 0, 'num_layers': 152, 'epochs': 30, 'learning_rate': 0.1, 'lr_scheduler_factor': 0.1, 'optimizer': 'sgd', 'momentum': 0, 'weight_decay': 0.0001, 'beta_1': 0.9, 'beta_2': 0.999, 'eps': 1e-08, 'gamma': 0.9, 'mini_batch_size': 32, 'image_shape': '3,224,224', 'precision_dtype': 'float32'}\u001b[0m\n",
      "\u001b[34m[04/20/2022 08:53:47 INFO 140246797633344] Merging with provided configuration from /opt/ml/input/config/hyperparameters.json: {'image_shape': '3,32,32', 'num_classes': '2', 'num_training_samples': '1000'}\u001b[0m\n",
      "\u001b[34m[04/20/2022 08:53:47 INFO 140246797633344] Final configuration: {'use_pretrained_model': 0, 'num_layers': 152, 'epochs': 30, 'learning_rate': 0.1, 'lr_scheduler_factor': 0.1, 'optimizer': 'sgd', 'momentum': 0, 'weight_decay': 0.0001, 'beta_1': 0.9, 'beta_2': 0.999, 'eps': 1e-08, 'gamma': 0.9, 'mini_batch_size': 32, 'image_shape': '3,32,32', 'precision_dtype': 'float32', 'num_classes': '2', 'num_training_samples': '1000'}\u001b[0m\n",
      "\u001b[34m[04/20/2022 08:53:47 INFO 140246797633344] Searching for .lst files in /opt/ml/input/data/train_lst.\u001b[0m\n",
      "\u001b[34m[04/20/2022 08:53:47 INFO 140246797633344] Creating record files for train.lst\u001b[0m\n",
      "\u001b[34m[04/20/2022 08:53:47 INFO 140246797633344] Done creating record files...\u001b[0m\n",
      "\u001b[34m[04/20/2022 08:53:47 INFO 140246797633344] Searching for .lst files in /opt/ml/input/data/validation_lst.\u001b[0m\n",
      "\u001b[34m[04/20/2022 08:53:47 INFO 140246797633344] Creating record files for test.lst\u001b[0m\n",
      "\u001b[34m[04/20/2022 08:53:47 INFO 140246797633344] Done creating record files...\u001b[0m\n",
      "\u001b[34m[04/20/2022 08:53:47 INFO 140246797633344] use_pretrained_model: 0\u001b[0m\n",
      "\u001b[34m[04/20/2022 08:53:47 INFO 140246797633344] multi_label: 0\u001b[0m\n",
      "\u001b[34m[04/20/2022 08:53:47 INFO 140246797633344] Performing random weight initialization\u001b[0m\n",
      "\u001b[34m[04/20/2022 08:53:47 INFO 140246797633344] ---- Parameters ----\u001b[0m\n",
      "\u001b[34m[04/20/2022 08:53:47 INFO 140246797633344] num_layers: 152\u001b[0m\n",
      "\u001b[34m[04/20/2022 08:53:47 INFO 140246797633344] data type: <class 'numpy.float32'>\u001b[0m\n",
      "\u001b[34m[04/20/2022 08:53:47 INFO 140246797633344] epochs: 30\u001b[0m\n",
      "\u001b[34m[04/20/2022 08:53:47 INFO 140246797633344] optimizer: sgd\u001b[0m\n",
      "\u001b[34m[04/20/2022 08:53:47 INFO 140246797633344] momentum: 0.9\u001b[0m\n",
      "\u001b[34m[04/20/2022 08:53:47 INFO 140246797633344] weight_decay: 0.0001\u001b[0m\n",
      "\u001b[34m[04/20/2022 08:53:47 INFO 140246797633344] learning_rate: 0.1\u001b[0m\n",
      "\u001b[34m[04/20/2022 08:53:47 INFO 140246797633344] num_training_samples: 1000\u001b[0m\n",
      "\u001b[34m[04/20/2022 08:53:47 INFO 140246797633344] mini_batch_size: 32\u001b[0m\n",
      "\u001b[34m[04/20/2022 08:53:47 INFO 140246797633344] image_shape: 3,32,32\u001b[0m\n",
      "\u001b[34m[04/20/2022 08:53:47 INFO 140246797633344] num_classes: 2\u001b[0m\n",
      "\u001b[34m[04/20/2022 08:53:47 INFO 140246797633344] augmentation_type: None\u001b[0m\n",
      "\u001b[34m[04/20/2022 08:53:47 INFO 140246797633344] kv_store: device\u001b[0m\n",
      "\u001b[34m[04/20/2022 08:53:47 INFO 140246797633344] checkpoint_frequency not set, will store the best model\u001b[0m\n",
      "\u001b[34m[04/20/2022 08:53:47 INFO 140246797633344] --------------------\u001b[0m\n",
      "\u001b[34m[04/20/2022 08:53:47 INFO 140246797633344] Setting number of threads: 3\u001b[0m\n",
      "\u001b[34m[08:53:57] /opt/brazil-pkg-cache/packages/AIAlgorithmsMXNet/AIAlgorithmsMXNet-1.3.x_ecl_Cuda_10.1.x.11282.0/AL2_x86_64/generic-flavor/src/src/operator/nn/./cudnn/./cudnn_algoreg-inl.h:97: Running performance tests to find the best convolution algorithm, this can take a while... (setting env variable MXNET_CUDNN_AUTOTUNE_DEFAULT to 0 to disable)\u001b[0m\n",
      "\u001b[34m[04/20/2022 08:54:16 INFO 140246797633344] Epoch[0] Batch [20]#011Speed: 34.053 samples/sec#011accuracy=0.553571\u001b[0m\n",
      "\u001b[34m[04/20/2022 08:54:21 INFO 140246797633344] Epoch[0] Train-accuracy=0.595766\u001b[0m\n",
      "\u001b[34m[04/20/2022 08:54:21 INFO 140246797633344] Epoch[0] Time cost=24.159\u001b[0m\n",
      "\u001b[34m[04/20/2022 08:54:23 INFO 140246797633344] Epoch[0] Validation-accuracy=0.500000\u001b[0m\n",
      "\u001b[34m[04/20/2022 08:54:23 INFO 140246797633344] Storing the best model with validation accuracy: 0.500000\u001b[0m\n",
      "\u001b[34m[04/20/2022 08:54:24 INFO 140246797633344] Saved checkpoint to \"/opt/ml/model/image-classification-0001.params\"\u001b[0m\n",
      "\u001b[34m[04/20/2022 08:54:35 INFO 140246797633344] Epoch[1] Batch [20]#011Speed: 58.055 samples/sec#011accuracy=0.595238\u001b[0m\n",
      "\u001b[34m[04/20/2022 08:54:40 INFO 140246797633344] Epoch[1] Train-accuracy=0.612903\u001b[0m\n",
      "\u001b[34m[04/20/2022 08:54:40 INFO 140246797633344] Epoch[1] Time cost=16.425\u001b[0m\n",
      "\u001b[34m[04/20/2022 08:54:41 INFO 140246797633344] Epoch[1] Validation-accuracy=0.500000\u001b[0m\n",
      "\u001b[34m[04/20/2022 08:54:53 INFO 140246797633344] Epoch[2] Batch [20]#011Speed: 58.328 samples/sec#011accuracy=0.703869\u001b[0m\n",
      "\u001b[34m[04/20/2022 08:54:59 INFO 140246797633344] Epoch[2] Train-accuracy=0.704637\u001b[0m\n",
      "\u001b[34m[04/20/2022 08:54:59 INFO 140246797633344] Epoch[2] Time cost=16.389\u001b[0m\n",
      "\u001b[34m[04/20/2022 08:55:00 INFO 140246797633344] Epoch[2] Validation-accuracy=0.619792\u001b[0m\n",
      "\u001b[34m[04/20/2022 08:55:00 INFO 140246797633344] Storing the best model with validation accuracy: 0.619792\u001b[0m\n",
      "\u001b[34m[04/20/2022 08:55:01 INFO 140246797633344] Saved checkpoint to \"/opt/ml/model/image-classification-0003.params\"\u001b[0m\n",
      "\u001b[34m[04/20/2022 08:55:12 INFO 140246797633344] Epoch[3] Batch [20]#011Speed: 57.081 samples/sec#011accuracy=0.712798\u001b[0m\n",
      "\u001b[34m[04/20/2022 08:55:18 INFO 140246797633344] Epoch[3] Train-accuracy=0.738911\u001b[0m\n",
      "\u001b[34m[04/20/2022 08:55:18 INFO 140246797633344] Epoch[3] Time cost=16.635\u001b[0m\n",
      "\u001b[34m[04/20/2022 08:55:19 INFO 140246797633344] Epoch[3] Validation-accuracy=0.767857\u001b[0m\n",
      "\u001b[34m[04/20/2022 08:55:20 INFO 140246797633344] Storing the best model with validation accuracy: 0.767857\u001b[0m\n",
      "\u001b[34m[04/20/2022 08:55:20 INFO 140246797633344] Saved checkpoint to \"/opt/ml/model/image-classification-0004.params\"\u001b[0m\n",
      "\u001b[34m[04/20/2022 08:55:31 INFO 140246797633344] Epoch[4] Batch [20]#011Speed: 57.504 samples/sec#011accuracy=0.787202\u001b[0m\n",
      "\u001b[34m[04/20/2022 08:55:37 INFO 140246797633344] Epoch[4] Train-accuracy=0.783266\u001b[0m\n",
      "\u001b[34m[04/20/2022 08:55:37 INFO 140246797633344] Epoch[4] Time cost=16.584\u001b[0m\n",
      "\u001b[34m[04/20/2022 08:55:38 INFO 140246797633344] Epoch[4] Validation-accuracy=0.765625\u001b[0m\n",
      "\u001b[34m[04/20/2022 08:55:50 INFO 140246797633344] Epoch[5] Batch [20]#011Speed: 57.710 samples/sec#011accuracy=0.803571\u001b[0m\n",
      "\u001b[34m[04/20/2022 08:55:55 INFO 140246797633344] Epoch[5] Train-accuracy=0.778226\u001b[0m\n",
      "\u001b[34m[04/20/2022 08:55:55 INFO 140246797633344] Epoch[5] Time cost=16.561\u001b[0m\n",
      "\u001b[34m[04/20/2022 08:55:57 INFO 140246797633344] Epoch[5] Validation-accuracy=0.781250\u001b[0m\n",
      "\u001b[34m[04/20/2022 08:55:57 INFO 140246797633344] Storing the best model with validation accuracy: 0.781250\u001b[0m\n",
      "\u001b[34m[04/20/2022 08:55:58 INFO 140246797633344] Saved checkpoint to \"/opt/ml/model/image-classification-0006.params\"\u001b[0m\n",
      "\u001b[34m[04/20/2022 08:56:09 INFO 140246797633344] Epoch[6] Batch [20]#011Speed: 57.118 samples/sec#011accuracy=0.821429\u001b[0m\n",
      "\u001b[34m[04/20/2022 08:56:14 INFO 140246797633344] Epoch[6] Train-accuracy=0.811492\u001b[0m\n",
      "\u001b[34m[04/20/2022 08:56:14 INFO 140246797633344] Epoch[6] Time cost=16.662\u001b[0m\n",
      "\u001b[34m[04/20/2022 08:56:16 INFO 140246797633344] Epoch[6] Validation-accuracy=0.645833\u001b[0m\n",
      "\u001b[34m[04/20/2022 08:56:28 INFO 140246797633344] Epoch[7] Batch [20]#011Speed: 57.605 samples/sec#011accuracy=0.799107\u001b[0m\n",
      "\u001b[34m[04/20/2022 08:56:33 INFO 140246797633344] Epoch[7] Train-accuracy=0.800403\u001b[0m\n",
      "\u001b[34m[04/20/2022 08:56:33 INFO 140246797633344] Epoch[7] Time cost=16.569\u001b[0m\n",
      "\u001b[34m[04/20/2022 08:56:35 INFO 140246797633344] Epoch[7] Validation-accuracy=0.825893\u001b[0m\n",
      "\u001b[34m[04/20/2022 08:56:35 INFO 140246797633344] Storing the best model with validation accuracy: 0.825893\u001b[0m\n",
      "\u001b[34m[04/20/2022 08:56:36 INFO 140246797633344] Saved checkpoint to \"/opt/ml/model/image-classification-0008.params\"\u001b[0m\n",
      "\u001b[34m[04/20/2022 08:56:47 INFO 140246797633344] Epoch[8] Batch [20]#011Speed: 57.325 samples/sec#011accuracy=0.818452\u001b[0m\n",
      "\u001b[34m[04/20/2022 08:56:52 INFO 140246797633344] Epoch[8] Train-accuracy=0.823589\u001b[0m\n",
      "\u001b[34m[04/20/2022 08:56:52 INFO 140246797633344] Epoch[8] Time cost=16.625\u001b[0m\n",
      "\u001b[34m[04/20/2022 08:56:54 INFO 140246797633344] Epoch[8] Validation-accuracy=0.838542\u001b[0m\n",
      "\u001b[34m[04/20/2022 08:56:54 INFO 140246797633344] Storing the best model with validation accuracy: 0.838542\u001b[0m\n",
      "\u001b[34m[04/20/2022 08:56:55 INFO 140246797633344] Saved checkpoint to \"/opt/ml/model/image-classification-0009.params\"\u001b[0m\n"
     ]
    },
    {
     "name": "stdout",
     "output_type": "stream",
     "text": [
      "\u001b[34m[04/20/2022 08:57:06 INFO 140246797633344] Epoch[9] Batch [20]#011Speed: 57.059 samples/sec#011accuracy=0.827381\u001b[0m\n",
      "\u001b[34m[04/20/2022 08:57:11 INFO 140246797633344] Epoch[9] Train-accuracy=0.824597\u001b[0m\n",
      "\u001b[34m[04/20/2022 08:57:11 INFO 140246797633344] Epoch[9] Time cost=16.696\u001b[0m\n",
      "\u001b[34m[04/20/2022 08:57:13 INFO 140246797633344] Epoch[9] Validation-accuracy=0.765625\u001b[0m\n",
      "\u001b[34m[04/20/2022 08:57:25 INFO 140246797633344] Epoch[10] Batch [20]#011Speed: 57.515 samples/sec#011accuracy=0.827381\u001b[0m\n",
      "\u001b[34m[04/20/2022 08:57:30 INFO 140246797633344] Epoch[10] Train-accuracy=0.820565\u001b[0m\n",
      "\u001b[34m[04/20/2022 08:57:30 INFO 140246797633344] Epoch[10] Time cost=16.600\u001b[0m\n",
      "\u001b[34m[04/20/2022 08:57:31 INFO 140246797633344] Epoch[10] Validation-accuracy=0.734375\u001b[0m\n",
      "\u001b[34m[04/20/2022 08:57:43 INFO 140246797633344] Epoch[11] Batch [20]#011Speed: 57.570 samples/sec#011accuracy=0.828869\u001b[0m\n",
      "\u001b[34m[04/20/2022 08:57:49 INFO 140246797633344] Epoch[11] Train-accuracy=0.839718\u001b[0m\n",
      "\u001b[34m[04/20/2022 08:57:49 INFO 140246797633344] Epoch[11] Time cost=16.589\u001b[0m\n",
      "\u001b[34m[04/20/2022 08:57:50 INFO 140246797633344] Epoch[11] Validation-accuracy=0.790179\u001b[0m\n",
      "\u001b[34m[04/20/2022 08:58:02 INFO 140246797633344] Epoch[12] Batch [20]#011Speed: 57.067 samples/sec#011accuracy=0.842262\u001b[0m\n",
      "\u001b[34m[04/20/2022 08:58:08 INFO 140246797633344] Epoch[12] Train-accuracy=0.845766\u001b[0m\n",
      "\u001b[34m[04/20/2022 08:58:08 INFO 140246797633344] Epoch[12] Time cost=16.778\u001b[0m\n",
      "\u001b[34m[04/20/2022 08:58:09 INFO 140246797633344] Epoch[12] Validation-accuracy=0.828125\u001b[0m\n",
      "\u001b[34m[04/20/2022 08:58:21 INFO 140246797633344] Epoch[13] Batch [20]#011Speed: 57.486 samples/sec#011accuracy=0.852679\u001b[0m\n",
      "\u001b[34m[04/20/2022 08:58:27 INFO 140246797633344] Epoch[13] Train-accuracy=0.855847\u001b[0m\n",
      "\u001b[34m[04/20/2022 08:58:27 INFO 140246797633344] Epoch[13] Time cost=16.584\u001b[0m\n",
      "\u001b[34m[04/20/2022 08:58:28 INFO 140246797633344] Epoch[13] Validation-accuracy=0.838542\u001b[0m\n",
      "\u001b[34m[04/20/2022 08:58:40 INFO 140246797633344] Epoch[14] Batch [20]#011Speed: 57.553 samples/sec#011accuracy=0.849702\u001b[0m\n",
      "\u001b[34m[04/20/2022 08:58:45 INFO 140246797633344] Epoch[14] Train-accuracy=0.849798\u001b[0m\n",
      "\u001b[34m[04/20/2022 08:58:45 INFO 140246797633344] Epoch[14] Time cost=16.619\u001b[0m\n",
      "\u001b[34m[04/20/2022 08:58:47 INFO 140246797633344] Epoch[14] Validation-accuracy=0.812500\u001b[0m\n",
      "\u001b[34m[04/20/2022 08:58:59 INFO 140246797633344] Epoch[15] Batch [20]#011Speed: 57.691 samples/sec#011accuracy=0.876488\u001b[0m\n",
      "\u001b[34m[04/20/2022 08:59:04 INFO 140246797633344] Epoch[15] Train-accuracy=0.863911\u001b[0m\n",
      "\u001b[34m[04/20/2022 08:59:04 INFO 140246797633344] Epoch[15] Time cost=16.590\u001b[0m\n",
      "\u001b[34m[04/20/2022 08:59:06 INFO 140246797633344] Epoch[15] Validation-accuracy=0.705357\u001b[0m\n",
      "\u001b[34m[04/20/2022 08:59:18 INFO 140246797633344] Epoch[16] Batch [20]#011Speed: 57.219 samples/sec#011accuracy=0.869048\u001b[0m\n",
      "\u001b[34m[04/20/2022 08:59:23 INFO 140246797633344] Epoch[16] Train-accuracy=0.851815\u001b[0m\n",
      "\u001b[34m[04/20/2022 08:59:23 INFO 140246797633344] Epoch[16] Time cost=16.646\u001b[0m\n",
      "\u001b[34m[04/20/2022 08:59:25 INFO 140246797633344] Epoch[16] Validation-accuracy=0.817708\u001b[0m\n",
      "\u001b[34m[04/20/2022 08:59:36 INFO 140246797633344] Epoch[17] Batch [20]#011Speed: 57.511 samples/sec#011accuracy=0.877976\u001b[0m\n",
      "\u001b[34m[04/20/2022 08:59:42 INFO 140246797633344] Epoch[17] Train-accuracy=0.878024\u001b[0m\n",
      "\u001b[34m[04/20/2022 08:59:42 INFO 140246797633344] Epoch[17] Time cost=16.601\u001b[0m\n",
      "\u001b[34m[04/20/2022 08:59:43 INFO 140246797633344] Epoch[17] Validation-accuracy=0.854167\u001b[0m\n",
      "\u001b[34m[04/20/2022 08:59:44 INFO 140246797633344] Storing the best model with validation accuracy: 0.854167\u001b[0m\n",
      "\u001b[34m[04/20/2022 08:59:44 INFO 140246797633344] Saved checkpoint to \"/opt/ml/model/image-classification-0018.params\"\u001b[0m\n",
      "\u001b[34m[04/20/2022 08:59:55 INFO 140246797633344] Epoch[18] Batch [20]#011Speed: 57.526 samples/sec#011accuracy=0.846726\u001b[0m\n",
      "\u001b[34m[04/20/2022 09:00:01 INFO 140246797633344] Epoch[18] Train-accuracy=0.853831\u001b[0m\n",
      "\u001b[34m[04/20/2022 09:00:01 INFO 140246797633344] Epoch[18] Time cost=16.643\u001b[0m\n",
      "\u001b[34m[04/20/2022 09:00:02 INFO 140246797633344] Epoch[18] Validation-accuracy=0.812500\u001b[0m\n",
      "\u001b[34m[04/20/2022 09:00:14 INFO 140246797633344] Epoch[19] Batch [20]#011Speed: 57.005 samples/sec#011accuracy=0.879464\u001b[0m\n",
      "\u001b[34m[04/20/2022 09:00:20 INFO 140246797633344] Epoch[19] Train-accuracy=0.886089\u001b[0m\n",
      "\u001b[34m[04/20/2022 09:00:20 INFO 140246797633344] Epoch[19] Time cost=16.708\u001b[0m\n",
      "\u001b[34m[04/20/2022 09:00:21 INFO 140246797633344] Epoch[19] Validation-accuracy=0.767857\u001b[0m\n",
      "\u001b[34m[04/20/2022 09:00:33 INFO 140246797633344] Epoch[20] Batch [20]#011Speed: 57.296 samples/sec#011accuracy=0.880952\u001b[0m\n",
      "\u001b[34m[04/20/2022 09:00:39 INFO 140246797633344] Epoch[20] Train-accuracy=0.879032\u001b[0m\n",
      "\u001b[34m[04/20/2022 09:00:39 INFO 140246797633344] Epoch[20] Time cost=16.633\u001b[0m\n",
      "\u001b[34m[04/20/2022 09:00:40 INFO 140246797633344] Epoch[20] Validation-accuracy=0.812500\u001b[0m\n",
      "\u001b[34m[04/20/2022 09:00:52 INFO 140246797633344] Epoch[21] Batch [20]#011Speed: 57.318 samples/sec#011accuracy=0.876488\u001b[0m\n",
      "\u001b[34m[04/20/2022 09:00:58 INFO 140246797633344] Epoch[21] Train-accuracy=0.873992\u001b[0m\n",
      "\u001b[34m[04/20/2022 09:00:58 INFO 140246797633344] Epoch[21] Time cost=16.642\u001b[0m\n",
      "\u001b[34m[04/20/2022 09:00:59 INFO 140246797633344] Epoch[21] Validation-accuracy=0.812500\u001b[0m\n",
      "\u001b[34m[04/20/2022 09:01:11 INFO 140246797633344] Epoch[22] Batch [20]#011Speed: 57.014 samples/sec#011accuracy=0.904762\u001b[0m\n",
      "\u001b[34m[04/20/2022 09:01:16 INFO 140246797633344] Epoch[22] Train-accuracy=0.889113\u001b[0m\n",
      "\u001b[34m[04/20/2022 09:01:16 INFO 140246797633344] Epoch[22] Time cost=16.703\u001b[0m\n",
      "\u001b[34m[04/20/2022 09:01:18 INFO 140246797633344] Epoch[22] Validation-accuracy=0.822917\u001b[0m\n",
      "\u001b[34m[04/20/2022 09:01:30 INFO 140246797633344] Epoch[23] Batch [20]#011Speed: 57.498 samples/sec#011accuracy=0.912202\u001b[0m\n",
      "\u001b[34m[04/20/2022 09:01:35 INFO 140246797633344] Epoch[23] Train-accuracy=0.904234\u001b[0m\n",
      "\u001b[34m[04/20/2022 09:01:35 INFO 140246797633344] Epoch[23] Time cost=16.591\u001b[0m\n",
      "\u001b[34m[04/20/2022 09:01:37 INFO 140246797633344] Epoch[23] Validation-accuracy=0.812500\u001b[0m\n",
      "\u001b[34m[04/20/2022 09:01:49 INFO 140246797633344] Epoch[24] Batch [20]#011Speed: 57.188 samples/sec#011accuracy=0.895833\u001b[0m\n",
      "\u001b[34m[04/20/2022 09:01:54 INFO 140246797633344] Epoch[24] Train-accuracy=0.893145\u001b[0m\n",
      "\u001b[34m[04/20/2022 09:01:54 INFO 140246797633344] Epoch[24] Time cost=16.674\u001b[0m\n",
      "\u001b[34m[04/20/2022 09:01:56 INFO 140246797633344] Epoch[24] Validation-accuracy=0.822917\u001b[0m\n",
      "\u001b[34m[04/20/2022 09:02:08 INFO 140246797633344] Epoch[25] Batch [20]#011Speed: 56.948 samples/sec#011accuracy=0.907738\u001b[0m\n",
      "\u001b[34m[04/20/2022 09:02:13 INFO 140246797633344] Epoch[25] Train-accuracy=0.904234\u001b[0m\n",
      "\u001b[34m[04/20/2022 09:02:13 INFO 140246797633344] Epoch[25] Time cost=16.722\u001b[0m\n",
      "\u001b[34m[04/20/2022 09:02:14 INFO 140246797633344] Epoch[25] Validation-accuracy=0.781250\u001b[0m\n",
      "\u001b[34m[04/20/2022 09:02:26 INFO 140246797633344] Epoch[26] Batch [20]#011Speed: 57.675 samples/sec#011accuracy=0.898810\u001b[0m\n",
      "\u001b[34m[04/20/2022 09:02:32 INFO 140246797633344] Epoch[26] Train-accuracy=0.905242\u001b[0m\n",
      "\u001b[34m[04/20/2022 09:02:32 INFO 140246797633344] Epoch[26] Time cost=16.586\u001b[0m\n",
      "\u001b[34m[04/20/2022 09:02:33 INFO 140246797633344] Epoch[26] Validation-accuracy=0.807292\u001b[0m\n",
      "\u001b[34m[04/20/2022 09:02:45 INFO 140246797633344] Epoch[27] Batch [20]#011Speed: 57.497 samples/sec#011accuracy=0.925595\u001b[0m\n",
      "\u001b[34m[04/20/2022 09:02:50 INFO 140246797633344] Epoch[27] Train-accuracy=0.921371\u001b[0m\n",
      "\u001b[34m[04/20/2022 09:02:50 INFO 140246797633344] Epoch[27] Time cost=16.616\u001b[0m\n",
      "\u001b[34m[04/20/2022 09:02:52 INFO 140246797633344] Epoch[27] Validation-accuracy=0.785714\u001b[0m\n",
      "\u001b[34m[04/20/2022 09:03:04 INFO 140246797633344] Epoch[28] Batch [20]#011Speed: 57.043 samples/sec#011accuracy=0.915179\u001b[0m\n",
      "\u001b[34m[04/20/2022 09:03:09 INFO 140246797633344] Epoch[28] Train-accuracy=0.914315\u001b[0m\n",
      "\u001b[34m[04/20/2022 09:03:09 INFO 140246797633344] Epoch[28] Time cost=16.743\u001b[0m\n",
      "\u001b[34m[04/20/2022 09:03:11 INFO 140246797633344] Epoch[28] Validation-accuracy=0.791667\u001b[0m\n",
      "\u001b[34m[04/20/2022 09:03:23 INFO 140246797633344] Epoch[29] Batch [20]#011Speed: 57.434 samples/sec#011accuracy=0.944940\u001b[0m\n",
      "\u001b[34m[04/20/2022 09:03:28 INFO 140246797633344] Epoch[29] Train-accuracy=0.943548\u001b[0m\n",
      "\u001b[34m[04/20/2022 09:03:28 INFO 140246797633344] Epoch[29] Time cost=16.608\u001b[0m\n",
      "\u001b[34m[04/20/2022 09:03:30 INFO 140246797633344] Epoch[29] Validation-accuracy=0.750000\u001b[0m\n",
      "\n",
      "2022-04-20 09:04:04 Uploading - Uploading generated training model\n",
      "2022-04-20 09:04:24 Completed - Training job completed\n",
      "ProfilerReport-1650444551: IssuesFound\n",
      "Training seconds: 784\n",
      "Billable seconds: 784\n"
     ]
    }
   ],
   "source": [
    "img_classifier_model.fit(model_inputs)"
   ]
  },
  {
   "cell_type": "markdown",
   "metadata": {},
   "source": [
    "If all goes well, you'll end up with a model topping out above `.8` validation accuracy. With only 1000 training samples in the CIFAR dataset, that's pretty good. We could definitely pursue data augmentation & gathering more samples to help us improve further, but for now let's proceed to deploy our model.\n",
    "\n",
    "### Getting ready to deploy\n",
    "\n",
    "To begin with, let's configure Model Monitor to track our deployment. We'll define a `DataCaptureConfig` below:"
   ]
  },
  {
   "cell_type": "code",
   "execution_count": 43,
   "metadata": {},
   "outputs": [],
   "source": [
    "data_capture_config = DataCaptureConfig(\n",
    "    enable_capture=True,\n",
    "    sampling_percentage=100,\n",
    "    destination_s3_uri=f\"s3://{bucket}/data_capture\"\n",
    ")"
   ]
  },
  {
   "cell_type": "markdown",
   "metadata": {},
   "source": [
    "Note the `destination_s3_uri` parameter: At the end of the project, we can explore the `data_capture` directory in S3 to find crucial data about the inputs and outputs Model Monitor has observed on our model endpoint over time.\n",
    "\n",
    "With that done, deploy your model on a single `ml.m5.xlarge` instance with the data capture config attached:"
   ]
  },
  {
   "cell_type": "code",
   "execution_count": 44,
   "metadata": {},
   "outputs": [
    {
     "name": "stdout",
     "output_type": "stream",
     "text": [
      "---------------!image-classification-2022-04-20-09-06-00-803\n"
     ]
    }
   ],
   "source": [
    "deployment = img_classifier_model.deploy(\n",
    "    initial_instance_count=1, instance_type='ml.m5.xlarge',\n",
    "    data_capture_config=data_capture_config\n",
    "    )\n",
    "\n",
    "endpoint = deployment.endpoint_name\n",
    "print(endpoint)"
   ]
  },
  {
   "cell_type": "markdown",
   "metadata": {},
   "source": [
    "Note the endpoint name for later as well.\n",
    "\n",
    "Next, instantiate a Predictor:"
   ]
  },
  {
   "cell_type": "code",
   "execution_count": 45,
   "metadata": {},
   "outputs": [],
   "source": [
    "predictor = sagemaker.predictor.Predictor(endpoint)"
   ]
  },
  {
   "cell_type": "markdown",
   "metadata": {},
   "source": [
    "In the code snippet below we are going to prepare one of your saved images for prediction. Use the predictor to process the `payload`."
   ]
  },
  {
   "cell_type": "code",
   "execution_count": 48,
   "metadata": {},
   "outputs": [
    {
     "name": "stdout",
     "output_type": "stream",
     "text": [
      "b'[0.8762310147285461, 0.12376897037029266]'\n"
     ]
    }
   ],
   "source": [
    "predictor.serializer = IdentitySerializer(\"image/png\")\n",
    "with open(\"./test/bicycle_s_001789.png\", \"rb\") as f:\n",
    "    payload = f.read()\n",
    "\n",
    "    \n",
    "inference = predictor.predict(payload)\n",
    "print(inference)"
   ]
  },
  {
   "cell_type": "markdown",
   "metadata": {},
   "source": [
    "Your `inference` object is an array of two values, the predicted probability value for each of your classes (bicycle and motorcycle respectively.) So, for example, a value of `b'[0.87, 0.12]'` indicates the probability of being a bike is 91% and being a motorcycle is 87%."
   ]
  },
  {
   "cell_type": "markdown",
   "metadata": {},
   "source": [
    "\n",
    "Great! Now you can use the files in `./test` as test files for our workflow. Depending on our threshold, our workflow should reliably pass predictions about images from `./test` on to downstream systems, while erroring out for inferences below our confidence threshold!\n",
    "\n",
    "### Testing and Evaluation\n",
    "\n",
    "Do several step function invokations using data from the `./test` folder. This process should give you confidence that the workflow both *succeeds* AND *fails* as expected. In addition, SageMaker Model Monitor will generate recordings of your data and inferences which we can visualize.\n",
    "\n",
    "Here's a function that can help you generate test inputs for your invokations:"
   ]
  },
  {
   "cell_type": "code",
   "execution_count": 153,
   "metadata": {},
   "outputs": [
    {
     "name": "stdout",
     "output_type": "stream",
     "text": [
      "test/bike_s_001073.png\n"
     ]
    }
   ],
   "source": [
    "def generate_test_case():\n",
    "    s3 = boto3.resource('s3')\n",
    "    objects = s3.Bucket(bucket).objects.filter(Prefix = \"test\")\n",
    "    obj = random.choice([x.key for x in objects])\n",
    "    print(obj)\n",
    "    return {\n",
    "        \"image_data\": \"\",\n",
    "        \"s3_bucket\": bucket,\n",
    "        \"s3_key\": obj\n",
    "    }\n",
    "data = generate_test_case()"
   ]
  },
  {
   "cell_type": "code",
   "execution_count": 123,
   "metadata": {},
   "outputs": [
    {
     "data": {
      "text/plain": [
       "'test/motorcycle_s_000685.png'"
      ]
     },
     "execution_count": 123,
     "metadata": {},
     "output_type": "execute_result"
    }
   ],
   "source": [
    "generate_test_case()['s3_key']"
   ]
  },
  {
   "cell_type": "code",
   "execution_count": 154,
   "metadata": {},
   "outputs": [],
   "source": [
    "time.sleep(2.4)"
   ]
  },
  {
   "cell_type": "code",
   "execution_count": 175,
   "metadata": {
    "scrolled": true
   },
   "outputs": [
    {
     "name": "stdout",
     "output_type": "stream",
     "text": [
      "test/bike_s_000941.png\n",
      "b'[0.9942302703857422, 0.005769702605903149]'\n",
      "test/safety_bike_s_000192.png\n",
      "b'[0.340427964925766, 0.6595720648765564]'\n",
      "test/bicycle_s_000059.png\n",
      "b'[0.09754893183708191, 0.9024510383605957]'\n",
      "test/motorcycle_s_001892.png\n",
      "b'[0.2711452841758728, 0.728854775428772]'\n",
      "test/motorcycle_s_000427.png\n",
      "b'[0.18719936907291412, 0.8128006458282471]'\n",
      "test/minibike_s_000801.png\n",
      "b'[0.021833250299096107, 0.9781666994094849]'\n",
      "test/motorcycle_s_000446.png\n",
      "b'[0.15404099225997925, 0.8459590077400208]'\n",
      "test/minibike_s_002173.png\n",
      "b'[0.04909737408161163, 0.9509026408195496]'\n",
      "test/velocipede_s_000041.png\n",
      "b'[0.9644022583961487, 0.03559769690036774]'\n",
      "test/motorcycle_s_001955.png\n",
      "b'[0.012719702906906605, 0.9872803092002869]'\n",
      "test/motorcycle_s_000797.png\n",
      "b'[0.6230524182319641, 0.3769475519657135]'\n",
      "test/minibike_s_000075.png\n",
      "b'[0.13693979382514954, 0.8630602359771729]'\n",
      "test/motorcycle_s_001936.png\n",
      "b'[0.9944900274276733, 0.005509958602488041]'\n",
      "test/bike_s_000694.png\n",
      "b'[0.7132983803749084, 0.28670158982276917]'\n",
      "test/motorcycle_s_000141.png\n",
      "b'[0.8273773193359375, 0.1726226955652237]'\n",
      "test/minibike_s_000573.png\n",
      "b'[0.007663103751838207, 0.9923369288444519]'\n",
      "test/safety_bike_s_001253.png\n",
      "b'[0.9447910785675049, 0.05520890653133392]'\n",
      "test/bike_s_000131.png\n",
      "b'[0.9074590802192688, 0.09254095703363419]'\n",
      "test/bike_s_001073.png\n",
      "b'[0.9649390578269958, 0.03506092727184296]'\n",
      "test/safety_bike_s_000541.png\n",
      "b'[0.8554437756538391, 0.14455625414848328]'\n",
      "test/safety_bicycle_s_001322.png\n",
      "b'[0.9829298257827759, 0.01707024686038494]'\n",
      "test/motorcycle_s_000446.png\n",
      "b'[0.15404099225997925, 0.8459590077400208]'\n",
      "test/bicycle_s_001218.png\n",
      "b'[0.8936870694160461, 0.10631288588047028]'\n",
      "test/safety_bicycle_s_000235.png\n",
      "b'[0.9728595614433289, 0.027140408754348755]'\n",
      "test/bike_s_001784.png\n",
      "b'[0.5356839895248413, 0.4643160402774811]'\n",
      "test/cycle_s_002613.png\n",
      "b'[0.9606512784957886, 0.039348702877759933]'\n",
      "test/bike_s_000801.png\n",
      "b'[0.979449987411499, 0.020550057291984558]'\n",
      "test/motorcycle_s_000615.png\n",
      "b'[0.05599290505051613, 0.944007158279419]'\n",
      "test/velocipede_s_000106.png\n",
      "b'[0.9571349024772644, 0.04286511614918709]'\n",
      "test/motorcycle_s_001249.png\n",
      "b'[0.1413567215204239, 0.8586432337760925]'\n",
      "test/velocipede_s_001277.png\n",
      "b'[0.9828057885169983, 0.017194217070937157]'\n",
      "test/motorcycle_s_000679.png\n",
      "b'[0.02752191759645939, 0.9724781513214111]'\n",
      "test/bicycle_s_001804.png\n",
      "b'[0.9462080001831055, 0.05379194766283035]'\n",
      "test/motorcycle_s_001385.png\n",
      "b'[0.016420237720012665, 0.9835798144340515]'\n",
      "test/motorbike_s_000333.png\n",
      "b'[0.852079451084137, 0.1479206085205078]'\n",
      "test/cycle_s_001297.png\n",
      "b'[0.0087629659101367, 0.9912370443344116]'\n",
      "test/safety_bike_s_000192.png\n",
      "b'[0.340427964925766, 0.6595720648765564]'\n",
      "test/motorcycle_s_000615.png\n",
      "b'[0.05599290505051613, 0.944007158279419]'\n",
      "test/cycle_s_001915.png\n",
      "b'[0.17069554328918457, 0.8293044567108154]'\n",
      "test/cycle_s_001044.png\n",
      "b'[0.7641803622245789, 0.23581962287425995]'\n",
      "test/velocipede_s_000106.png\n",
      "b'[0.9571349024772644, 0.04286511614918709]'\n",
      "test/velocipede_s_001232.png\n",
      "b'[0.9976264834403992, 0.0023735486902296543]'\n",
      "test/bike_s_000131.png\n",
      "b'[0.9074590802192688, 0.09254095703363419]'\n",
      "test/motorcycle_s_002177.png\n",
      "b'[0.0015025329776108265, 0.998497486114502]'\n",
      "test/cycle_s_002613.png\n",
      "b'[0.9606512784957886, 0.039348702877759933]'\n",
      "test/minibike_s_000828.png\n",
      "b'[0.014487734995782375, 0.9855121970176697]'\n",
      "test/motorcycle_s_001519.png\n",
      "b'[0.3768017888069153, 0.6231982111930847]'\n",
      "test/bike_s_001073.png\n",
      "b'[0.9649390578269958, 0.03506092727184296]'\n",
      "test/minibike_s_000792.png\n",
      "b'[0.047498974949121475, 0.9525010585784912]'\n",
      "test/bike_s_000041.png\n",
      "b'[0.05254283547401428, 0.9474571943283081]'\n",
      "test/safety_bike_s_001088.png\n",
      "b'[0.835294783115387, 0.164705291390419]'\n",
      "test/cycle_s_000068.png\n",
      "b'[0.9086726903915405, 0.09132736921310425]'\n",
      "test/motorcycle_s_001348.png\n",
      "b'[0.03260628879070282, 0.9673937559127808]'\n",
      "test/bicycle_s_001218.png\n",
      "b'[0.8936870694160461, 0.10631288588047028]'\n",
      "test/bicycle_s_000977.png\n",
      "b'[0.5042434334754944, 0.4957565665245056]'\n",
      "test/motorcycle_s_000494.png\n",
      "b'[0.015402207151055336, 0.9845978021621704]'\n",
      "test/minibike_s_000309.png\n",
      "b'[0.00010692579235183075, 0.999893069267273]'\n",
      "test/bicycle_s_000513.png\n",
      "b'[0.898618757724762, 0.10138121247291565]'\n",
      "test/cycle_s_000068.png\n",
      "b'[0.9086726903915405, 0.09132736921310425]'\n",
      "test/minibike_s_000880.png\n",
      "b'[0.7738350033760071, 0.22616496682167053]'\n",
      "test/cycle_s_002305.png\n",
      "b'[0.5632292628288269, 0.4367707073688507]'\n",
      "test/minibike_s_000960.png\n",
      "b'[0.0015622156206518412, 0.9984378218650818]'\n",
      "test/bicycle_s_000513.png\n",
      "b'[0.898618757724762, 0.10138121247291565]'\n",
      "test/minibike_s_000960.png\n",
      "b'[0.0015622156206518412, 0.9984378218650818]'\n",
      "test/minibike_s_001473.png\n",
      "b'[0.0001074071042239666, 0.9998925924301147]'\n",
      "test/safety_bike_s_000192.png\n",
      "b'[0.340427964925766, 0.6595720648765564]'\n",
      "test/minibike_s_000309.png\n",
      "b'[0.00010692579235183075, 0.999893069267273]'\n",
      "test/velocipede_s_001232.png\n",
      "b'[0.9976264834403992, 0.0023735486902296543]'\n",
      "test/safety_bike_s_000540.png\n",
      "b'[0.6322564482688904, 0.367743581533432]'\n",
      "test/bicycle_s_001102.png\n",
      "b'[0.9685842394828796, 0.03141571208834648]'\n",
      "test/motorcycle_s_000512.png\n",
      "b'[5.207458161748946e-05, 0.9999479055404663]'\n",
      "test/velocipede_s_001201.png\n",
      "b'[0.9526661038398743, 0.047333888709545135]'\n",
      "test/velocipede_s_001633.png\n",
      "b'[0.8555946946144104, 0.1444052904844284]'\n",
      "test/motorcycle_s_001892.png\n",
      "b'[0.2711452841758728, 0.728854775428772]'\n",
      "test/motorcycle_s_001936.png\n",
      "b'[0.9944900274276733, 0.005509958602488041]'\n",
      "test/bike_s_001073.png\n",
      "b'[0.9649390578269958, 0.03506092727184296]'\n",
      "test/motorcycle_s_000615.png\n",
      "b'[0.05599290505051613, 0.944007158279419]'\n",
      "test/motorcycle_s_000222.png\n",
      "b'[0.0047289589419960976, 0.9952710270881653]'\n",
      "test/minibike_s_000398.png\n",
      "b'[0.04364350810647011, 0.9563564658164978]'\n",
      "test/safety_bike_s_001065.png\n",
      "b'[0.9061781167984009, 0.09382181614637375]'\n",
      "test/bike_s_002009.png\n",
      "b'[0.4985572397708893, 0.5014427900314331]'\n",
      "test/ordinary_bicycle_s_000158.png\n",
      "b'[0.9904211759567261, 0.00957880076020956]'\n",
      "test/bike_s_001068.png\n",
      "b'[0.9931558966636658, 0.006844053044915199]'\n",
      "test/bike_s_000041.png\n",
      "b'[0.05254283547401428, 0.9474571943283081]'\n",
      "test/moped_s_000007.png\n",
      "b'[0.01580328494310379, 0.9841967225074768]'\n",
      "test/motorcycle_s_000042.png\n",
      "b'[0.06279505044221878, 0.9372050166130066]'\n",
      "test/motorcycle_s_000797.png\n",
      "b'[0.6230524182319641, 0.3769475519657135]'\n",
      "test/ordinary_bicycle_s_000113.png\n",
      "b'[0.972239077091217, 0.027760909870266914]'\n",
      "test/motorcycle_s_001679.png\n",
      "b'[0.4213176369667053, 0.5786823034286499]'\n",
      "test/bicycle_s_000779.png\n",
      "b'[0.9353160262107849, 0.0646839439868927]'\n",
      "test/minibike_s_000828.png\n",
      "b'[0.014487734995782375, 0.9855121970176697]'\n",
      "test/minibike_s_000947.png\n",
      "b'[0.3720391094684601, 0.6279608607292175]'\n",
      "test/cycle_s_002305.png\n",
      "b'[0.5632292628288269, 0.4367707073688507]'\n",
      "test/safety_bicycle_s_000315.png\n",
      "b'[0.5627351403236389, 0.4372648298740387]'\n",
      "test/motorcycle_s_000427.png\n",
      "b'[0.18719936907291412, 0.8128006458282471]'\n",
      "test/minibike_s_001732.png\n",
      "b'[0.009907273575663567, 0.9900926947593689]'\n",
      "test/velocipede_s_000863.png\n",
      "b'[0.8916320204734802, 0.1083679124712944]'\n",
      "test/safety_bicycle_s_001153.png\n",
      "b'[0.18636880815029144, 0.8136312365531921]'\n",
      "test/bike_s_000330.png\n",
      "b'[0.9788682460784912, 0.021131830289959908]'\n",
      "test/velocipede_s_001633.png\n",
      "b'[0.8555946946144104, 0.1444052904844284]'\n",
      "test/minibike_s_000792.png\n",
      "b'[0.047498974949121475, 0.9525010585784912]'\n",
      "test/motorcycle_s_000049.png\n",
      "b'[0.027964837849140167, 0.9720351696014404]'\n",
      "test/bike_s_000071.png\n",
      "b'[0.97756427526474, 0.022435687482357025]'\n",
      "test/ordinary_bicycle_s_000350.png\n",
      "b'[0.4341229796409607, 0.5658769607543945]'\n",
      "test/velocipede_s_000863.png\n",
      "b'[0.8916320204734802, 0.1083679124712944]'\n",
      "test/motorcycle_s_000615.png\n",
      "b'[0.05599290505051613, 0.944007158279419]'\n",
      "test/minibike_s_000960.png\n",
      "b'[0.0015622156206518412, 0.9984378218650818]'\n",
      "test/motorcycle_s_001519.png\n",
      "b'[0.3768017888069153, 0.6231982111930847]'\n",
      "test/motorcycle_s_001687.png\n",
      "b'[0.00025315495440736413, 0.9997468590736389]'\n",
      "test/motorcycle_s_000063.png\n",
      "b'[0.002798698376864195, 0.9972013235092163]'\n",
      "test/bike_s_002208.png\n",
      "b'[0.411260187625885, 0.5887397527694702]'\n",
      "test/motorcycle_s_000485.png\n",
      "b'[0.10372618585824966, 0.8962737917900085]'\n",
      "test/bike_s_000801.png\n",
      "b'[0.979449987411499, 0.020550057291984558]'\n",
      "test/safety_bike_s_000541.png\n",
      "b'[0.8554437756538391, 0.14455625414848328]'\n"
     ]
    },
    {
     "name": "stdout",
     "output_type": "stream",
     "text": [
      "test/bike_s_000041.png\n",
      "b'[0.05254283547401428, 0.9474571943283081]'\n",
      "test/motorcycle_s_001906.png\n",
      "b'[0.013688717968761921, 0.9863112568855286]'\n",
      "test/motorcycle_s_002112.png\n",
      "b'[0.00017473151092417538, 0.9998252987861633]'\n",
      "test/minibike_s_000055.png\n",
      "b'[0.0003047669888474047, 0.9996953010559082]'\n",
      "test/safety_bike_s_000699.png\n",
      "b'[0.9626290202140808, 0.037370964884757996]'\n",
      "test/motorcycle_s_001782.png\n",
      "b'[0.310091108083725, 0.6899088621139526]'\n",
      "test/motorcycle_s_001906.png\n",
      "b'[0.013688717968761921, 0.9863112568855286]'\n",
      "test/motorbike_s_000135.png\n",
      "b'[0.15262459218502045, 0.8473753929138184]'\n",
      "test/motorcycle_s_001249.png\n",
      "b'[0.1413567215204239, 0.8586432337760925]'\n",
      "test/motorcycle_s_001936.png\n",
      "b'[0.9944900274276733, 0.005509958602488041]'\n",
      "test/bike_s_000071.png\n",
      "b'[0.97756427526474, 0.022435687482357025]'\n",
      "test/motorbike_s_000324.png\n",
      "b'[0.6063210368156433, 0.3936789333820343]'\n",
      "test/motorcycle_s_000679.png\n",
      "b'[0.02752191759645939, 0.9724781513214111]'\n",
      "test/motorcycle_s_002112.png\n",
      "b'[0.00017473151092417538, 0.9998252987861633]'\n",
      "test/safety_bike_s_000390.png\n",
      "b'[0.9419634342193604, 0.05803655460476875]'\n",
      "test/motorcycle_s_001687.png\n",
      "b'[0.00025315495440736413, 0.9997468590736389]'\n",
      "test/minibike_s_000254.png\n",
      "b'[0.0678585022687912, 0.9321414828300476]'\n",
      "test/safety_bike_s_000699.png\n",
      "b'[0.9626290202140808, 0.037370964884757996]'\n",
      "test/safety_bicycle_s_000235.png\n",
      "b'[0.9728595614433289, 0.027140408754348755]'\n",
      "test/dirt_bike_s_000001.png\n",
      "b'[0.36747631430625916, 0.6325237154960632]'\n",
      "test/bicycle_s_001102.png\n",
      "b'[0.9685842394828796, 0.03141571208834648]'\n",
      "test/cycle_s_001915.png\n",
      "b'[0.17069554328918457, 0.8293044567108154]'\n",
      "test/motorcycle_s_001249.png\n",
      "b'[0.1413567215204239, 0.8586432337760925]'\n",
      "test/motorcycle_s_001261.png\n",
      "b'[0.24776239693164825, 0.7522376179695129]'\n",
      "test/motorcycle_s_000494.png\n",
      "b'[0.015402207151055336, 0.9845978021621704]'\n",
      "test/safety_bicycle_s_001153.png\n",
      "b'[0.18636880815029144, 0.8136312365531921]'\n",
      "test/motorcycle_s_001164.png\n",
      "b'[0.0007480243220925331, 0.9992519021034241]'\n",
      "test/moped_s_000306.png\n",
      "b'[0.06455464661121368, 0.9354453682899475]'\n",
      "test/bicycle_s_000513.png\n",
      "b'[0.898618757724762, 0.10138121247291565]'\n",
      "test/bike_s_002116.png\n",
      "b'[0.49662718176841736, 0.503372848033905]'\n",
      "test/bicycle_s_000059.png\n",
      "b'[0.09754893183708191, 0.9024510383605957]'\n",
      "test/bicycle_s_000479.png\n",
      "b'[0.2521345019340515, 0.7478654384613037]'\n",
      "test/cycle_s_002661.png\n",
      "b'[0.6966192722320557, 0.30338069796562195]'\n",
      "test/minibike_s_000398.png\n",
      "b'[0.04364350810647011, 0.9563564658164978]'\n",
      "test/bike_s_000163.png\n",
      "b'[0.5516099333763123, 0.44839003682136536]'\n",
      "test/motorcycle_s_001936.png\n",
      "b'[0.9944900274276733, 0.005509958602488041]'\n",
      "test/cycle_s_001915.png\n",
      "b'[0.17069554328918457, 0.8293044567108154]'\n",
      "test/ordinary_bicycle_s_000350.png\n",
      "b'[0.4341229796409607, 0.5658769607543945]'\n",
      "test/velocipede_s_000369.png\n",
      "b'[0.2679895758628845, 0.7320104241371155]'\n",
      "test/motorcycle_s_000427.png\n",
      "b'[0.18719936907291412, 0.8128006458282471]'\n",
      "test/motorcycle_s_000866.png\n",
      "b'[0.2376275509595871, 0.7623724341392517]'\n",
      "test/bike_s_001073.png\n",
      "b'[0.9649390578269958, 0.03506092727184296]'\n",
      "test/ordinary_bicycle_s_000431.png\n",
      "b'[0.9857770800590515, 0.014222899451851845]'\n",
      "test/bicycle_s_001218.png\n",
      "b'[0.8936870694160461, 0.10631288588047028]'\n",
      "test/bike_s_000071.png\n",
      "b'[0.97756427526474, 0.022435687482357025]'\n",
      "test/motorcycle_s_000427.png\n",
      "b'[0.18719936907291412, 0.8128006458282471]'\n",
      "test/safety_bicycle_s_001575.png\n",
      "b'[0.9308651089668274, 0.06913486123085022]'\n",
      "test/bicycle_s_001047.png\n",
      "b'[0.7955717444419861, 0.20442822575569153]'\n",
      "test/motorcycle_s_001936.png\n",
      "b'[0.9944900274276733, 0.005509958602488041]'\n",
      "test/safety_bike_s_000540.png\n",
      "b'[0.6322564482688904, 0.367743581533432]'\n",
      "test/motorcycle_s_000352.png\n",
      "b'[0.10612694174051285, 0.8938730359077454]'\n",
      "test/bike_s_001216.png\n",
      "b'[0.6976840496063232, 0.30231595039367676]'\n",
      "test/motorcycle_s_000876.png\n",
      "b'[0.006596517749130726, 0.9934034943580627]'\n",
      "test/minibike_s_001547.png\n",
      "b'[0.00578612694516778, 0.994213879108429]'\n",
      "test/minibike_s_000880.png\n",
      "b'[0.7738350033760071, 0.22616496682167053]'\n",
      "test/velocipede_s_000041.png\n",
      "b'[0.9644022583961487, 0.03559769690036774]'\n",
      "test/motorcycle_s_000427.png\n",
      "b'[0.18719936907291412, 0.8128006458282471]'\n",
      "test/motorcycle_s_000222.png\n",
      "b'[0.0047289589419960976, 0.9952710270881653]'\n",
      "test/motorcycle_s_002126.png\n",
      "b'[0.19660086929798126, 0.8033990859985352]'\n",
      "test/motorbike_s_000005.png\n",
      "b'[0.029238907620310783, 0.9707611203193665]'\n",
      "test/cycle_s_001953.png\n",
      "b'[0.647383451461792, 0.3526166081428528]'\n",
      "test/bicycle_s_000030.png\n",
      "b'[0.6961339116096497, 0.30386608839035034]'\n",
      "test/motorcycle_s_000211.png\n",
      "b'[0.04895976930856705, 0.9510402679443359]'\n",
      "test/bicycle_s_001047.png\n",
      "b'[0.7955717444419861, 0.20442822575569153]'\n",
      "test/minibike_s_001651.png\n",
      "b'[0.010720967315137386, 0.9892789721488953]'\n",
      "test/motorcycle_s_001906.png\n",
      "b'[0.013688717968761921, 0.9863112568855286]'\n",
      "test/minibike_s_001867.png\n",
      "b'[0.11146141588687897, 0.8885385394096375]'\n",
      "test/ordinary_bicycle_s_000431.png\n",
      "b'[0.9857770800590515, 0.014222899451851845]'\n",
      "test/bike_s_000457.png\n",
      "b'[0.958953857421875, 0.04104616865515709]'\n",
      "test/minibike_s_000055.png\n",
      "b'[0.0003047669888474047, 0.9996953010559082]'\n",
      "test/minibike_s_001893.png\n",
      "b'[0.15198706090450287, 0.8480128645896912]'\n",
      "test/safety_bicycle_s_000235.png\n",
      "b'[0.9728595614433289, 0.027140408754348755]'\n",
      "test/safety_bike_s_000438.png\n",
      "b'[0.9604687094688416, 0.03953130170702934]'\n",
      "test/motorcycle_s_001955.png\n",
      "b'[0.012719702906906605, 0.9872803092002869]'\n",
      "test/safety_bike_s_000390.png\n",
      "b'[0.9419634342193604, 0.05803655460476875]'\n",
      "test/velocipede_s_000863.png\n",
      "b'[0.8916320204734802, 0.1083679124712944]'\n",
      "test/safety_bike_s_000540.png\n",
      "b'[0.6322564482688904, 0.367743581533432]'\n",
      "test/ordinary_bicycle_s_000350.png\n",
      "b'[0.4341229796409607, 0.5658769607543945]'\n",
      "test/minibike_s_001651.png\n",
      "b'[0.010720967315137386, 0.9892789721488953]'\n",
      "test/motorcycle_s_000211.png\n",
      "b'[0.04895976930856705, 0.9510402679443359]'\n",
      "test/velocipede_s_001790.png\n",
      "b'[0.9547606110572815, 0.0452393963932991]'\n",
      "test/minibike_s_000309.png\n",
      "b'[0.00010692579235183075, 0.999893069267273]'\n",
      "test/cycle_s_002661.png\n",
      "b'[0.6966192722320557, 0.30338069796562195]'\n",
      "test/cycle_s_000010.png\n",
      "b'[0.6324359774589539, 0.36756399273872375]'\n",
      "test/bike_s_000457.png\n",
      "b'[0.958953857421875, 0.04104616865515709]'\n",
      "test/bike_s_000643.png\n",
      "b'[0.97844398021698, 0.02155609242618084]'\n",
      "test/velocipede_s_001744.png\n",
      "b'[0.09659401327371597, 0.903406023979187]'\n",
      "test/motorcycle_s_000615.png\n",
      "b'[0.05599290505051613, 0.944007158279419]'\n",
      "test/bicycle_s_001218.png\n",
      "b'[0.8936870694160461, 0.10631288588047028]'\n",
      "test/safety_bicycle_s_001322.png\n",
      "b'[0.9829298257827759, 0.01707024686038494]'\n",
      "test/minibike_s_000254.png\n",
      "b'[0.0678585022687912, 0.9321414828300476]'\n",
      "test/minibike_s_000052.png\n",
      "b'[0.4383336901664734, 0.5616663098335266]'\n",
      "test/safety_bicycle_s_001153.png\n",
      "b'[0.18636880815029144, 0.8136312365531921]'\n",
      "test/motorcycle_s_000615.png\n",
      "b'[0.05599290505051613, 0.944007158279419]'\n",
      "test/motorcycle_s_000825.png\n",
      "b'[0.32685840129852295, 0.673141598701477]'\n",
      "test/safety_bike_s_000699.png\n",
      "b'[0.9626290202140808, 0.037370964884757996]'\n",
      "test/motorcycle_s_000530.png\n",
      "b'[0.004097381141036749, 0.9959025979042053]'\n",
      "test/bicycle_s_001047.png\n",
      "b'[0.7955717444419861, 0.20442822575569153]'\n",
      "test/safety_bike_s_000390.png\n",
      "b'[0.9419634342193604, 0.05803655460476875]'\n",
      "test/bicycle_s_001102.png\n",
      "b'[0.9685842394828796, 0.03141571208834648]'\n",
      "test/motorcycle_s_001249.png\n",
      "b'[0.1413567215204239, 0.8586432337760925]'\n",
      "test/motorcycle_s_000679.png\n",
      "b'[0.02752191759645939, 0.9724781513214111]'\n",
      "test/cycle_s_001306.png\n",
      "b'[0.8255067467689514, 0.1744932383298874]'\n",
      "test/bike_s_000163.png\n",
      "b'[0.5516099333763123, 0.44839003682136536]'\n",
      "test/safety_bicycle_s_001153.png\n",
      "b'[0.18636880815029144, 0.8136312365531921]'\n",
      "test/motorbike_s_000333.png\n",
      "b'[0.852079451084137, 0.1479206085205078]'\n",
      "test/motorcycle_s_000171.png\n",
      "b'[0.8293585777282715, 0.17064140737056732]'\n",
      "test/dirt_bike_s_000001.png\n",
      "b'[0.36747631430625916, 0.6325237154960632]'\n",
      "test/bicycle_s_001789.png\n",
      "b'[0.8762310147285461, 0.12376897037029266]'\n",
      "test/motorcycle_s_001936.png\n",
      "b'[0.9944900274276733, 0.005509958602488041]'\n",
      "test/safety_bicycle_s_000235.png\n",
      "b'[0.9728595614433289, 0.027140408754348755]'\n",
      "test/velocipede_s_000001.png\n",
      "b'[0.9510337114334106, 0.048966262489557266]'\n",
      "test/velocipede_s_000863.png\n",
      "b'[0.8916320204734802, 0.1083679124712944]'\n"
     ]
    },
    {
     "name": "stdout",
     "output_type": "stream",
     "text": [
      "test/moped_s_000064.png\n",
      "b'[0.4989433288574219, 0.5010566115379333]'\n",
      "test/motorcycle_s_001906.png\n",
      "b'[0.013688717968761921, 0.9863112568855286]'\n",
      "test/bicycle_s_001218.png\n",
      "b'[0.8936870694160461, 0.10631288588047028]'\n",
      "test/minibike_s_000288.png\n",
      "b'[0.3311898410320282, 0.6688101887702942]'\n",
      "test/velocipede_s_001232.png\n",
      "b'[0.9976264834403992, 0.0023735486902296543]'\n",
      "test/motorcycle_s_000063.png\n",
      "b'[0.002798698376864195, 0.9972013235092163]'\n",
      "test/motorbike_s_000629.png\n",
      "b'[0.7806129455566406, 0.219387024641037]'\n",
      "test/minibike_s_000309.png\n",
      "b'[0.00010692579235183075, 0.999893069267273]'\n",
      "test/motorcycle_s_001971.png\n",
      "b'[0.06209553778171539, 0.9379044771194458]'\n",
      "test/safety_bike_s_001088.png\n",
      "b'[0.835294783115387, 0.164705291390419]'\n",
      "test/minibike_s_000792.png\n",
      "b'[0.047498974949121475, 0.9525010585784912]'\n",
      "test/velocipede_s_001201.png\n",
      "b'[0.9526661038398743, 0.047333888709545135]'\n",
      "test/bike_s_002009.png\n",
      "b'[0.4985572397708893, 0.5014427900314331]'\n",
      "test/minibike_s_001732.png\n",
      "b'[0.009907273575663567, 0.9900926947593689]'\n",
      "test/velocipede_s_001466.png\n",
      "b'[0.9822125434875488, 0.017787419259548187]'\n",
      "test/motorcycle_s_000060.png\n",
      "b'[0.05446266382932663, 0.9455373883247375]'\n",
      "test/moped_s_000306.png\n",
      "b'[0.06455464661121368, 0.9354453682899475]'\n",
      "test/bike_s_000041.png\n",
      "b'[0.05254283547401428, 0.9474571943283081]'\n",
      "test/cycle_s_002613.png\n",
      "b'[0.9606512784957886, 0.039348702877759933]'\n",
      "test/velocipede_s_001699.png\n",
      "b'[0.3495907783508301, 0.6504092812538147]'\n",
      "test/cycle_s_002964.png\n",
      "b'[0.8502346277236938, 0.14976535737514496]'\n",
      "test/bike_s_001784.png\n",
      "b'[0.5356839895248413, 0.4643160402774811]'\n",
      "test/motorcycle_s_000963.png\n",
      "b'[0.01882953569293022, 0.9811704754829407]'\n",
      "test/safety_bike_s_001253.png\n",
      "b'[0.9447910785675049, 0.05520890653133392]'\n",
      "test/motorcycle_s_000450.png\n",
      "b'[0.017032155767083168, 0.9829677939414978]'\n",
      "test/velocipede_s_000292.png\n",
      "b'[0.9844474792480469, 0.015552538447082043]'\n",
      "test/motorcycle_s_001385.png\n",
      "b'[0.016420237720012665, 0.9835798144340515]'\n",
      "test/minibike_s_000309.png\n",
      "b'[0.00010692579235183075, 0.999893069267273]'\n",
      "test/motorcycle_s_001508.png\n",
      "b'[0.008394715376198292, 0.991605281829834]'\n",
      "test/motorbike_s_000629.png\n",
      "b'[0.7806129455566406, 0.219387024641037]'\n",
      "test/velocipede_s_001379.png\n",
      "b'[0.14201579988002777, 0.8579842448234558]'\n",
      "test/motorcycle_s_000063.png\n",
      "b'[0.002798698376864195, 0.9972013235092163]'\n",
      "test/minibike_s_001651.png\n",
      "b'[0.010720967315137386, 0.9892789721488953]'\n",
      "test/bicycle_s_000059.png\n",
      "b'[0.09754893183708191, 0.9024510383605957]'\n",
      "test/bike_s_001342.png\n",
      "b'[0.9486839771270752, 0.051316045224666595]'\n",
      "test/minibike_s_000801.png\n",
      "b'[0.021833250299096107, 0.9781666994094849]'\n",
      "test/motorcycle_s_001892.png\n",
      "b'[0.2711452841758728, 0.728854775428772]'\n",
      "test/velocipede_s_001379.png\n",
      "b'[0.14201579988002777, 0.8579842448234558]'\n",
      "test/bike_s_000071.png\n",
      "b'[0.97756427526474, 0.022435687482357025]'\n",
      "test/motorcycle_s_002126.png\n",
      "b'[0.19660086929798126, 0.8033990859985352]'\n",
      "test/ordinary_bicycle_s_000284.png\n",
      "b'[0.6948115229606628, 0.30518850684165955]'\n",
      "test/velocipede_s_000106.png\n",
      "b'[0.9571349024772644, 0.04286511614918709]'\n",
      "test/motorbike_s_000465.png\n",
      "b'[0.6843000054359436, 0.315699964761734]'\n",
      "test/ordinary_bicycle_s_000437.png\n",
      "b'[0.896977961063385, 0.10302207618951797]'\n",
      "test/bike_s_000658.png\n",
      "b'[0.8840136528015137, 0.11598633229732513]'\n",
      "test/minibike_s_000947.png\n",
      "b'[0.3720391094684601, 0.6279608607292175]'\n",
      "test/minibike_s_000290.png\n",
      "b'[0.5790041089057922, 0.42099592089653015]'\n",
      "test/minibike_s_001605.png\n",
      "b'[0.0032955564092844725, 0.9967043995857239]'\n",
      "test/cycle_s_002661.png\n",
      "b'[0.6966192722320557, 0.30338069796562195]'\n",
      "test/motorcycle_s_000446.png\n",
      "b'[0.15404099225997925, 0.8459590077400208]'\n",
      "test/motorcycle_s_000602.png\n",
      "b'[0.13056643307209015, 0.869433581829071]'\n",
      "test/motorcycle_s_001971.png\n",
      "b'[0.06209553778171539, 0.9379044771194458]'\n",
      "test/bike_s_001068.png\n",
      "b'[0.9931558966636658, 0.006844053044915199]'\n",
      "test/motorcycle_s_000171.png\n",
      "b'[0.8293585777282715, 0.17064140737056732]'\n",
      "test/bike_s_000487.png\n",
      "b'[0.5585418343544006, 0.44145819544792175]'\n",
      "test/motorcycle_s_002126.png\n",
      "b'[0.19660086929798126, 0.8033990859985352]'\n",
      "test/velocipede_s_001355.png\n",
      "b'[0.9350770711898804, 0.06492295116186142]'\n",
      "test/bicycle_s_001047.png\n",
      "b'[0.7955717444419861, 0.20442822575569153]'\n",
      "test/safety_bicycle_s_001153.png\n",
      "b'[0.18636880815029144, 0.8136312365531921]'\n",
      "test/bike_s_002116.png\n",
      "b'[0.49662718176841736, 0.503372848033905]'\n",
      "test/motorcycle_s_001269.png\n",
      "b'[0.10269314050674438, 0.8973068594932556]'\n",
      "test/velocipede_s_001201.png\n",
      "b'[0.9526661038398743, 0.047333888709545135]'\n",
      "test/bicycle_s_001102.png\n",
      "b'[0.9685842394828796, 0.03141571208834648]'\n",
      "test/ordinary_bicycle_s_000105.png\n",
      "b'[0.9307254552841187, 0.06927456706762314]'\n",
      "test/motorbike_s_000333.png\n",
      "b'[0.852079451084137, 0.1479206085205078]'\n",
      "test/safety_bicycle_s_000280.png\n",
      "b'[0.9946931004524231, 0.0053069270215928555]'\n",
      "test/motorcycle_s_000679.png\n",
      "b'[0.02752191759645939, 0.9724781513214111]'\n",
      "test/motorcycle_s_000679.png\n",
      "b'[0.02752191759645939, 0.9724781513214111]'\n",
      "test/ordinary_bicycle_s_000284.png\n",
      "b'[0.6948115229606628, 0.30518850684165955]'\n",
      "test/safety_bike_s_000192.png\n",
      "b'[0.340427964925766, 0.6595720648765564]'\n",
      "test/velocipede_s_000001.png\n",
      "b'[0.9510337114334106, 0.048966262489557266]'\n",
      "test/safety_bike_s_000791.png\n",
      "b'[0.9254452586174011, 0.07455466687679291]'\n",
      "test/minibike_s_000075.png\n",
      "b'[0.13693979382514954, 0.8630602359771729]'\n",
      "test/ordinary_bicycle_s_000169.png\n",
      "b'[0.9904643297195435, 0.009535713121294975]'\n",
      "test/motorcycle_s_001519.png\n",
      "b'[0.3768017888069153, 0.6231982111930847]'\n",
      "test/velocipede_s_001355.png\n",
      "b'[0.9350770711898804, 0.06492295116186142]'\n",
      "test/velocipede_s_001379.png\n",
      "b'[0.14201579988002777, 0.8579842448234558]'\n",
      "test/velocipede_s_001232.png\n",
      "b'[0.9976264834403992, 0.0023735486902296543]'\n",
      "test/motorbike_s_000333.png\n",
      "b'[0.852079451084137, 0.1479206085205078]'\n",
      "test/motorcycle_s_001960.png\n",
      "b'[0.08943304419517517, 0.9105669260025024]'\n",
      "test/minibike_s_000075.png\n",
      "b'[0.13693979382514954, 0.8630602359771729]'\n",
      "test/motorbike_s_000005.png\n",
      "b'[0.029238907620310783, 0.9707611203193665]'\n",
      "test/bike_s_000643.png\n",
      "b'[0.97844398021698, 0.02155609242618084]'\n",
      "test/motorcycle_s_001249.png\n",
      "b'[0.1413567215204239, 0.8586432337760925]'\n",
      "test/bike_s_002116.png\n",
      "b'[0.49662718176841736, 0.503372848033905]'\n",
      "test/safety_bike_s_000699.png\n",
      "b'[0.9626290202140808, 0.037370964884757996]'\n",
      "test/cycle_s_001044.png\n",
      "b'[0.7641803622245789, 0.23581962287425995]'\n",
      "test/bicycle_s_001804.png\n",
      "b'[0.9462080001831055, 0.05379194766283035]'\n",
      "test/motorcycle_s_001687.png\n",
      "b'[0.00025315495440736413, 0.9997468590736389]'\n",
      "test/velocipede_s_000106.png\n",
      "b'[0.9571349024772644, 0.04286511614918709]'\n",
      "test/bicycle_s_000779.png\n",
      "b'[0.9353160262107849, 0.0646839439868927]'\n",
      "test/minibike_s_001893.png\n",
      "b'[0.15198706090450287, 0.8480128645896912]'\n",
      "test/motorcycle_s_000446.png\n",
      "b'[0.15404099225997925, 0.8459590077400208]'\n",
      "test/motorcycle_s_000606.png\n",
      "b'[0.005028499756008387, 0.994971513748169]'\n",
      "test/moped_s_000306.png\n",
      "b'[0.06455464661121368, 0.9354453682899475]'\n",
      "test/velocipede_s_001744.png\n",
      "b'[0.09659401327371597, 0.903406023979187]'\n",
      "test/motorcycle_s_001955.png\n",
      "b'[0.012719702906906605, 0.9872803092002869]'\n",
      "test/motorcycle_s_001892.png\n",
      "b'[0.2711452841758728, 0.728854775428772]'\n",
      "test/ordinary_bicycle_s_000169.png\n",
      "b'[0.9904643297195435, 0.009535713121294975]'\n",
      "test/bicycle_s_000779.png\n",
      "b'[0.9353160262107849, 0.0646839439868927]'\n",
      "test/minibike_s_002227.png\n",
      "b'[0.9787561893463135, 0.02124379202723503]'\n",
      "test/bike_s_000487.png\n",
      "b'[0.5585418343544006, 0.44145819544792175]'\n",
      "test/ordinary_bicycle_s_000284.png\n",
      "b'[0.6948115229606628, 0.30518850684165955]'\n",
      "test/velocipede_s_000863.png\n",
      "b'[0.8916320204734802, 0.1083679124712944]'\n",
      "test/minibike_s_000947.png\n",
      "b'[0.3720391094684601, 0.6279608607292175]'\n",
      "test/motorcycle_s_000876.png\n",
      "b'[0.006596517749130726, 0.9934034943580627]'\n",
      "test/bike_s_000163.png\n",
      "b'[0.5516099333763123, 0.44839003682136536]'\n",
      "test/minibike_s_002227.png\n",
      "b'[0.9787561893463135, 0.02124379202723503]'\n",
      "test/minibike_s_000497.png\n",
      "b'[0.5323695540428162, 0.4676304757595062]'\n",
      "test/bike_s_000163.png\n",
      "b'[0.5516099333763123, 0.44839003682136536]'\n",
      "test.lst\n"
     ]
    },
    {
     "ename": "ModelError",
     "evalue": "An error occurred (ModelError) when calling the InvokeEndpoint operation: Received client error (400) from model with message \"unable to evaluate payload provided\". See https://us-east-1.console.aws.amazon.com/cloudwatch/home?region=us-east-1#logEventViewer:group=/aws/sagemaker/Endpoints/image-classification-2022-04-20-09-06-00-803 in account 628477620632 for more information.",
     "output_type": "error",
     "traceback": [
      "\u001b[0;31m---------------------------------------------------------------------------\u001b[0m",
      "\u001b[0;31mModelError\u001b[0m                                Traceback (most recent call last)",
      "\u001b[0;32m<ipython-input-175-13c4ed32cff3>\u001b[0m in \u001b[0;36m<module>\u001b[0;34m\u001b[0m\n\u001b[1;32m      5\u001b[0m     \u001b[0;32mwith\u001b[0m \u001b[0mopen\u001b[0m\u001b[0;34m(\u001b[0m\u001b[0;34mf\"./{img}\"\u001b[0m\u001b[0;34m,\u001b[0m \u001b[0;34m\"rb\"\u001b[0m\u001b[0;34m)\u001b[0m \u001b[0;32mas\u001b[0m \u001b[0mf\u001b[0m\u001b[0;34m:\u001b[0m\u001b[0;34m\u001b[0m\u001b[0;34m\u001b[0m\u001b[0m\n\u001b[1;32m      6\u001b[0m         \u001b[0mpayload\u001b[0m \u001b[0;34m=\u001b[0m \u001b[0mf\u001b[0m\u001b[0;34m.\u001b[0m\u001b[0mread\u001b[0m\u001b[0;34m(\u001b[0m\u001b[0;34m)\u001b[0m\u001b[0;34m\u001b[0m\u001b[0;34m\u001b[0m\u001b[0m\n\u001b[0;32m----> 7\u001b[0;31m     \u001b[0minference\u001b[0m \u001b[0;34m=\u001b[0m \u001b[0mpredictor\u001b[0m\u001b[0;34m.\u001b[0m\u001b[0mpredict\u001b[0m\u001b[0;34m(\u001b[0m\u001b[0mpayload\u001b[0m\u001b[0;34m)\u001b[0m\u001b[0;34m\u001b[0m\u001b[0;34m\u001b[0m\u001b[0m\n\u001b[0m\u001b[1;32m      8\u001b[0m     \u001b[0mprint\u001b[0m\u001b[0;34m(\u001b[0m\u001b[0minference\u001b[0m\u001b[0;34m)\u001b[0m\u001b[0;34m\u001b[0m\u001b[0;34m\u001b[0m\u001b[0m\n",
      "\u001b[0;32m~/anaconda3/envs/python3/lib/python3.6/site-packages/sagemaker/predictor.py\u001b[0m in \u001b[0;36mpredict\u001b[0;34m(self, data, initial_args, target_model, target_variant, inference_id)\u001b[0m\n\u001b[1;32m    159\u001b[0m             \u001b[0mdata\u001b[0m\u001b[0;34m,\u001b[0m \u001b[0minitial_args\u001b[0m\u001b[0;34m,\u001b[0m \u001b[0mtarget_model\u001b[0m\u001b[0;34m,\u001b[0m \u001b[0mtarget_variant\u001b[0m\u001b[0;34m,\u001b[0m \u001b[0minference_id\u001b[0m\u001b[0;34m\u001b[0m\u001b[0;34m\u001b[0m\u001b[0m\n\u001b[1;32m    160\u001b[0m         )\n\u001b[0;32m--> 161\u001b[0;31m         \u001b[0mresponse\u001b[0m \u001b[0;34m=\u001b[0m \u001b[0mself\u001b[0m\u001b[0;34m.\u001b[0m\u001b[0msagemaker_session\u001b[0m\u001b[0;34m.\u001b[0m\u001b[0msagemaker_runtime_client\u001b[0m\u001b[0;34m.\u001b[0m\u001b[0minvoke_endpoint\u001b[0m\u001b[0;34m(\u001b[0m\u001b[0;34m**\u001b[0m\u001b[0mrequest_args\u001b[0m\u001b[0;34m)\u001b[0m\u001b[0;34m\u001b[0m\u001b[0;34m\u001b[0m\u001b[0m\n\u001b[0m\u001b[1;32m    162\u001b[0m         \u001b[0;32mreturn\u001b[0m \u001b[0mself\u001b[0m\u001b[0;34m.\u001b[0m\u001b[0m_handle_response\u001b[0m\u001b[0;34m(\u001b[0m\u001b[0mresponse\u001b[0m\u001b[0;34m)\u001b[0m\u001b[0;34m\u001b[0m\u001b[0;34m\u001b[0m\u001b[0m\n\u001b[1;32m    163\u001b[0m \u001b[0;34m\u001b[0m\u001b[0m\n",
      "\u001b[0;32m~/anaconda3/envs/python3/lib/python3.6/site-packages/botocore/client.py\u001b[0m in \u001b[0;36m_api_call\u001b[0;34m(self, *args, **kwargs)\u001b[0m\n\u001b[1;32m    399\u001b[0m                     \"%s() only accepts keyword arguments.\" % py_operation_name)\n\u001b[1;32m    400\u001b[0m             \u001b[0;31m# The \"self\" in this scope is referring to the BaseClient.\u001b[0m\u001b[0;34m\u001b[0m\u001b[0;34m\u001b[0m\u001b[0;34m\u001b[0m\u001b[0m\n\u001b[0;32m--> 401\u001b[0;31m             \u001b[0;32mreturn\u001b[0m \u001b[0mself\u001b[0m\u001b[0;34m.\u001b[0m\u001b[0m_make_api_call\u001b[0m\u001b[0;34m(\u001b[0m\u001b[0moperation_name\u001b[0m\u001b[0;34m,\u001b[0m \u001b[0mkwargs\u001b[0m\u001b[0;34m)\u001b[0m\u001b[0;34m\u001b[0m\u001b[0;34m\u001b[0m\u001b[0m\n\u001b[0m\u001b[1;32m    402\u001b[0m \u001b[0;34m\u001b[0m\u001b[0m\n\u001b[1;32m    403\u001b[0m         \u001b[0m_api_call\u001b[0m\u001b[0;34m.\u001b[0m\u001b[0m__name__\u001b[0m \u001b[0;34m=\u001b[0m \u001b[0mstr\u001b[0m\u001b[0;34m(\u001b[0m\u001b[0mpy_operation_name\u001b[0m\u001b[0;34m)\u001b[0m\u001b[0;34m\u001b[0m\u001b[0;34m\u001b[0m\u001b[0m\n",
      "\u001b[0;32m~/anaconda3/envs/python3/lib/python3.6/site-packages/botocore/client.py\u001b[0m in \u001b[0;36m_make_api_call\u001b[0;34m(self, operation_name, api_params)\u001b[0m\n\u001b[1;32m    729\u001b[0m             \u001b[0merror_code\u001b[0m \u001b[0;34m=\u001b[0m \u001b[0mparsed_response\u001b[0m\u001b[0;34m.\u001b[0m\u001b[0mget\u001b[0m\u001b[0;34m(\u001b[0m\u001b[0;34m\"Error\"\u001b[0m\u001b[0;34m,\u001b[0m \u001b[0;34m{\u001b[0m\u001b[0;34m}\u001b[0m\u001b[0;34m)\u001b[0m\u001b[0;34m.\u001b[0m\u001b[0mget\u001b[0m\u001b[0;34m(\u001b[0m\u001b[0;34m\"Code\"\u001b[0m\u001b[0;34m)\u001b[0m\u001b[0;34m\u001b[0m\u001b[0;34m\u001b[0m\u001b[0m\n\u001b[1;32m    730\u001b[0m             \u001b[0merror_class\u001b[0m \u001b[0;34m=\u001b[0m \u001b[0mself\u001b[0m\u001b[0;34m.\u001b[0m\u001b[0mexceptions\u001b[0m\u001b[0;34m.\u001b[0m\u001b[0mfrom_code\u001b[0m\u001b[0;34m(\u001b[0m\u001b[0merror_code\u001b[0m\u001b[0;34m)\u001b[0m\u001b[0;34m\u001b[0m\u001b[0;34m\u001b[0m\u001b[0m\n\u001b[0;32m--> 731\u001b[0;31m             \u001b[0;32mraise\u001b[0m \u001b[0merror_class\u001b[0m\u001b[0;34m(\u001b[0m\u001b[0mparsed_response\u001b[0m\u001b[0;34m,\u001b[0m \u001b[0moperation_name\u001b[0m\u001b[0;34m)\u001b[0m\u001b[0;34m\u001b[0m\u001b[0;34m\u001b[0m\u001b[0m\n\u001b[0m\u001b[1;32m    732\u001b[0m         \u001b[0;32melse\u001b[0m\u001b[0;34m:\u001b[0m\u001b[0;34m\u001b[0m\u001b[0;34m\u001b[0m\u001b[0m\n\u001b[1;32m    733\u001b[0m             \u001b[0;32mreturn\u001b[0m \u001b[0mparsed_response\u001b[0m\u001b[0;34m\u001b[0m\u001b[0;34m\u001b[0m\u001b[0m\n",
      "\u001b[0;31mModelError\u001b[0m: An error occurred (ModelError) when calling the InvokeEndpoint operation: Received client error (400) from model with message \"unable to evaluate payload provided\". See https://us-east-1.console.aws.amazon.com/cloudwatch/home?region=us-east-1#logEventViewer:group=/aws/sagemaker/Endpoints/image-classification-2022-04-20-09-06-00-803 in account 628477620632 for more information."
     ]
    }
   ],
   "source": [
    "for i in range(1000):\n",
    "    time.sleep(1)\n",
    "    predictor.serializer = IdentitySerializer(\"image/png\")\n",
    "    img  = generate_test_case()['s3_key']\n",
    "    with open(f\"./{img}\", \"rb\") as f:\n",
    "        payload = f.read()\n",
    "    inference = predictor.predict(payload)\n",
    "    print(inference)"
   ]
  },
  {
   "cell_type": "markdown",
   "metadata": {},
   "source": [
    "In the Step Function dashboard for your new function, you can create new executions and copy in the generated test cases. Do several executions so that you can generate data you can evaluate and visualize.\n",
    "\n",
    "Once you've done several executions, let's visualize the record of our inferences. Pull in the JSONLines data from your inferences like so:"
   ]
  },
  {
   "cell_type": "code",
   "execution_count": 176,
   "metadata": {},
   "outputs": [],
   "source": [
    "# In S3 your data will be saved to a datetime-aware path\n",
    "# Find a path related to a datetime you're interested in\n",
    "data_path = \"s3://srs-udacity-aws-2022/data_capture/image-classification-2022-04-20-09-06-00-803/AllTraffic/2022/04/23/07/\"\n",
    "\n",
    "S3Downloader.download(data_path, \"captured_data\")"
   ]
  },
  {
   "cell_type": "markdown",
   "metadata": {},
   "source": [
    "The data are in JSONLines format, where multiple valid JSON objects are stacked on top of eachother in a single `jsonl` file. We'll import an open-source library, `jsonlines` that was purpose built for parsing this format."
   ]
  },
  {
   "cell_type": "markdown",
   "metadata": {},
   "source": [
    "Now we can extract the data from each of the source files:"
   ]
  },
  {
   "cell_type": "code",
   "execution_count": null,
   "metadata": {},
   "outputs": [],
   "source": [
    "def label_encoder (x):\n",
    "    if x >= 0.5:\n",
    "        return 'motorcycle'\n",
    "    elif x < 0.5:\n",
    "        return 'bicycle'"
   ]
  },
  {
   "cell_type": "code",
   "execution_count": 266,
   "metadata": {},
   "outputs": [
    {
     "name": "stdout",
     "output_type": "stream",
     "text": [
      "./captured_data/21-58-290-36b2080d-5be8-4780-8afd-17137628c973.jsonl\n",
      "(50, 3)\n",
      "./captured_data/25-00-749-69cef804-b787-44eb-8a5a-2303e4b76b20.jsonl\n",
      "(100, 3)\n",
      "./captured_data/26-01-738-d4a459e1-0196-469d-90cd-b771c054cc3e.jsonl\n",
      "(150, 3)\n",
      "./captured_data/52-57-229-65265b52-0a9e-4b17-9d26-bbf22ec0bd82.jsonl\n",
      "(200, 3)\n",
      "./captured_data/51-56-754-911cae9d-34b0-4cd3-b271-46238ba9094a.jsonl\n",
      "(250, 3)\n",
      "./captured_data/23-59-560-b1119209-9a21-4bf2-9940-5b4952a2d6b7.jsonl\n",
      "(300, 3)\n",
      "./captured_data/27-02-395-bf8369f0-e570-4589-9a5e-afd7d46f9f30.jsonl\n",
      "(350, 3)\n",
      "./captured_data/20-57-257-ec9a22e7-3f95-4130-9cc0-46195fb7dd87.jsonl\n",
      "(400, 3)\n",
      "./captured_data/22-58-366-65376284-fcd7-43d0-8608-aafe02a68000.jsonl\n",
      "(450, 3)\n",
      "(450, 6)\n"
     ]
    },
    {
     "data": {
      "text/html": [
       "<div>\n",
       "<style scoped>\n",
       "    .dataframe tbody tr th:only-of-type {\n",
       "        vertical-align: middle;\n",
       "    }\n",
       "\n",
       "    .dataframe tbody tr th {\n",
       "        vertical-align: top;\n",
       "    }\n",
       "\n",
       "    .dataframe thead th {\n",
       "        text-align: right;\n",
       "    }\n",
       "</style>\n",
       "<table border=\"1\" class=\"dataframe\">\n",
       "  <thead>\n",
       "    <tr style=\"text-align: right;\">\n",
       "      <th></th>\n",
       "      <th>captureData</th>\n",
       "      <th>eventMetadata</th>\n",
       "      <th>eventVersion</th>\n",
       "      <th>time_stamp</th>\n",
       "      <th>prob_motorcycle</th>\n",
       "      <th>lable</th>\n",
       "    </tr>\n",
       "  </thead>\n",
       "  <tbody>\n",
       "    <tr>\n",
       "      <th>0</th>\n",
       "      <td>{'endpointInput': {'observedContentType': 'ima...</td>\n",
       "      <td>{'eventId': '533c6934-40ca-4d35-ad19-89a50c281...</td>\n",
       "      <td>0</td>\n",
       "      <td>2022-04-23 07:25:00+00:00</td>\n",
       "      <td>0.021556</td>\n",
       "      <td>bicycle</td>\n",
       "    </tr>\n",
       "    <tr>\n",
       "      <th>1</th>\n",
       "      <td>{'endpointInput': {'observedContentType': 'ima...</td>\n",
       "      <td>{'eventId': '46dcf39a-cded-4a57-b1b4-3a548c825...</td>\n",
       "      <td>0</td>\n",
       "      <td>2022-04-23 07:25:01+00:00</td>\n",
       "      <td>0.903406</td>\n",
       "      <td>motorcycle</td>\n",
       "    </tr>\n",
       "  </tbody>\n",
       "</table>\n",
       "</div>"
      ],
      "text/plain": [
       "                                         captureData  \\\n",
       "0  {'endpointInput': {'observedContentType': 'ima...   \n",
       "1  {'endpointInput': {'observedContentType': 'ima...   \n",
       "\n",
       "                                       eventMetadata  eventVersion  \\\n",
       "0  {'eventId': '533c6934-40ca-4d35-ad19-89a50c281...             0   \n",
       "1  {'eventId': '46dcf39a-cded-4a57-b1b4-3a548c825...             0   \n",
       "\n",
       "                 time_stamp  prob_motorcycle       lable  \n",
       "0 2022-04-23 07:25:00+00:00         0.021556     bicycle  \n",
       "1 2022-04-23 07:25:01+00:00         0.903406  motorcycle  "
      ]
     },
     "execution_count": 266,
     "metadata": {},
     "output_type": "execute_result"
    }
   ],
   "source": [
    "df = pd.DataFrame()\n",
    "\n",
    "for name in glob.glob('./captured_data/*.jsonl'):\n",
    "    df1 = pd.read_json(path_or_buf=file_path, lines=True)\n",
    "    df = df.append(df1)\n",
    "    print(name)\n",
    "    print(df.shape)\n",
    "df['time_stamp'] = df.eventMetadata.apply(lambda x: x[\"inferenceTime\"])\n",
    "df['time_stamp'] = pd.to_datetime(df['time_stamp'] )\n",
    "df['prob_motorcycle'] = df.captureData.apply(lambda x: json.loads(x['endpointOutput']['data'])[1])\n",
    "df['lable'] = df.prob_motorcycle.apply(label_encoder)\n",
    "\n",
    "print(df.shape)\n",
    "df.head(2)"
   ]
  },
  {
   "cell_type": "markdown",
   "metadata": {},
   "source": [
    "The data should now be a list of dictionaries, with significant nesting. We'll give you an example of some code that grabs data out of the objects and visualizes it:"
   ]
  },
  {
   "cell_type": "code",
   "execution_count": 268,
   "metadata": {},
   "outputs": [],
   "source": [
    "df_plot = pd.DataFrame(df.lable.value_counts())\n",
    "df_plot.reset_index(inplace = True)"
   ]
  },
  {
   "cell_type": "code",
   "execution_count": 269,
   "metadata": {},
   "outputs": [
    {
     "data": {
      "application/vnd.plotly.v1+json": {
       "config": {
        "plotlyServerURL": "https://plot.ly"
       },
       "data": [
        {
         "alignmentgroup": "True",
         "hovertemplate": "index=%{x}<br>lable=%{y}<extra></extra>",
         "legendgroup": "",
         "marker": {
          "color": "#636efa",
          "pattern": {
           "shape": ""
          }
         },
         "name": "",
         "offsetgroup": "",
         "orientation": "v",
         "showlegend": false,
         "textposition": "auto",
         "type": "bar",
         "x": [
          "motorcycle",
          "bicycle"
         ],
         "xaxis": "x",
         "y": [
          225,
          225
         ],
         "yaxis": "y"
        }
       ],
       "layout": {
        "barmode": "relative",
        "legend": {
         "tracegroupgap": 0
        },
        "margin": {
         "t": 60
        },
        "template": {
         "data": {
          "bar": [
           {
            "error_x": {
             "color": "#2a3f5f"
            },
            "error_y": {
             "color": "#2a3f5f"
            },
            "marker": {
             "line": {
              "color": "#E5ECF6",
              "width": 0.5
             },
             "pattern": {
              "fillmode": "overlay",
              "size": 10,
              "solidity": 0.2
             }
            },
            "type": "bar"
           }
          ],
          "barpolar": [
           {
            "marker": {
             "line": {
              "color": "#E5ECF6",
              "width": 0.5
             },
             "pattern": {
              "fillmode": "overlay",
              "size": 10,
              "solidity": 0.2
             }
            },
            "type": "barpolar"
           }
          ],
          "carpet": [
           {
            "aaxis": {
             "endlinecolor": "#2a3f5f",
             "gridcolor": "white",
             "linecolor": "white",
             "minorgridcolor": "white",
             "startlinecolor": "#2a3f5f"
            },
            "baxis": {
             "endlinecolor": "#2a3f5f",
             "gridcolor": "white",
             "linecolor": "white",
             "minorgridcolor": "white",
             "startlinecolor": "#2a3f5f"
            },
            "type": "carpet"
           }
          ],
          "choropleth": [
           {
            "colorbar": {
             "outlinewidth": 0,
             "ticks": ""
            },
            "type": "choropleth"
           }
          ],
          "contour": [
           {
            "colorbar": {
             "outlinewidth": 0,
             "ticks": ""
            },
            "colorscale": [
             [
              0,
              "#0d0887"
             ],
             [
              0.1111111111111111,
              "#46039f"
             ],
             [
              0.2222222222222222,
              "#7201a8"
             ],
             [
              0.3333333333333333,
              "#9c179e"
             ],
             [
              0.4444444444444444,
              "#bd3786"
             ],
             [
              0.5555555555555556,
              "#d8576b"
             ],
             [
              0.6666666666666666,
              "#ed7953"
             ],
             [
              0.7777777777777778,
              "#fb9f3a"
             ],
             [
              0.8888888888888888,
              "#fdca26"
             ],
             [
              1,
              "#f0f921"
             ]
            ],
            "type": "contour"
           }
          ],
          "contourcarpet": [
           {
            "colorbar": {
             "outlinewidth": 0,
             "ticks": ""
            },
            "type": "contourcarpet"
           }
          ],
          "heatmap": [
           {
            "colorbar": {
             "outlinewidth": 0,
             "ticks": ""
            },
            "colorscale": [
             [
              0,
              "#0d0887"
             ],
             [
              0.1111111111111111,
              "#46039f"
             ],
             [
              0.2222222222222222,
              "#7201a8"
             ],
             [
              0.3333333333333333,
              "#9c179e"
             ],
             [
              0.4444444444444444,
              "#bd3786"
             ],
             [
              0.5555555555555556,
              "#d8576b"
             ],
             [
              0.6666666666666666,
              "#ed7953"
             ],
             [
              0.7777777777777778,
              "#fb9f3a"
             ],
             [
              0.8888888888888888,
              "#fdca26"
             ],
             [
              1,
              "#f0f921"
             ]
            ],
            "type": "heatmap"
           }
          ],
          "heatmapgl": [
           {
            "colorbar": {
             "outlinewidth": 0,
             "ticks": ""
            },
            "colorscale": [
             [
              0,
              "#0d0887"
             ],
             [
              0.1111111111111111,
              "#46039f"
             ],
             [
              0.2222222222222222,
              "#7201a8"
             ],
             [
              0.3333333333333333,
              "#9c179e"
             ],
             [
              0.4444444444444444,
              "#bd3786"
             ],
             [
              0.5555555555555556,
              "#d8576b"
             ],
             [
              0.6666666666666666,
              "#ed7953"
             ],
             [
              0.7777777777777778,
              "#fb9f3a"
             ],
             [
              0.8888888888888888,
              "#fdca26"
             ],
             [
              1,
              "#f0f921"
             ]
            ],
            "type": "heatmapgl"
           }
          ],
          "histogram": [
           {
            "marker": {
             "pattern": {
              "fillmode": "overlay",
              "size": 10,
              "solidity": 0.2
             }
            },
            "type": "histogram"
           }
          ],
          "histogram2d": [
           {
            "colorbar": {
             "outlinewidth": 0,
             "ticks": ""
            },
            "colorscale": [
             [
              0,
              "#0d0887"
             ],
             [
              0.1111111111111111,
              "#46039f"
             ],
             [
              0.2222222222222222,
              "#7201a8"
             ],
             [
              0.3333333333333333,
              "#9c179e"
             ],
             [
              0.4444444444444444,
              "#bd3786"
             ],
             [
              0.5555555555555556,
              "#d8576b"
             ],
             [
              0.6666666666666666,
              "#ed7953"
             ],
             [
              0.7777777777777778,
              "#fb9f3a"
             ],
             [
              0.8888888888888888,
              "#fdca26"
             ],
             [
              1,
              "#f0f921"
             ]
            ],
            "type": "histogram2d"
           }
          ],
          "histogram2dcontour": [
           {
            "colorbar": {
             "outlinewidth": 0,
             "ticks": ""
            },
            "colorscale": [
             [
              0,
              "#0d0887"
             ],
             [
              0.1111111111111111,
              "#46039f"
             ],
             [
              0.2222222222222222,
              "#7201a8"
             ],
             [
              0.3333333333333333,
              "#9c179e"
             ],
             [
              0.4444444444444444,
              "#bd3786"
             ],
             [
              0.5555555555555556,
              "#d8576b"
             ],
             [
              0.6666666666666666,
              "#ed7953"
             ],
             [
              0.7777777777777778,
              "#fb9f3a"
             ],
             [
              0.8888888888888888,
              "#fdca26"
             ],
             [
              1,
              "#f0f921"
             ]
            ],
            "type": "histogram2dcontour"
           }
          ],
          "mesh3d": [
           {
            "colorbar": {
             "outlinewidth": 0,
             "ticks": ""
            },
            "type": "mesh3d"
           }
          ],
          "parcoords": [
           {
            "line": {
             "colorbar": {
              "outlinewidth": 0,
              "ticks": ""
             }
            },
            "type": "parcoords"
           }
          ],
          "pie": [
           {
            "automargin": true,
            "type": "pie"
           }
          ],
          "scatter": [
           {
            "marker": {
             "colorbar": {
              "outlinewidth": 0,
              "ticks": ""
             }
            },
            "type": "scatter"
           }
          ],
          "scatter3d": [
           {
            "line": {
             "colorbar": {
              "outlinewidth": 0,
              "ticks": ""
             }
            },
            "marker": {
             "colorbar": {
              "outlinewidth": 0,
              "ticks": ""
             }
            },
            "type": "scatter3d"
           }
          ],
          "scattercarpet": [
           {
            "marker": {
             "colorbar": {
              "outlinewidth": 0,
              "ticks": ""
             }
            },
            "type": "scattercarpet"
           }
          ],
          "scattergeo": [
           {
            "marker": {
             "colorbar": {
              "outlinewidth": 0,
              "ticks": ""
             }
            },
            "type": "scattergeo"
           }
          ],
          "scattergl": [
           {
            "marker": {
             "colorbar": {
              "outlinewidth": 0,
              "ticks": ""
             }
            },
            "type": "scattergl"
           }
          ],
          "scattermapbox": [
           {
            "marker": {
             "colorbar": {
              "outlinewidth": 0,
              "ticks": ""
             }
            },
            "type": "scattermapbox"
           }
          ],
          "scatterpolar": [
           {
            "marker": {
             "colorbar": {
              "outlinewidth": 0,
              "ticks": ""
             }
            },
            "type": "scatterpolar"
           }
          ],
          "scatterpolargl": [
           {
            "marker": {
             "colorbar": {
              "outlinewidth": 0,
              "ticks": ""
             }
            },
            "type": "scatterpolargl"
           }
          ],
          "scatterternary": [
           {
            "marker": {
             "colorbar": {
              "outlinewidth": 0,
              "ticks": ""
             }
            },
            "type": "scatterternary"
           }
          ],
          "surface": [
           {
            "colorbar": {
             "outlinewidth": 0,
             "ticks": ""
            },
            "colorscale": [
             [
              0,
              "#0d0887"
             ],
             [
              0.1111111111111111,
              "#46039f"
             ],
             [
              0.2222222222222222,
              "#7201a8"
             ],
             [
              0.3333333333333333,
              "#9c179e"
             ],
             [
              0.4444444444444444,
              "#bd3786"
             ],
             [
              0.5555555555555556,
              "#d8576b"
             ],
             [
              0.6666666666666666,
              "#ed7953"
             ],
             [
              0.7777777777777778,
              "#fb9f3a"
             ],
             [
              0.8888888888888888,
              "#fdca26"
             ],
             [
              1,
              "#f0f921"
             ]
            ],
            "type": "surface"
           }
          ],
          "table": [
           {
            "cells": {
             "fill": {
              "color": "#EBF0F8"
             },
             "line": {
              "color": "white"
             }
            },
            "header": {
             "fill": {
              "color": "#C8D4E3"
             },
             "line": {
              "color": "white"
             }
            },
            "type": "table"
           }
          ]
         },
         "layout": {
          "annotationdefaults": {
           "arrowcolor": "#2a3f5f",
           "arrowhead": 0,
           "arrowwidth": 1
          },
          "autotypenumbers": "strict",
          "coloraxis": {
           "colorbar": {
            "outlinewidth": 0,
            "ticks": ""
           }
          },
          "colorscale": {
           "diverging": [
            [
             0,
             "#8e0152"
            ],
            [
             0.1,
             "#c51b7d"
            ],
            [
             0.2,
             "#de77ae"
            ],
            [
             0.3,
             "#f1b6da"
            ],
            [
             0.4,
             "#fde0ef"
            ],
            [
             0.5,
             "#f7f7f7"
            ],
            [
             0.6,
             "#e6f5d0"
            ],
            [
             0.7,
             "#b8e186"
            ],
            [
             0.8,
             "#7fbc41"
            ],
            [
             0.9,
             "#4d9221"
            ],
            [
             1,
             "#276419"
            ]
           ],
           "sequential": [
            [
             0,
             "#0d0887"
            ],
            [
             0.1111111111111111,
             "#46039f"
            ],
            [
             0.2222222222222222,
             "#7201a8"
            ],
            [
             0.3333333333333333,
             "#9c179e"
            ],
            [
             0.4444444444444444,
             "#bd3786"
            ],
            [
             0.5555555555555556,
             "#d8576b"
            ],
            [
             0.6666666666666666,
             "#ed7953"
            ],
            [
             0.7777777777777778,
             "#fb9f3a"
            ],
            [
             0.8888888888888888,
             "#fdca26"
            ],
            [
             1,
             "#f0f921"
            ]
           ],
           "sequentialminus": [
            [
             0,
             "#0d0887"
            ],
            [
             0.1111111111111111,
             "#46039f"
            ],
            [
             0.2222222222222222,
             "#7201a8"
            ],
            [
             0.3333333333333333,
             "#9c179e"
            ],
            [
             0.4444444444444444,
             "#bd3786"
            ],
            [
             0.5555555555555556,
             "#d8576b"
            ],
            [
             0.6666666666666666,
             "#ed7953"
            ],
            [
             0.7777777777777778,
             "#fb9f3a"
            ],
            [
             0.8888888888888888,
             "#fdca26"
            ],
            [
             1,
             "#f0f921"
            ]
           ]
          },
          "colorway": [
           "#636efa",
           "#EF553B",
           "#00cc96",
           "#ab63fa",
           "#FFA15A",
           "#19d3f3",
           "#FF6692",
           "#B6E880",
           "#FF97FF",
           "#FECB52"
          ],
          "font": {
           "color": "#2a3f5f"
          },
          "geo": {
           "bgcolor": "white",
           "lakecolor": "white",
           "landcolor": "#E5ECF6",
           "showlakes": true,
           "showland": true,
           "subunitcolor": "white"
          },
          "hoverlabel": {
           "align": "left"
          },
          "hovermode": "closest",
          "mapbox": {
           "style": "light"
          },
          "paper_bgcolor": "white",
          "plot_bgcolor": "#E5ECF6",
          "polar": {
           "angularaxis": {
            "gridcolor": "white",
            "linecolor": "white",
            "ticks": ""
           },
           "bgcolor": "#E5ECF6",
           "radialaxis": {
            "gridcolor": "white",
            "linecolor": "white",
            "ticks": ""
           }
          },
          "scene": {
           "xaxis": {
            "backgroundcolor": "#E5ECF6",
            "gridcolor": "white",
            "gridwidth": 2,
            "linecolor": "white",
            "showbackground": true,
            "ticks": "",
            "zerolinecolor": "white"
           },
           "yaxis": {
            "backgroundcolor": "#E5ECF6",
            "gridcolor": "white",
            "gridwidth": 2,
            "linecolor": "white",
            "showbackground": true,
            "ticks": "",
            "zerolinecolor": "white"
           },
           "zaxis": {
            "backgroundcolor": "#E5ECF6",
            "gridcolor": "white",
            "gridwidth": 2,
            "linecolor": "white",
            "showbackground": true,
            "ticks": "",
            "zerolinecolor": "white"
           }
          },
          "shapedefaults": {
           "line": {
            "color": "#2a3f5f"
           }
          },
          "ternary": {
           "aaxis": {
            "gridcolor": "white",
            "linecolor": "white",
            "ticks": ""
           },
           "baxis": {
            "gridcolor": "white",
            "linecolor": "white",
            "ticks": ""
           },
           "bgcolor": "#E5ECF6",
           "caxis": {
            "gridcolor": "white",
            "linecolor": "white",
            "ticks": ""
           }
          },
          "title": {
           "x": 0.05
          },
          "xaxis": {
           "automargin": true,
           "gridcolor": "white",
           "linecolor": "white",
           "ticks": "",
           "title": {
            "standoff": 15
           },
           "zerolinecolor": "white",
           "zerolinewidth": 2
          },
          "yaxis": {
           "automargin": true,
           "gridcolor": "white",
           "linecolor": "white",
           "ticks": "",
           "title": {
            "standoff": 15
           },
           "zerolinecolor": "white",
           "zerolinewidth": 2
          }
         }
        },
        "xaxis": {
         "anchor": "y",
         "domain": [
          0,
          1
         ],
         "title": {
          "text": "index"
         }
        },
        "yaxis": {
         "anchor": "x",
         "domain": [
          0,
          1
         ],
         "title": {
          "text": "lable"
         }
        }
       }
      },
      "text/html": [
       "<div>                            <div id=\"2e79c619-8554-4b3b-a912-d70230cd8d6c\" class=\"plotly-graph-div\" style=\"height:525px; width:100%;\"></div>            <script type=\"text/javascript\">                require([\"plotly\"], function(Plotly) {                    window.PLOTLYENV=window.PLOTLYENV || {};                                    if (document.getElementById(\"2e79c619-8554-4b3b-a912-d70230cd8d6c\")) {                    Plotly.newPlot(                        \"2e79c619-8554-4b3b-a912-d70230cd8d6c\",                        [{\"alignmentgroup\":\"True\",\"hovertemplate\":\"index=%{x}<br>lable=%{y}<extra></extra>\",\"legendgroup\":\"\",\"marker\":{\"color\":\"#636efa\",\"pattern\":{\"shape\":\"\"}},\"name\":\"\",\"offsetgroup\":\"\",\"orientation\":\"v\",\"showlegend\":false,\"textposition\":\"auto\",\"x\":[\"motorcycle\",\"bicycle\"],\"xaxis\":\"x\",\"y\":[225,225],\"yaxis\":\"y\",\"type\":\"bar\"}],                        {\"template\":{\"data\":{\"bar\":[{\"error_x\":{\"color\":\"#2a3f5f\"},\"error_y\":{\"color\":\"#2a3f5f\"},\"marker\":{\"line\":{\"color\":\"#E5ECF6\",\"width\":0.5},\"pattern\":{\"fillmode\":\"overlay\",\"size\":10,\"solidity\":0.2}},\"type\":\"bar\"}],\"barpolar\":[{\"marker\":{\"line\":{\"color\":\"#E5ECF6\",\"width\":0.5},\"pattern\":{\"fillmode\":\"overlay\",\"size\":10,\"solidity\":0.2}},\"type\":\"barpolar\"}],\"carpet\":[{\"aaxis\":{\"endlinecolor\":\"#2a3f5f\",\"gridcolor\":\"white\",\"linecolor\":\"white\",\"minorgridcolor\":\"white\",\"startlinecolor\":\"#2a3f5f\"},\"baxis\":{\"endlinecolor\":\"#2a3f5f\",\"gridcolor\":\"white\",\"linecolor\":\"white\",\"minorgridcolor\":\"white\",\"startlinecolor\":\"#2a3f5f\"},\"type\":\"carpet\"}],\"choropleth\":[{\"colorbar\":{\"outlinewidth\":0,\"ticks\":\"\"},\"type\":\"choropleth\"}],\"contour\":[{\"colorbar\":{\"outlinewidth\":0,\"ticks\":\"\"},\"colorscale\":[[0.0,\"#0d0887\"],[0.1111111111111111,\"#46039f\"],[0.2222222222222222,\"#7201a8\"],[0.3333333333333333,\"#9c179e\"],[0.4444444444444444,\"#bd3786\"],[0.5555555555555556,\"#d8576b\"],[0.6666666666666666,\"#ed7953\"],[0.7777777777777778,\"#fb9f3a\"],[0.8888888888888888,\"#fdca26\"],[1.0,\"#f0f921\"]],\"type\":\"contour\"}],\"contourcarpet\":[{\"colorbar\":{\"outlinewidth\":0,\"ticks\":\"\"},\"type\":\"contourcarpet\"}],\"heatmap\":[{\"colorbar\":{\"outlinewidth\":0,\"ticks\":\"\"},\"colorscale\":[[0.0,\"#0d0887\"],[0.1111111111111111,\"#46039f\"],[0.2222222222222222,\"#7201a8\"],[0.3333333333333333,\"#9c179e\"],[0.4444444444444444,\"#bd3786\"],[0.5555555555555556,\"#d8576b\"],[0.6666666666666666,\"#ed7953\"],[0.7777777777777778,\"#fb9f3a\"],[0.8888888888888888,\"#fdca26\"],[1.0,\"#f0f921\"]],\"type\":\"heatmap\"}],\"heatmapgl\":[{\"colorbar\":{\"outlinewidth\":0,\"ticks\":\"\"},\"colorscale\":[[0.0,\"#0d0887\"],[0.1111111111111111,\"#46039f\"],[0.2222222222222222,\"#7201a8\"],[0.3333333333333333,\"#9c179e\"],[0.4444444444444444,\"#bd3786\"],[0.5555555555555556,\"#d8576b\"],[0.6666666666666666,\"#ed7953\"],[0.7777777777777778,\"#fb9f3a\"],[0.8888888888888888,\"#fdca26\"],[1.0,\"#f0f921\"]],\"type\":\"heatmapgl\"}],\"histogram\":[{\"marker\":{\"pattern\":{\"fillmode\":\"overlay\",\"size\":10,\"solidity\":0.2}},\"type\":\"histogram\"}],\"histogram2d\":[{\"colorbar\":{\"outlinewidth\":0,\"ticks\":\"\"},\"colorscale\":[[0.0,\"#0d0887\"],[0.1111111111111111,\"#46039f\"],[0.2222222222222222,\"#7201a8\"],[0.3333333333333333,\"#9c179e\"],[0.4444444444444444,\"#bd3786\"],[0.5555555555555556,\"#d8576b\"],[0.6666666666666666,\"#ed7953\"],[0.7777777777777778,\"#fb9f3a\"],[0.8888888888888888,\"#fdca26\"],[1.0,\"#f0f921\"]],\"type\":\"histogram2d\"}],\"histogram2dcontour\":[{\"colorbar\":{\"outlinewidth\":0,\"ticks\":\"\"},\"colorscale\":[[0.0,\"#0d0887\"],[0.1111111111111111,\"#46039f\"],[0.2222222222222222,\"#7201a8\"],[0.3333333333333333,\"#9c179e\"],[0.4444444444444444,\"#bd3786\"],[0.5555555555555556,\"#d8576b\"],[0.6666666666666666,\"#ed7953\"],[0.7777777777777778,\"#fb9f3a\"],[0.8888888888888888,\"#fdca26\"],[1.0,\"#f0f921\"]],\"type\":\"histogram2dcontour\"}],\"mesh3d\":[{\"colorbar\":{\"outlinewidth\":0,\"ticks\":\"\"},\"type\":\"mesh3d\"}],\"parcoords\":[{\"line\":{\"colorbar\":{\"outlinewidth\":0,\"ticks\":\"\"}},\"type\":\"parcoords\"}],\"pie\":[{\"automargin\":true,\"type\":\"pie\"}],\"scatter\":[{\"marker\":{\"colorbar\":{\"outlinewidth\":0,\"ticks\":\"\"}},\"type\":\"scatter\"}],\"scatter3d\":[{\"line\":{\"colorbar\":{\"outlinewidth\":0,\"ticks\":\"\"}},\"marker\":{\"colorbar\":{\"outlinewidth\":0,\"ticks\":\"\"}},\"type\":\"scatter3d\"}],\"scattercarpet\":[{\"marker\":{\"colorbar\":{\"outlinewidth\":0,\"ticks\":\"\"}},\"type\":\"scattercarpet\"}],\"scattergeo\":[{\"marker\":{\"colorbar\":{\"outlinewidth\":0,\"ticks\":\"\"}},\"type\":\"scattergeo\"}],\"scattergl\":[{\"marker\":{\"colorbar\":{\"outlinewidth\":0,\"ticks\":\"\"}},\"type\":\"scattergl\"}],\"scattermapbox\":[{\"marker\":{\"colorbar\":{\"outlinewidth\":0,\"ticks\":\"\"}},\"type\":\"scattermapbox\"}],\"scatterpolar\":[{\"marker\":{\"colorbar\":{\"outlinewidth\":0,\"ticks\":\"\"}},\"type\":\"scatterpolar\"}],\"scatterpolargl\":[{\"marker\":{\"colorbar\":{\"outlinewidth\":0,\"ticks\":\"\"}},\"type\":\"scatterpolargl\"}],\"scatterternary\":[{\"marker\":{\"colorbar\":{\"outlinewidth\":0,\"ticks\":\"\"}},\"type\":\"scatterternary\"}],\"surface\":[{\"colorbar\":{\"outlinewidth\":0,\"ticks\":\"\"},\"colorscale\":[[0.0,\"#0d0887\"],[0.1111111111111111,\"#46039f\"],[0.2222222222222222,\"#7201a8\"],[0.3333333333333333,\"#9c179e\"],[0.4444444444444444,\"#bd3786\"],[0.5555555555555556,\"#d8576b\"],[0.6666666666666666,\"#ed7953\"],[0.7777777777777778,\"#fb9f3a\"],[0.8888888888888888,\"#fdca26\"],[1.0,\"#f0f921\"]],\"type\":\"surface\"}],\"table\":[{\"cells\":{\"fill\":{\"color\":\"#EBF0F8\"},\"line\":{\"color\":\"white\"}},\"header\":{\"fill\":{\"color\":\"#C8D4E3\"},\"line\":{\"color\":\"white\"}},\"type\":\"table\"}]},\"layout\":{\"annotationdefaults\":{\"arrowcolor\":\"#2a3f5f\",\"arrowhead\":0,\"arrowwidth\":1},\"autotypenumbers\":\"strict\",\"coloraxis\":{\"colorbar\":{\"outlinewidth\":0,\"ticks\":\"\"}},\"colorscale\":{\"diverging\":[[0,\"#8e0152\"],[0.1,\"#c51b7d\"],[0.2,\"#de77ae\"],[0.3,\"#f1b6da\"],[0.4,\"#fde0ef\"],[0.5,\"#f7f7f7\"],[0.6,\"#e6f5d0\"],[0.7,\"#b8e186\"],[0.8,\"#7fbc41\"],[0.9,\"#4d9221\"],[1,\"#276419\"]],\"sequential\":[[0.0,\"#0d0887\"],[0.1111111111111111,\"#46039f\"],[0.2222222222222222,\"#7201a8\"],[0.3333333333333333,\"#9c179e\"],[0.4444444444444444,\"#bd3786\"],[0.5555555555555556,\"#d8576b\"],[0.6666666666666666,\"#ed7953\"],[0.7777777777777778,\"#fb9f3a\"],[0.8888888888888888,\"#fdca26\"],[1.0,\"#f0f921\"]],\"sequentialminus\":[[0.0,\"#0d0887\"],[0.1111111111111111,\"#46039f\"],[0.2222222222222222,\"#7201a8\"],[0.3333333333333333,\"#9c179e\"],[0.4444444444444444,\"#bd3786\"],[0.5555555555555556,\"#d8576b\"],[0.6666666666666666,\"#ed7953\"],[0.7777777777777778,\"#fb9f3a\"],[0.8888888888888888,\"#fdca26\"],[1.0,\"#f0f921\"]]},\"colorway\":[\"#636efa\",\"#EF553B\",\"#00cc96\",\"#ab63fa\",\"#FFA15A\",\"#19d3f3\",\"#FF6692\",\"#B6E880\",\"#FF97FF\",\"#FECB52\"],\"font\":{\"color\":\"#2a3f5f\"},\"geo\":{\"bgcolor\":\"white\",\"lakecolor\":\"white\",\"landcolor\":\"#E5ECF6\",\"showlakes\":true,\"showland\":true,\"subunitcolor\":\"white\"},\"hoverlabel\":{\"align\":\"left\"},\"hovermode\":\"closest\",\"mapbox\":{\"style\":\"light\"},\"paper_bgcolor\":\"white\",\"plot_bgcolor\":\"#E5ECF6\",\"polar\":{\"angularaxis\":{\"gridcolor\":\"white\",\"linecolor\":\"white\",\"ticks\":\"\"},\"bgcolor\":\"#E5ECF6\",\"radialaxis\":{\"gridcolor\":\"white\",\"linecolor\":\"white\",\"ticks\":\"\"}},\"scene\":{\"xaxis\":{\"backgroundcolor\":\"#E5ECF6\",\"gridcolor\":\"white\",\"gridwidth\":2,\"linecolor\":\"white\",\"showbackground\":true,\"ticks\":\"\",\"zerolinecolor\":\"white\"},\"yaxis\":{\"backgroundcolor\":\"#E5ECF6\",\"gridcolor\":\"white\",\"gridwidth\":2,\"linecolor\":\"white\",\"showbackground\":true,\"ticks\":\"\",\"zerolinecolor\":\"white\"},\"zaxis\":{\"backgroundcolor\":\"#E5ECF6\",\"gridcolor\":\"white\",\"gridwidth\":2,\"linecolor\":\"white\",\"showbackground\":true,\"ticks\":\"\",\"zerolinecolor\":\"white\"}},\"shapedefaults\":{\"line\":{\"color\":\"#2a3f5f\"}},\"ternary\":{\"aaxis\":{\"gridcolor\":\"white\",\"linecolor\":\"white\",\"ticks\":\"\"},\"baxis\":{\"gridcolor\":\"white\",\"linecolor\":\"white\",\"ticks\":\"\"},\"bgcolor\":\"#E5ECF6\",\"caxis\":{\"gridcolor\":\"white\",\"linecolor\":\"white\",\"ticks\":\"\"}},\"title\":{\"x\":0.05},\"xaxis\":{\"automargin\":true,\"gridcolor\":\"white\",\"linecolor\":\"white\",\"ticks\":\"\",\"title\":{\"standoff\":15},\"zerolinecolor\":\"white\",\"zerolinewidth\":2},\"yaxis\":{\"automargin\":true,\"gridcolor\":\"white\",\"linecolor\":\"white\",\"ticks\":\"\",\"title\":{\"standoff\":15},\"zerolinecolor\":\"white\",\"zerolinewidth\":2}}},\"xaxis\":{\"anchor\":\"y\",\"domain\":[0.0,1.0],\"title\":{\"text\":\"index\"}},\"yaxis\":{\"anchor\":\"x\",\"domain\":[0.0,1.0],\"title\":{\"text\":\"lable\"}},\"legend\":{\"tracegroupgap\":0},\"margin\":{\"t\":60},\"barmode\":\"relative\"},                        {\"responsive\": true}                    ).then(function(){\n",
       "                            \n",
       "var gd = document.getElementById('2e79c619-8554-4b3b-a912-d70230cd8d6c');\n",
       "var x = new MutationObserver(function (mutations, observer) {{\n",
       "        var display = window.getComputedStyle(gd).display;\n",
       "        if (!display || display === 'none') {{\n",
       "            console.log([gd, 'removed!']);\n",
       "            Plotly.purge(gd);\n",
       "            observer.disconnect();\n",
       "        }}\n",
       "}});\n",
       "\n",
       "// Listen for the removal of the full notebook cells\n",
       "var notebookContainer = gd.closest('#notebook-container');\n",
       "if (notebookContainer) {{\n",
       "    x.observe(notebookContainer, {childList: true});\n",
       "}}\n",
       "\n",
       "// Listen for the clearing of the current output cell\n",
       "var outputEl = gd.closest('.output');\n",
       "if (outputEl) {{\n",
       "    x.observe(outputEl, {childList: true});\n",
       "}}\n",
       "\n",
       "                        })                };                });            </script>        </div>"
      ]
     },
     "metadata": {},
     "output_type": "display_data"
    }
   ],
   "source": [
    "fig = px.bar(df_plot, x='index', y='lable')\n",
    "fig.show()"
   ]
  },
  {
   "cell_type": "markdown",
   "metadata": {},
   "source": [
    "Finally, here's an example of a visualization you can build with this data. In this last part, you will take some time and build your own - the captured data has the input images, the resulting inferences, and the timestamps."
   ]
  },
  {
   "cell_type": "code",
   "execution_count": 250,
   "metadata": {},
   "outputs": [
    {
     "data": {
      "image/png": "[encoded data removed]",
      "text/plain": [
       "<Figure size 432x288 with 1 Axes>"
      ]
     },
     "metadata": {},
     "output_type": "display_data"
    }
   ],
   "source": [
    "# Populate the data for the x and y axis\n",
    "x = df.time_stamp.to_list()\n",
    "y = df.prob_motorcycle.to_list()\n",
    "\n",
    "\n",
    "# Todo: here is an visualization example, take some time to build another visual that helps monitor the result\n",
    "# Plot the data\n",
    "plt.scatter(x, y, c=['r' if k<.5 else 'b' for k in y ])\n",
    "plt.axhline(y=0.5, color='g', linestyle='--')\n",
    "plt.ylim(bottom=0)\n",
    "\n",
    "# Add labels\n",
    "plt.ylabel(\"Confidence\")\n",
    "plt.suptitle(\"Observed Recent Inferences\", size=14)\n",
    "plt.title(\"Pictured with confidence threshold for production use\", size=10)\n",
    "\n",
    "# Give it some pizzaz!\n",
    "plt.style.use(\"Solarize_Light2\")\n",
    "plt.gcf().autofmt_xdate()"
   ]
  },
  {
   "cell_type": "code",
   "execution_count": null,
   "metadata": {},
   "outputs": [],
   "source": []
  }
 ],
 "metadata": {
  "instance_type": "ml.t3.medium",
  "kernelspec": {
   "display_name": "conda_python3",
   "language": "python",
   "name": "conda_python3"
  },
  "language_info": {
   "codemirror_mode": {
    "name": "ipython",
    "version": 3
   },
   "file_extension": ".py",
   "mimetype": "text/x-python",
   "name": "python",
   "nbconvert_exporter": "python",
   "pygments_lexer": "ipython3",
   "version": "3.6.13"
  }
 },
 "nbformat": 4,
 "nbformat_minor": 4
}
